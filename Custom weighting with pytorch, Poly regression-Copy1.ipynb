{
 "cells": [
  {
   "cell_type": "code",
   "execution_count": 1,
   "metadata": {},
   "outputs": [],
   "source": [
    "import pandas as pd\n",
    "import numpy as np\n",
    "import matplotlib.pyplot as plt\n",
    "from tqdm import tqdm, trange\n",
    "from utils import rmspe"
   ]
  },
  {
   "cell_type": "code",
   "execution_count": 2,
   "metadata": {},
   "outputs": [],
   "source": [
    "import torch \n",
    "from torch import optim"
   ]
  },
  {
   "cell_type": "code",
   "execution_count": 3,
   "metadata": {},
   "outputs": [],
   "source": [
    "from sklearn.model_selection import train_test_split"
   ]
  },
  {
   "cell_type": "code",
   "execution_count": 4,
   "metadata": {},
   "outputs": [],
   "source": [
    "train_targets = pd.read_csv('train.csv')"
   ]
  },
  {
   "cell_type": "code",
   "execution_count": 5,
   "metadata": {},
   "outputs": [],
   "source": [
    "import os\n",
    "import re\n",
    "stock_ids = sorted(\n",
    "    [int(re.sub('stock_id=', '', x)) for x in os.listdir('book_train.parquet')])\n"
   ]
  },
  {
   "cell_type": "code",
   "execution_count": 6,
   "metadata": {},
   "outputs": [],
   "source": [
    "stock_id = stock_ids[0]"
   ]
  },
  {
   "cell_type": "code",
   "execution_count": 12,
   "metadata": {},
   "outputs": [],
   "source": [
    "book = pd.read_parquet('book_train.parquet/stock_id=' + str(stock_id))\n",
    "trades = pd.read_parquet('trade_train.parquet/stock_id=' + str(stock_id))"
   ]
  },
  {
   "cell_type": "code",
   "execution_count": 13,
   "metadata": {},
   "outputs": [],
   "source": [
    "book['wap'] = (book['bid_price1'] * book['ask_size1'] + book['ask_price1'] * book['bid_size1']) / (\n",
    "    book['ask_size1'] + book['bid_size1'])\n",
    "    \n",
    "book['log_price'] = np.log(book['wap'])\n",
    "book['log_return'] = book.groupby(['time_id'])['log_price'].diff()\n",
    "book['square_return'] = book['log_return'] ** 2\n",
    "book = book[~book['log_return'].isnull()]\n",
    "book['stock_id'] = stock_id"
   ]
  },
  {
   "cell_type": "code",
   "execution_count": 15,
   "metadata": {},
   "outputs": [],
   "source": [
    "book = pd.merge(book, trades, how='left', on=['time_id', 'seconds_in_bucket'])"
   ]
  },
  {
   "cell_type": "code",
   "execution_count": 16,
   "metadata": {},
   "outputs": [],
   "source": [
    "book = pd.merge(book, train_targets, how='left', on=['time_id', 'stock_id'])"
   ]
  },
  {
   "cell_type": "code",
   "execution_count": 17,
   "metadata": {},
   "outputs": [],
   "source": [
    "X = pd.pivot_table(book, \n",
    "                   values='square_return', \n",
    "                   columns=['seconds_in_bucket'], \n",
    "                   index='time_id', aggfunc='last')\n",
    "\n",
    "X = X.fillna(0)\n",
    "y = train_targets[train_targets.stock_id == stock_id].set_index('time_id')['target'].loc[X.index]\n",
    "#X = X.values"
   ]
  },
  {
   "cell_type": "code",
   "execution_count": 19,
   "metadata": {},
   "outputs": [],
   "source": [
    "X1 = pd.pivot_table(book, \n",
    "                    values='order_count', \n",
    "                    columns=['seconds_in_bucket'], \n",
    "                    index='time_id', aggfunc='last')\n",
    "X1 = X1.fillna(0)"
   ]
  },
  {
   "cell_type": "code",
   "execution_count": 76,
   "metadata": {},
   "outputs": [],
   "source": [
    "#X = np.concatenate([X, X**2], axis=1)"
   ]
  },
  {
   "cell_type": "code",
   "execution_count": 132,
   "metadata": {},
   "outputs": [],
   "source": [
    "train_inds = np.random.choice(range(len(y)), replace=False, size=int(0.75*len(y)))\n",
    "test_inds = np.delete(range(len(y)), train_inds)\n",
    "\n",
    "X_train = X.values[train_inds]\n",
    "X_test = X.values[test_inds]\n",
    "\n",
    "X1_train = X1.values[train_inds]\n",
    "X1_test = X1.values[test_inds]\n",
    "\n",
    "y_train = y.values[train_inds]\n",
    "y_test = y.values[test_inds]\n",
    "\n",
    "X_train = torch.tensor(X_train)\n",
    "X_test = torch.tensor(X_test)\n",
    "\n",
    "\n",
    "X1_train = torch.tensor(X1_train, dtype=torch.float32)\n",
    "X1_test = torch.tensor(X1_test, dtype=torch.float32)\n",
    "\n",
    "y_train = torch.tensor(y_train)\n",
    "y_test = torch.tensor(y_test)"
   ]
  },
  {
   "cell_type": "code",
   "execution_count": 153,
   "metadata": {},
   "outputs": [],
   "source": [
    "weights = torch.zeros(X_train.shape[1], requires_grad=True)\n",
    "weights1 = torch.zeros(X1_train.shape[1], requires_grad=True)"
   ]
  },
  {
   "cell_type": "code",
   "execution_count": 154,
   "metadata": {},
   "outputs": [],
   "source": [
    "def my_loss(y_true, y_pred):\n",
    "    return torch.sqrt(torch.mean(torch.square((y_true - y_pred) / y_true)))"
   ]
  },
  {
   "cell_type": "code",
   "execution_count": 155,
   "metadata": {},
   "outputs": [],
   "source": [
    "opt = optim.Adam([weights, weights1], lr=0.01)\n",
    "alpha = 1\n",
    "beta = 1"
   ]
  },
  {
   "cell_type": "code",
   "execution_count": 156,
   "metadata": {},
   "outputs": [],
   "source": [
    "train_loss_history = []\n",
    "test_loss_history = []"
   ]
  },
  {
   "cell_type": "code",
   "execution_count": 157,
   "metadata": {},
   "outputs": [],
   "source": [
    "\n",
    "for n in range(2000):\n",
    "    \n",
    "    y_pred = (torch.matmul(X_train, torch.exp(weights))  * torch.exp(torch.matmul(X1_train, weights1))) ** 0.5\n",
    "    y_pred_test = (torch.matmul(X_test, torch.exp(weights)) * torch.exp(torch.matmul(X1_test, weights1))) ** 0.5\n",
    "    \n",
    "    reg = weights[:-1] - weights[1: ]\n",
    "    reg1 = weights1[:-1] - weights1[1: ]\n",
    "    loss = my_loss(y_train, y_pred) + torch.sum(reg[reg > 0] ** 2) * alpha + \\\n",
    "        torch.sum(weights[weights < 0] ** 2) + torch.sum(reg1[reg1 > 0] ** 2) * 50\n",
    "    \n",
    "    loss_train = my_loss(y_train, y_pred)\n",
    "    loss_test = my_loss(y_test, y_pred_test)\n",
    "    \n",
    "    loss.backward()\n",
    "    opt.step()\n",
    "    opt.zero_grad()\n",
    "    \n",
    "    train_loss_history.append(float(loss_train.detach().numpy()))\n",
    "    test_loss_history.append(float(loss_test.detach().numpy()))"
   ]
  },
  {
   "cell_type": "code",
   "execution_count": 158,
   "metadata": {},
   "outputs": [
    {
     "data": {
      "text/plain": [
       "<matplotlib.legend.Legend at 0x7f926e5b2290>"
      ]
     },
     "execution_count": 158,
     "metadata": {},
     "output_type": "execute_result"
    },
    {
     "data": {
      "image/png": "[encoded data removed]",
      "text/plain": [
       "<Figure size 432x288 with 1 Axes>"
      ]
     },
     "metadata": {
      "needs_background": "light"
     },
     "output_type": "display_data"
    }
   ],
   "source": [
    "plt.plot(train_loss_history)\n",
    "plt.plot(test_loss_history)\n",
    "\n",
    "plt.legend(['train', 'test'])"
   ]
  },
  {
   "cell_type": "code",
   "execution_count": 165,
   "metadata": {},
   "outputs": [
    {
     "data": {
      "text/plain": [
       "[<matplotlib.lines.Line2D at 0x7f926e4848d0>]"
      ]
     },
     "execution_count": 165,
     "metadata": {},
     "output_type": "execute_result"
    },
    {
     "data": {
      "image/png": "[encoded data removed]",
      "text/plain": [
       "<Figure size 432x288 with 1 Axes>"
      ]
     },
     "metadata": {
      "needs_background": "light"
     },
     "output_type": "display_data"
    }
   ],
   "source": [
    "plt.plot(weights1.detach().numpy()[-3: ])"
   ]
  },
  {
   "cell_type": "code",
   "execution_count": 167,
   "metadata": {},
   "outputs": [],
   "source": [
    "trades['diff_trades'] = trades['seconds_in_bucket'].diff()"
   ]
  },
  {
   "cell_type": "code",
   "execution_count": 170,
   "metadata": {},
   "outputs": [
    {
     "data": {
      "text/html": [
       "<div>\n",
       "<style scoped>\n",
       "    .dataframe tbody tr th:only-of-type {\n",
       "        vertical-align: middle;\n",
       "    }\n",
       "\n",
       "    .dataframe tbody tr th {\n",
       "        vertical-align: top;\n",
       "    }\n",
       "\n",
       "    .dataframe thead th {\n",
       "        text-align: right;\n",
       "    }\n",
       "</style>\n",
       "<table border=\"1\" class=\"dataframe\">\n",
       "  <thead>\n",
       "    <tr style=\"text-align: right;\">\n",
       "      <th></th>\n",
       "      <th>time_id</th>\n",
       "      <th>seconds_in_bucket</th>\n",
       "      <th>price</th>\n",
       "      <th>size</th>\n",
       "      <th>order_count</th>\n",
       "      <th>diff_trades</th>\n",
       "    </tr>\n",
       "  </thead>\n",
       "  <tbody>\n",
       "    <tr>\n",
       "      <th>0</th>\n",
       "      <td>5</td>\n",
       "      <td>21</td>\n",
       "      <td>1.002301</td>\n",
       "      <td>326</td>\n",
       "      <td>12</td>\n",
       "      <td>NaN</td>\n",
       "    </tr>\n",
       "    <tr>\n",
       "      <th>1</th>\n",
       "      <td>5</td>\n",
       "      <td>46</td>\n",
       "      <td>1.002778</td>\n",
       "      <td>128</td>\n",
       "      <td>4</td>\n",
       "      <td>25.0</td>\n",
       "    </tr>\n",
       "    <tr>\n",
       "      <th>2</th>\n",
       "      <td>5</td>\n",
       "      <td>50</td>\n",
       "      <td>1.002818</td>\n",
       "      <td>55</td>\n",
       "      <td>1</td>\n",
       "      <td>4.0</td>\n",
       "    </tr>\n",
       "    <tr>\n",
       "      <th>3</th>\n",
       "      <td>5</td>\n",
       "      <td>57</td>\n",
       "      <td>1.003155</td>\n",
       "      <td>121</td>\n",
       "      <td>5</td>\n",
       "      <td>7.0</td>\n",
       "    </tr>\n",
       "    <tr>\n",
       "      <th>4</th>\n",
       "      <td>5</td>\n",
       "      <td>68</td>\n",
       "      <td>1.003646</td>\n",
       "      <td>4</td>\n",
       "      <td>1</td>\n",
       "      <td>11.0</td>\n",
       "    </tr>\n",
       "    <tr>\n",
       "      <th>5</th>\n",
       "      <td>5</td>\n",
       "      <td>78</td>\n",
       "      <td>1.003762</td>\n",
       "      <td>134</td>\n",
       "      <td>5</td>\n",
       "      <td>10.0</td>\n",
       "    </tr>\n",
       "    <tr>\n",
       "      <th>6</th>\n",
       "      <td>5</td>\n",
       "      <td>122</td>\n",
       "      <td>1.004207</td>\n",
       "      <td>102</td>\n",
       "      <td>3</td>\n",
       "      <td>44.0</td>\n",
       "    </tr>\n",
       "    <tr>\n",
       "      <th>7</th>\n",
       "      <td>5</td>\n",
       "      <td>127</td>\n",
       "      <td>1.004577</td>\n",
       "      <td>1</td>\n",
       "      <td>1</td>\n",
       "      <td>5.0</td>\n",
       "    </tr>\n",
       "    <tr>\n",
       "      <th>8</th>\n",
       "      <td>5</td>\n",
       "      <td>144</td>\n",
       "      <td>1.004370</td>\n",
       "      <td>6</td>\n",
       "      <td>1</td>\n",
       "      <td>17.0</td>\n",
       "    </tr>\n",
       "    <tr>\n",
       "      <th>9</th>\n",
       "      <td>5</td>\n",
       "      <td>147</td>\n",
       "      <td>1.003964</td>\n",
       "      <td>233</td>\n",
       "      <td>4</td>\n",
       "      <td>3.0</td>\n",
       "    </tr>\n",
       "    <tr>\n",
       "      <th>10</th>\n",
       "      <td>5</td>\n",
       "      <td>177</td>\n",
       "      <td>1.003853</td>\n",
       "      <td>1</td>\n",
       "      <td>1</td>\n",
       "      <td>30.0</td>\n",
       "    </tr>\n",
       "    <tr>\n",
       "      <th>11</th>\n",
       "      <td>5</td>\n",
       "      <td>183</td>\n",
       "      <td>1.003956</td>\n",
       "      <td>2</td>\n",
       "      <td>1</td>\n",
       "      <td>6.0</td>\n",
       "    </tr>\n",
       "    <tr>\n",
       "      <th>12</th>\n",
       "      <td>5</td>\n",
       "      <td>187</td>\n",
       "      <td>1.004267</td>\n",
       "      <td>165</td>\n",
       "      <td>2</td>\n",
       "      <td>4.0</td>\n",
       "    </tr>\n",
       "    <tr>\n",
       "      <th>13</th>\n",
       "      <td>5</td>\n",
       "      <td>207</td>\n",
       "      <td>1.003543</td>\n",
       "      <td>72</td>\n",
       "      <td>4</td>\n",
       "      <td>20.0</td>\n",
       "    </tr>\n",
       "    <tr>\n",
       "      <th>14</th>\n",
       "      <td>5</td>\n",
       "      <td>218</td>\n",
       "      <td>1.004155</td>\n",
       "      <td>33</td>\n",
       "      <td>5</td>\n",
       "      <td>11.0</td>\n",
       "    </tr>\n",
       "    <tr>\n",
       "      <th>15</th>\n",
       "      <td>5</td>\n",
       "      <td>254</td>\n",
       "      <td>1.003905</td>\n",
       "      <td>100</td>\n",
       "      <td>1</td>\n",
       "      <td>36.0</td>\n",
       "    </tr>\n",
       "    <tr>\n",
       "      <th>16</th>\n",
       "      <td>5</td>\n",
       "      <td>263</td>\n",
       "      <td>1.003905</td>\n",
       "      <td>1</td>\n",
       "      <td>1</td>\n",
       "      <td>9.0</td>\n",
       "    </tr>\n",
       "    <tr>\n",
       "      <th>17</th>\n",
       "      <td>5</td>\n",
       "      <td>265</td>\n",
       "      <td>1.004111</td>\n",
       "      <td>2</td>\n",
       "      <td>2</td>\n",
       "      <td>2.0</td>\n",
       "    </tr>\n",
       "    <tr>\n",
       "      <th>18</th>\n",
       "      <td>5</td>\n",
       "      <td>278</td>\n",
       "      <td>1.004370</td>\n",
       "      <td>106</td>\n",
       "      <td>2</td>\n",
       "      <td>13.0</td>\n",
       "    </tr>\n",
       "    <tr>\n",
       "      <th>19</th>\n",
       "      <td>5</td>\n",
       "      <td>331</td>\n",
       "      <td>1.004680</td>\n",
       "      <td>3</td>\n",
       "      <td>2</td>\n",
       "      <td>53.0</td>\n",
       "    </tr>\n",
       "    <tr>\n",
       "      <th>20</th>\n",
       "      <td>5</td>\n",
       "      <td>366</td>\n",
       "      <td>1.004215</td>\n",
       "      <td>6</td>\n",
       "      <td>2</td>\n",
       "      <td>35.0</td>\n",
       "    </tr>\n",
       "    <tr>\n",
       "      <th>21</th>\n",
       "      <td>5</td>\n",
       "      <td>380</td>\n",
       "      <td>1.004116</td>\n",
       "      <td>432</td>\n",
       "      <td>9</td>\n",
       "      <td>14.0</td>\n",
       "    </tr>\n",
       "    <tr>\n",
       "      <th>22</th>\n",
       "      <td>5</td>\n",
       "      <td>389</td>\n",
       "      <td>1.004422</td>\n",
       "      <td>1</td>\n",
       "      <td>1</td>\n",
       "      <td>9.0</td>\n",
       "    </tr>\n",
       "    <tr>\n",
       "      <th>23</th>\n",
       "      <td>5</td>\n",
       "      <td>398</td>\n",
       "      <td>1.004215</td>\n",
       "      <td>100</td>\n",
       "      <td>1</td>\n",
       "      <td>9.0</td>\n",
       "    </tr>\n",
       "    <tr>\n",
       "      <th>24</th>\n",
       "      <td>5</td>\n",
       "      <td>430</td>\n",
       "      <td>1.003853</td>\n",
       "      <td>2</td>\n",
       "      <td>1</td>\n",
       "      <td>32.0</td>\n",
       "    </tr>\n",
       "    <tr>\n",
       "      <th>25</th>\n",
       "      <td>5</td>\n",
       "      <td>435</td>\n",
       "      <td>1.003905</td>\n",
       "      <td>1</td>\n",
       "      <td>1</td>\n",
       "      <td>5.0</td>\n",
       "    </tr>\n",
       "    <tr>\n",
       "      <th>26</th>\n",
       "      <td>5</td>\n",
       "      <td>464</td>\n",
       "      <td>1.003749</td>\n",
       "      <td>2</td>\n",
       "      <td>1</td>\n",
       "      <td>29.0</td>\n",
       "    </tr>\n",
       "    <tr>\n",
       "      <th>27</th>\n",
       "      <td>5</td>\n",
       "      <td>470</td>\n",
       "      <td>1.003465</td>\n",
       "      <td>200</td>\n",
       "      <td>7</td>\n",
       "      <td>6.0</td>\n",
       "    </tr>\n",
       "    <tr>\n",
       "      <th>28</th>\n",
       "      <td>5</td>\n",
       "      <td>471</td>\n",
       "      <td>1.003646</td>\n",
       "      <td>101</td>\n",
       "      <td>2</td>\n",
       "      <td>1.0</td>\n",
       "    </tr>\n",
       "    <tr>\n",
       "      <th>29</th>\n",
       "      <td>5</td>\n",
       "      <td>488</td>\n",
       "      <td>1.003905</td>\n",
       "      <td>2</td>\n",
       "      <td>1</td>\n",
       "      <td>17.0</td>\n",
       "    </tr>\n",
       "    <tr>\n",
       "      <th>30</th>\n",
       "      <td>5</td>\n",
       "      <td>514</td>\n",
       "      <td>1.004012</td>\n",
       "      <td>29</td>\n",
       "      <td>3</td>\n",
       "      <td>26.0</td>\n",
       "    </tr>\n",
       "    <tr>\n",
       "      <th>31</th>\n",
       "      <td>5</td>\n",
       "      <td>523</td>\n",
       "      <td>1.004008</td>\n",
       "      <td>1</td>\n",
       "      <td>1</td>\n",
       "      <td>9.0</td>\n",
       "    </tr>\n",
       "    <tr>\n",
       "      <th>32</th>\n",
       "      <td>5</td>\n",
       "      <td>540</td>\n",
       "      <td>1.003543</td>\n",
       "      <td>4</td>\n",
       "      <td>1</td>\n",
       "      <td>17.0</td>\n",
       "    </tr>\n",
       "    <tr>\n",
       "      <th>33</th>\n",
       "      <td>5</td>\n",
       "      <td>549</td>\n",
       "      <td>1.003129</td>\n",
       "      <td>2</td>\n",
       "      <td>1</td>\n",
       "      <td>9.0</td>\n",
       "    </tr>\n",
       "    <tr>\n",
       "      <th>34</th>\n",
       "      <td>5</td>\n",
       "      <td>550</td>\n",
       "      <td>1.002799</td>\n",
       "      <td>13</td>\n",
       "      <td>3</td>\n",
       "      <td>1.0</td>\n",
       "    </tr>\n",
       "    <tr>\n",
       "      <th>35</th>\n",
       "      <td>5</td>\n",
       "      <td>551</td>\n",
       "      <td>1.002561</td>\n",
       "      <td>154</td>\n",
       "      <td>5</td>\n",
       "      <td>1.0</td>\n",
       "    </tr>\n",
       "    <tr>\n",
       "      <th>36</th>\n",
       "      <td>5</td>\n",
       "      <td>562</td>\n",
       "      <td>1.002715</td>\n",
       "      <td>1</td>\n",
       "      <td>1</td>\n",
       "      <td>11.0</td>\n",
       "    </tr>\n",
       "    <tr>\n",
       "      <th>37</th>\n",
       "      <td>5</td>\n",
       "      <td>572</td>\n",
       "      <td>1.003191</td>\n",
       "      <td>499</td>\n",
       "      <td>6</td>\n",
       "      <td>10.0</td>\n",
       "    </tr>\n",
       "    <tr>\n",
       "      <th>38</th>\n",
       "      <td>5</td>\n",
       "      <td>581</td>\n",
       "      <td>1.003478</td>\n",
       "      <td>8</td>\n",
       "      <td>3</td>\n",
       "      <td>9.0</td>\n",
       "    </tr>\n",
       "    <tr>\n",
       "      <th>39</th>\n",
       "      <td>5</td>\n",
       "      <td>585</td>\n",
       "      <td>1.003646</td>\n",
       "      <td>26</td>\n",
       "      <td>2</td>\n",
       "      <td>4.0</td>\n",
       "    </tr>\n",
       "  </tbody>\n",
       "</table>\n",
       "</div>"
      ],
      "text/plain": [
       "    time_id  seconds_in_bucket     price  size  order_count  diff_trades\n",
       "0         5                 21  1.002301   326           12          NaN\n",
       "1         5                 46  1.002778   128            4         25.0\n",
       "2         5                 50  1.002818    55            1          4.0\n",
       "3         5                 57  1.003155   121            5          7.0\n",
       "4         5                 68  1.003646     4            1         11.0\n",
       "5         5                 78  1.003762   134            5         10.0\n",
       "6         5                122  1.004207   102            3         44.0\n",
       "7         5                127  1.004577     1            1          5.0\n",
       "8         5                144  1.004370     6            1         17.0\n",
       "9         5                147  1.003964   233            4          3.0\n",
       "10        5                177  1.003853     1            1         30.0\n",
       "11        5                183  1.003956     2            1          6.0\n",
       "12        5                187  1.004267   165            2          4.0\n",
       "13        5                207  1.003543    72            4         20.0\n",
       "14        5                218  1.004155    33            5         11.0\n",
       "15        5                254  1.003905   100            1         36.0\n",
       "16        5                263  1.003905     1            1          9.0\n",
       "17        5                265  1.004111     2            2          2.0\n",
       "18        5                278  1.004370   106            2         13.0\n",
       "19        5                331  1.004680     3            2         53.0\n",
       "20        5                366  1.004215     6            2         35.0\n",
       "21        5                380  1.004116   432            9         14.0\n",
       "22        5                389  1.004422     1            1          9.0\n",
       "23        5                398  1.004215   100            1          9.0\n",
       "24        5                430  1.003853     2            1         32.0\n",
       "25        5                435  1.003905     1            1          5.0\n",
       "26        5                464  1.003749     2            1         29.0\n",
       "27        5                470  1.003465   200            7          6.0\n",
       "28        5                471  1.003646   101            2          1.0\n",
       "29        5                488  1.003905     2            1         17.0\n",
       "30        5                514  1.004012    29            3         26.0\n",
       "31        5                523  1.004008     1            1          9.0\n",
       "32        5                540  1.003543     4            1         17.0\n",
       "33        5                549  1.003129     2            1          9.0\n",
       "34        5                550  1.002799    13            3          1.0\n",
       "35        5                551  1.002561   154            5          1.0\n",
       "36        5                562  1.002715     1            1         11.0\n",
       "37        5                572  1.003191   499            6         10.0\n",
       "38        5                581  1.003478     8            3          9.0\n",
       "39        5                585  1.003646    26            2          4.0"
      ]
     },
     "execution_count": 170,
     "metadata": {},
     "output_type": "execute_result"
    }
   ],
   "source": [
    "trades[trades.time_id == 5]"
   ]
  },
  {
   "cell_type": "code",
   "execution_count": 160,
   "metadata": {},
   "outputs": [
    {
     "data": {
      "text/plain": [
       "0.06152872874475068"
      ]
     },
     "execution_count": 160,
     "metadata": {},
     "output_type": "execute_result"
    }
   ],
   "source": [
    "train_loss_history[0] - train_loss_history[-1]"
   ]
  },
  {
   "cell_type": "code",
   "execution_count": 161,
   "metadata": {},
   "outputs": [
    {
     "data": {
      "text/plain": [
       "0.0542957264991924"
      ]
     },
     "execution_count": 161,
     "metadata": {},
     "output_type": "execute_result"
    }
   ],
   "source": [
    "test_loss_history[0] - test_loss_history[-1]"
   ]
  },
  {
   "cell_type": "code",
   "execution_count": 48,
   "metadata": {},
   "outputs": [
    {
     "data": {
      "text/plain": [
       "tensor([1.0398, 0.0046], requires_grad=True)"
      ]
     },
     "execution_count": 48,
     "metadata": {},
     "output_type": "execute_result"
    }
   ],
   "source": [
    "params"
   ]
  },
  {
   "cell_type": "code",
   "execution_count": 65,
   "metadata": {},
   "outputs": [
    {
     "data": {
      "text/plain": [
       "[<matplotlib.lines.Line2D at 0x7fc0f43cd250>]"
      ]
     },
     "execution_count": 65,
     "metadata": {},
     "output_type": "execute_result"
    },
    {
     "data": {
      "image/png": "[encoded data removed]",
      "text/plain": [
       "<Figure size 432x288 with 1 Axes>"
      ]
     },
     "metadata": {
      "needs_background": "light"
     },
     "output_type": "display_data"
    }
   ],
   "source": [
    "plt.plot(weights.detach().numpy())"
   ]
  },
  {
   "cell_type": "code",
   "execution_count": 431,
   "metadata": {},
   "outputs": [
    {
     "data": {
      "text/plain": [
       "<AxesSubplot:xlabel='seconds_in_bucket'>"
      ]
     },
     "execution_count": 431,
     "metadata": {},
     "output_type": "execute_result"
    },
    {
     "data": {
      "image/png": "[encoded data removed]",
      "text/plain": [
       "<Figure size 432x288 with 1 Axes>"
      ]
     },
     "metadata": {
      "needs_background": "light"
     },
     "output_type": "display_data"
    }
   ],
   "source": [
    "book.groupby('seconds_in_bucket')['square_return'].mean().plot()"
   ]
  },
  {
   "cell_type": "code",
   "execution_count": 440,
   "metadata": {},
   "outputs": [
    {
     "data": {
      "text/plain": [
       "<AxesSubplot:xlabel='seconds_in_bucket'>"
      ]
     },
     "execution_count": 440,
     "metadata": {},
     "output_type": "execute_result"
    },
    {
     "data": {
      "image/png": "[encoded data removed]",
      "text/plain": [
       "<Figure size 432x288 with 1 Axes>"
      ]
     },
     "metadata": {
      "needs_background": "light"
     },
     "output_type": "display_data"
    }
   ],
   "source": [
    "book[book.time_id == 32758].set_index('seconds_in_bucket')['square_return'].plot()"
   ]
  },
  {
   "cell_type": "code",
   "execution_count": 437,
   "metadata": {},
   "outputs": [
    {
     "data": {
      "text/plain": [
       "array([    5,    11,    16, ..., 32758, 32763, 32767], dtype=int16)"
      ]
     },
     "execution_count": 437,
     "metadata": {},
     "output_type": "execute_result"
    }
   ],
   "source": [
    "book.time_id.unique()"
   ]
  },
  {
   "cell_type": "code",
   "execution_count": 542,
   "metadata": {},
   "outputs": [
    {
     "name": "stderr",
     "output_type": "stream",
     "text": [
      "\n",
      "\n",
      "  0%|          | 0/112 [00:00<?, ?it/s]\u001b[A\u001b[A\n",
      "\n",
      "  1%|          | 1/112 [00:04<07:29,  4.05s/it]\u001b[A\u001b[A\n",
      "\n",
      "  2%|▏         | 2/112 [00:09<07:55,  4.32s/it]\u001b[A\u001b[A\n",
      "\n",
      "  3%|▎         | 3/112 [00:15<08:47,  4.84s/it]\u001b[A\u001b[A\n",
      "\n",
      "  4%|▎         | 4/112 [00:20<08:56,  4.97s/it]\u001b[A\u001b[A\n",
      "\n",
      "  4%|▍         | 5/112 [00:25<09:02,  5.07s/it]\u001b[A\u001b[A\n",
      "\n",
      "  5%|▌         | 6/112 [00:30<09:01,  5.11s/it]\u001b[A\u001b[A\n",
      "\n",
      "  6%|▋         | 7/112 [00:35<08:51,  5.06s/it]\u001b[A\u001b[A\n",
      "\n",
      "  7%|▋         | 8/112 [00:41<08:59,  5.19s/it]\u001b[A\u001b[A\n",
      "\n",
      "  8%|▊         | 9/112 [00:46<09:01,  5.26s/it]\u001b[A\u001b[A\n",
      "\n",
      "  9%|▉         | 10/112 [00:51<08:45,  5.15s/it]\u001b[A\u001b[A\n",
      "\n",
      " 10%|▉         | 11/112 [00:57<08:53,  5.28s/it]\u001b[A\u001b[A\n",
      "\n",
      " 11%|█         | 12/112 [01:01<08:24,  5.04s/it]\u001b[A\u001b[A\n",
      "\n",
      " 12%|█▏        | 13/112 [01:06<08:14,  4.99s/it]\u001b[A\u001b[A\n",
      "\n",
      " 12%|█▎        | 14/112 [01:12<08:25,  5.16s/it]\u001b[A\u001b[A\n",
      "\n",
      " 13%|█▎        | 15/112 [01:19<09:14,  5.72s/it]\u001b[A\u001b[A\n",
      "\n",
      " 14%|█▍        | 16/112 [01:23<08:41,  5.43s/it]\u001b[A\u001b[A\n",
      "\n",
      " 15%|█▌        | 17/112 [01:28<08:20,  5.27s/it]\u001b[A\u001b[A\n",
      "\n",
      " 16%|█▌        | 18/112 [01:33<07:46,  4.96s/it]\u001b[A\u001b[A\n",
      "\n",
      " 17%|█▋        | 19/112 [01:38<07:46,  5.01s/it]\u001b[A\u001b[A\n",
      "\n",
      " 18%|█▊        | 20/112 [01:43<08:00,  5.23s/it]\u001b[A\u001b[A\n",
      "\n",
      " 19%|█▉        | 21/112 [01:49<07:55,  5.23s/it]\u001b[A\u001b[A\n",
      "\n",
      " 20%|█▉        | 22/112 [01:54<07:51,  5.24s/it]\u001b[A\u001b[A\n",
      "\n",
      " 21%|██        | 23/112 [01:59<07:36,  5.13s/it]\u001b[A\u001b[A\n",
      "\n",
      " 21%|██▏       | 24/112 [02:03<07:12,  4.91s/it]\u001b[A\u001b[A\n",
      "\n",
      " 22%|██▏       | 25/112 [02:07<06:38,  4.58s/it]\u001b[A\u001b[A\n",
      "\n",
      " 23%|██▎       | 26/112 [02:11<06:15,  4.36s/it]\u001b[A\u001b[A\n",
      "\n",
      " 24%|██▍       | 27/112 [02:15<06:13,  4.39s/it]\u001b[A\u001b[A\n",
      "\n",
      " 25%|██▌       | 28/112 [02:19<05:47,  4.14s/it]\u001b[A\u001b[A\n",
      "\n",
      " 26%|██▌       | 29/112 [02:23<05:45,  4.16s/it]\u001b[A\u001b[A\n",
      "\n",
      " 27%|██▋       | 30/112 [02:28<05:52,  4.30s/it]\u001b[A\u001b[A\n",
      "\n",
      " 28%|██▊       | 31/112 [02:31<05:31,  4.09s/it]\u001b[A\u001b[A\n",
      "\n",
      " 29%|██▊       | 32/112 [02:35<05:27,  4.09s/it]\u001b[A\u001b[A\n",
      "\n",
      " 29%|██▉       | 33/112 [02:41<06:04,  4.62s/it]\u001b[A\u001b[A\n",
      "\n",
      " 30%|███       | 34/112 [02:47<06:17,  4.84s/it]\u001b[A\u001b[A\n",
      "\n",
      " 31%|███▏      | 35/112 [02:53<06:52,  5.36s/it]\u001b[A\u001b[A\n",
      "\n",
      " 32%|███▏      | 36/112 [03:01<07:49,  6.18s/it]\u001b[A\u001b[A\n",
      "\n",
      " 33%|███▎      | 37/112 [03:07<07:26,  5.96s/it]\u001b[A\u001b[A\n",
      "\n",
      " 34%|███▍      | 38/112 [03:12<07:04,  5.74s/it]\u001b[A\u001b[A\n",
      "\n",
      " 35%|███▍      | 39/112 [03:18<07:15,  5.96s/it]\u001b[A\u001b[A\n",
      "\n",
      " 36%|███▌      | 40/112 [03:24<06:52,  5.73s/it]\u001b[A\u001b[A\n",
      "\n",
      " 37%|███▋      | 41/112 [03:29<06:49,  5.77s/it]\u001b[A\u001b[A\n",
      "\n",
      " 38%|███▊      | 42/112 [03:34<06:19,  5.42s/it]\u001b[A\u001b[A\n",
      "\n",
      " 38%|███▊      | 43/112 [03:38<05:54,  5.14s/it]\u001b[A\u001b[A\n",
      "\n",
      " 39%|███▉      | 44/112 [03:43<05:37,  4.97s/it]\u001b[A\u001b[A\n",
      "\n",
      " 40%|████      | 45/112 [03:47<05:12,  4.66s/it]\u001b[A\u001b[A\n",
      "\n",
      " 41%|████      | 46/112 [03:52<05:10,  4.71s/it]\u001b[A\u001b[A\n",
      "\n",
      " 42%|████▏     | 47/112 [03:56<04:57,  4.58s/it]\u001b[A\u001b[A\n",
      "\n",
      " 43%|████▎     | 48/112 [04:00<04:47,  4.50s/it]\u001b[A\u001b[A\n",
      "\n",
      " 44%|████▍     | 49/112 [04:05<04:36,  4.38s/it]\u001b[A\u001b[A\n",
      "\n",
      " 45%|████▍     | 50/112 [04:09<04:26,  4.29s/it]\u001b[A\u001b[A\n",
      "\n",
      " 46%|████▌     | 51/112 [04:14<04:34,  4.49s/it]\u001b[A\u001b[A\n",
      "\n",
      " 46%|████▋     | 52/112 [04:17<04:18,  4.32s/it]\u001b[A\u001b[A\n",
      "\n",
      " 47%|████▋     | 53/112 [04:21<04:05,  4.16s/it]\u001b[A\u001b[A\n",
      "\n",
      " 48%|████▊     | 54/112 [04:25<04:01,  4.17s/it]\u001b[A\u001b[A\n",
      "\n",
      " 49%|████▉     | 55/112 [04:30<04:00,  4.22s/it]\u001b[A\u001b[A\n",
      "\n",
      " 50%|█████     | 56/112 [04:34<03:53,  4.16s/it]\u001b[A\u001b[A\n",
      "\n",
      " 51%|█████     | 57/112 [04:38<03:56,  4.29s/it]\u001b[A\u001b[A\n",
      "\n",
      " 52%|█████▏    | 58/112 [04:43<03:51,  4.29s/it]\u001b[A\u001b[A\n",
      "\n",
      " 53%|█████▎    | 59/112 [04:47<03:43,  4.22s/it]\u001b[A\u001b[A\n",
      "\n",
      " 54%|█████▎    | 60/112 [04:52<04:01,  4.64s/it]\u001b[A\u001b[A\n",
      "\n",
      " 54%|█████▍    | 61/112 [04:58<04:16,  5.02s/it]\u001b[A\u001b[A\n",
      "\n",
      " 55%|█████▌    | 62/112 [05:03<04:12,  5.04s/it]\u001b[A\u001b[A\n",
      "\n",
      " 56%|█████▋    | 63/112 [05:07<03:52,  4.75s/it]\u001b[A\u001b[A\n",
      "\n",
      " 57%|█████▋    | 64/112 [05:12<03:39,  4.56s/it]\u001b[A\u001b[A\n",
      "\n",
      " 58%|█████▊    | 65/112 [05:16<03:30,  4.48s/it]\u001b[A\u001b[A\n",
      "\n",
      " 59%|█████▉    | 66/112 [05:20<03:19,  4.33s/it]\u001b[A\u001b[A\n",
      "\n",
      " 60%|█████▉    | 67/112 [05:24<03:08,  4.18s/it]\u001b[A\u001b[A\n",
      "\n",
      " 61%|██████    | 68/112 [05:28<03:02,  4.16s/it]\u001b[A\u001b[A\n",
      "\n",
      " 62%|██████▏   | 69/112 [05:32<03:02,  4.25s/it]\u001b[A\u001b[A\n",
      "\n",
      " 62%|██████▎   | 70/112 [05:36<02:56,  4.20s/it]\u001b[A\u001b[A\n",
      "\n",
      " 63%|██████▎   | 71/112 [05:40<02:50,  4.17s/it]\u001b[A\u001b[A\n",
      "\n",
      " 64%|██████▍   | 72/112 [05:44<02:45,  4.13s/it]\u001b[A\u001b[A\n",
      "\n",
      " 65%|██████▌   | 73/112 [05:49<02:39,  4.10s/it]\u001b[A\u001b[A\n",
      "\n",
      " 66%|██████▌   | 74/112 [05:52<02:34,  4.06s/it]\u001b[A\u001b[A\n",
      "\n",
      " 67%|██████▋   | 75/112 [05:58<02:47,  4.52s/it]\u001b[A\u001b[A\n",
      "\n",
      " 68%|██████▊   | 76/112 [06:02<02:37,  4.38s/it]\u001b[A\u001b[A\n",
      "\n",
      " 69%|██████▉   | 77/112 [06:06<02:32,  4.36s/it]\u001b[A\u001b[A\n",
      "\n",
      " 70%|██████▉   | 78/112 [06:10<02:22,  4.20s/it]\u001b[A\u001b[A\n",
      "\n",
      " 71%|███████   | 79/112 [06:15<02:19,  4.23s/it]\u001b[A\u001b[A\n",
      "\n",
      " 71%|███████▏  | 80/112 [06:19<02:12,  4.15s/it]\u001b[A\u001b[A\n",
      "\n",
      " 72%|███████▏  | 81/112 [06:22<02:06,  4.08s/it]\u001b[A\u001b[A\n",
      "\n",
      " 73%|███████▎  | 82/112 [06:26<02:01,  4.04s/it]\u001b[A\u001b[A\n",
      "\n",
      " 74%|███████▍  | 83/112 [06:30<01:55,  3.98s/it]\u001b[A\u001b[A\n",
      "\n",
      " 75%|███████▌  | 84/112 [06:35<01:56,  4.16s/it]\u001b[A\u001b[A\n",
      "\n",
      " 76%|███████▌  | 85/112 [06:39<01:54,  4.22s/it]\u001b[A\u001b[A\n",
      "\n",
      " 77%|███████▋  | 86/112 [06:43<01:48,  4.18s/it]\u001b[A\u001b[A\n",
      "\n",
      " 78%|███████▊  | 87/112 [06:48<01:46,  4.28s/it]\u001b[A\u001b[A\n",
      "\n",
      " 79%|███████▊  | 88/112 [06:53<01:48,  4.52s/it]\u001b[A\u001b[A\n",
      "\n",
      " 79%|███████▉  | 89/112 [06:57<01:38,  4.28s/it]\u001b[A\u001b[A\n",
      "\n",
      " 80%|████████  | 90/112 [07:01<01:36,  4.40s/it]\u001b[A\u001b[A\n",
      "\n",
      " 81%|████████▏ | 91/112 [07:05<01:31,  4.35s/it]\u001b[A\u001b[A\n",
      "\n",
      " 82%|████████▏ | 92/112 [07:09<01:23,  4.15s/it]\u001b[A\u001b[A\n",
      "\n",
      " 83%|████████▎ | 93/112 [07:14<01:20,  4.25s/it]\u001b[A\u001b[A\n",
      "\n",
      " 84%|████████▍ | 94/112 [07:18<01:16,  4.26s/it]\u001b[A\u001b[A\n",
      "\n",
      " 85%|████████▍ | 95/112 [07:22<01:12,  4.28s/it]\u001b[A\u001b[A\n",
      "\n",
      " 86%|████████▌ | 96/112 [07:27<01:11,  4.48s/it]\u001b[A\u001b[A\n",
      "\n",
      " 87%|████████▋ | 97/112 [07:32<01:06,  4.46s/it]\u001b[A\u001b[A\n",
      "\n",
      " 88%|████████▊ | 98/112 [07:36<01:03,  4.50s/it]\u001b[A\u001b[A\n",
      "\n",
      " 88%|████████▊ | 99/112 [07:41<01:00,  4.69s/it]\u001b[A\u001b[A\n",
      "\n",
      " 89%|████████▉ | 100/112 [07:45<00:54,  4.51s/it]\u001b[A\u001b[A\n",
      "\n",
      " 90%|█████████ | 101/112 [07:50<00:50,  4.60s/it]\u001b[A\u001b[A\n",
      "\n",
      " 91%|█████████ | 102/112 [07:54<00:44,  4.48s/it]\u001b[A\u001b[A\n",
      "\n",
      " 92%|█████████▏| 103/112 [07:59<00:41,  4.56s/it]\u001b[A\u001b[A\n",
      "\n",
      " 93%|█████████▎| 104/112 [08:04<00:37,  4.71s/it]\u001b[A\u001b[A\n",
      "\n",
      " 94%|█████████▍| 105/112 [08:09<00:33,  4.72s/it]\u001b[A\u001b[A\n",
      "\n",
      " 95%|█████████▍| 106/112 [08:15<00:29,  4.97s/it]\u001b[A\u001b[A\n",
      "\n",
      " 96%|█████████▌| 107/112 [08:20<00:25,  5.02s/it]\u001b[A\u001b[A\n",
      "\n",
      " 96%|█████████▋| 108/112 [08:24<00:19,  4.89s/it]\u001b[A\u001b[A\n",
      "\n",
      " 97%|█████████▋| 109/112 [08:30<00:15,  5.04s/it]\u001b[A\u001b[A\n",
      "\n",
      " 98%|█████████▊| 110/112 [08:35<00:10,  5.10s/it]\u001b[A\u001b[A\n",
      "\n",
      " 99%|█████████▉| 111/112 [08:40<00:05,  5.25s/it]\u001b[A\u001b[A\n",
      "\n",
      "100%|██████████| 112/112 [08:45<00:00,  4.69s/it]\u001b[A\u001b[A\n"
     ]
    }
   ],
   "source": [
    "res = {}\n",
    "\n",
    "for stock_id in tqdm(stock_ids):\n",
    "    book = pd.read_parquet('book_train.parquet/stock_id=' + str(stock_id))\n",
    "    book['wap'] = (book['bid_price1'] * book['ask_size1'] + book['ask_price1'] * book['bid_size1']) / (\n",
    "    book['ask_size1'] + book['bid_size1'])\n",
    "    \n",
    "    book['log_price'] = np.log(book['wap'])\n",
    "    book['log_return'] = book.groupby(['time_id'])['log_price'].diff()\n",
    "    book['square_return'] = book['log_return'] ** 2\n",
    "    book = book[~book['log_return'].isnull()]\n",
    "    book['stock_id'] = stock_id\n",
    "    \n",
    "    book = pd.merge(book, train_targets, how='left', on=['time_id', 'stock_id'])\n",
    "    \n",
    "    X = pd.pivot_table(book, \n",
    "                   values='square_return', \n",
    "                   columns=['seconds_in_bucket'], \n",
    "                   index='time_id', aggfunc='last')\n",
    "\n",
    "    X = X.fillna(0)\n",
    "    y = train_targets[train_targets.stock_id == stock_id].set_index('time_id')['target'].loc[X.index]\n",
    "    \n",
    "    X_train, X_test, y_train, y_test = train_test_split(X, y)\n",
    "\n",
    "    X_train = torch.tensor(X_train.values)\n",
    "    X_test = torch.tensor(X_test.values)\n",
    "\n",
    "    y_train = torch.tensor(y_train.values)\n",
    "    y_test = torch.tensor(y_test.values)\n",
    "    \n",
    "    X = torch.tensor(X.values)\n",
    "    y = torch.tensor(y.values)\n",
    "    \n",
    "    weights = torch.ones(X_train.shape[1], requires_grad=True)\n",
    "    weights_poly = torch.tensor([ 1., 0., .0], requires_grad=True)\n",
    "    opt = optim.Adam([weights, weights_poly], lr=0.1)\n",
    "    alpha = 0.8\n",
    "    beta = 1\n",
    "    \n",
    "    for n in range(1000):\n",
    "        y_pred_temp = torch.matmul(X_train, weights) ** 0.5\n",
    "        y_pred = y_pred_temp * weights_poly[0] + y_pred_temp**2 * weights_poly[1] + \\\n",
    "             y_pred_temp**3 * weights_poly[2]\n",
    "        \n",
    "        reg = weights[:-1] - weights[1: ]\n",
    "        loss = my_loss(y_train, y_pred) + torch.sum(reg[reg > 0] ** 2) * alpha +torch.sum(\n",
    "            weights[weights < 0] ** 2)\n",
    "\n",
    "        loss.backward()\n",
    "        opt.step()\n",
    "        opt.zero_grad()\n",
    "    \n",
    "    res[stock_id] = (weights, weights_poly, X, y, X_train, y_train, X_test, y_test)"
   ]
  },
  {
   "cell_type": "code",
   "execution_count": 536,
   "metadata": {},
   "outputs": [],
   "source": [
    "y_true = []\n",
    "y_pred = []\n",
    "\n",
    "weights = res[stock_id][0]\n",
    "for stock_id in res:\n",
    "    X = res[stock_id][6]\n",
    "    y = res[stock_id][7]\n",
    "    \n",
    "    y_true.append(y.detach().numpy())\n",
    "    y_pred_temp = (torch.matmul(X, weights) ** 0.5)\n",
    "    y_pred_temp = y_pred_temp * weights_poly[0] + y_pred_temp**2 * weights_poly[1] + \\\n",
    "             y_pred_temp**3 * weights_poly[2]\n",
    "    \n",
    "    y_pred_temp = y_pred_temp.detach().numpy()\n",
    "    \n",
    "    y_pred.append(y_pred_temp)"
   ]
  },
  {
   "cell_type": "code",
   "execution_count": 537,
   "metadata": {},
   "outputs": [],
   "source": [
    "y_true = np.concatenate(y_true)\n",
    "y_pred = np.concatenate(y_pred)"
   ]
  },
  {
   "cell_type": "code",
   "execution_count": 538,
   "metadata": {},
   "outputs": [
    {
     "data": {
      "text/plain": [
       "0.2698631769809836"
      ]
     },
     "execution_count": 538,
     "metadata": {},
     "output_type": "execute_result"
    }
   ],
   "source": [
    "rmspe(y_true, y_pred)"
   ]
  },
  {
   "cell_type": "code",
   "execution_count": 79,
   "metadata": {},
   "outputs": [
    {
     "data": {
      "text/plain": [
       "0.26542675502131957"
      ]
     },
     "execution_count": 79,
     "metadata": {},
     "output_type": "execute_result"
    }
   ],
   "source": [
    "rmspe(y_true, y_pred)"
   ]
  },
  {
   "cell_type": "code",
   "execution_count": 586,
   "metadata": {},
   "outputs": [
    {
     "data": {
      "text/plain": [
       "0.2790782247939971"
      ]
     },
     "execution_count": 586,
     "metadata": {},
     "output_type": "execute_result"
    }
   ],
   "source": [
    "rmspe(y_true, y_pred)"
   ]
  },
  {
   "cell_type": "code",
   "execution_count": 672,
   "metadata": {},
   "outputs": [],
   "source": [
    "stock_id = 105\n",
    "\n",
    "book = pd.read_parquet('book_train.parquet/stock_id=' + str(stock_id))\n",
    "book['wap'] = (book['bid_price1'] * book['ask_size1'] + book['ask_price1'] * book['bid_size1']) / (\n",
    "book['ask_size1'] + book['bid_size1'])\n",
    "\n",
    "book['log_price'] = np.log(book['wap'])\n",
    "book['log_return'] = book.groupby(['time_id'])['log_price'].diff()\n",
    "book['square_return'] = book['log_return'] ** 2\n",
    "book = book[~book['log_return'].isnull()]\n",
    "book['stock_id'] = stock_id\n",
    "\n",
    "book = pd.merge(book, train_targets, how='left', on=['time_id', 'stock_id'])\n",
    "\n",
    "X = pd.pivot_table(book, \n",
    "               values='square_return', \n",
    "               columns=['seconds_in_bucket'], \n",
    "               index='time_id', aggfunc='last')\n",
    "\n",
    "X = X.fillna(0)\n",
    "y = train_targets[train_targets.stock_id == stock_id].set_index('time_id')['target'].loc[X.index]\n",
    "X = X.values\n",
    "\n",
    "X = torch.tensor(X)\n",
    "y = torch.tensor(y.values)\n",
    "\n",
    "weights = torch.ones(X.shape[1], requires_grad=True)\n",
    "weights_poly = torch.tensor([ 1., 0.], requires_grad=True)\n",
    "opt = optim.Adam([weights, weights_poly], lr=0.01)\n",
    "alpha = 0.8\n",
    "beta = 1\n",
    "\n",
    "for n in range(3000):\n",
    "    if torch.sum(torch.matmul(X, weights) < 0):\n",
    "        print('hi')\n",
    "    y_pred_temp = torch.matmul(X, weights) ** 0.5\n",
    "    y_pred = y_pred_temp * weights_poly[0] + y_pred_temp**2 * weights_poly[1] \n",
    "\n",
    "    reg = weights[:-1] - weights[1: ]\n",
    "    loss = my_loss(y, y_pred) + torch.sum(reg[reg > 0] ** 2) * alpha +torch.sum(\n",
    "        weights[weights < 0] ** 2)\n",
    "\n",
    "    loss.backward()\n",
    "    opt.step()\n",
    "    opt.zero_grad()"
   ]
  },
  {
   "cell_type": "code",
   "execution_count": 673,
   "metadata": {},
   "outputs": [
    {
     "data": {
      "text/plain": [
       "tensor([  0.9405, -19.2642], requires_grad=True)"
      ]
     },
     "execution_count": 673,
     "metadata": {},
     "output_type": "execute_result"
    }
   ],
   "source": [
    "weights_poly"
   ]
  },
  {
   "cell_type": "code",
   "execution_count": 660,
   "metadata": {},
   "outputs": [
    {
     "data": {
      "text/plain": [
       "tensor([0.0030, 0.0010, 0.0018,  ..., 0.0016, 0.0035, 0.0014],\n",
       "       dtype=torch.float64)"
      ]
     },
     "execution_count": 660,
     "metadata": {},
     "output_type": "execute_result"
    }
   ],
   "source": [
    "y"
   ]
  }
 ],
 "metadata": {
  "kernelspec": {
   "display_name": "Python 3",
   "language": "python",
   "name": "python3"
  },
  "language_info": {
   "codemirror_mode": {
    "name": "ipython",
    "version": 3
   },
   "file_extension": ".py",
   "mimetype": "text/x-python",
   "name": "python",
   "nbconvert_exporter": "python",
   "pygments_lexer": "ipython3",
   "version": "3.7.6"
  }
 },
 "nbformat": 4,
 "nbformat_minor": 4
}

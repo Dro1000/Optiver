{
 "cells": [
  {
   "cell_type": "code",
   "execution_count": 1,
   "metadata": {},
   "outputs": [],
   "source": [
    "import pandas as pd\n",
    "import numpy as np\n",
    "import matplotlib.pyplot as plt\n",
    "from tqdm import tqdm\n",
    "from utils import rmspe"
   ]
  },
  {
   "cell_type": "code",
   "execution_count": 2,
   "metadata": {},
   "outputs": [],
   "source": [
    "train = pd.read_csv('train.csv')"
   ]
  },
  {
   "cell_type": "code",
   "execution_count": 3,
   "metadata": {},
   "outputs": [],
   "source": [
    "train['pred'] = train.groupby('stock_id')['target'].transform('mean')"
   ]
  },
  {
   "cell_type": "code",
   "execution_count": 4,
   "metadata": {},
   "outputs": [
    {
     "data": {
      "text/plain": [
       "0.4858051350968168"
      ]
     },
     "execution_count": 4,
     "metadata": {},
     "output_type": "execute_result"
    }
   ],
   "source": [
    "rmspe(train['target'], train['pred'] * 0.5)"
   ]
  },
  {
   "cell_type": "code",
   "execution_count": 5,
   "metadata": {},
   "outputs": [],
   "source": [
    "import os\n",
    "import re\n",
    "stock_ids = sorted(\n",
    "    [int(re.sub('stock_id=', '', x)) for x in os.listdir('book_train.parquet')])"
   ]
  },
  {
   "cell_type": "code",
   "execution_count": 26,
   "metadata": {},
   "outputs": [],
   "source": [
    "stock_id = stock_ids[4]"
   ]
  },
  {
   "cell_type": "code",
   "execution_count": 38,
   "metadata": {},
   "outputs": [],
   "source": [
    "book = pd.read_parquet('book_train.parquet/stock_id=' + str(stock_id))\n",
    "trades = pd.read_parquet('trade_train.parquet/stock_id=' + str(stock_id))"
   ]
  },
  {
   "cell_type": "code",
   "execution_count": 39,
   "metadata": {},
   "outputs": [],
   "source": [
    "book = book.merge(trades, how='left', on=['time_id', 'seconds_in_bucket'])"
   ]
  },
  {
   "cell_type": "code",
   "execution_count": 40,
   "metadata": {},
   "outputs": [
    {
     "data": {
      "text/html": [
       "<div>\n",
       "<style scoped>\n",
       "    .dataframe tbody tr th:only-of-type {\n",
       "        vertical-align: middle;\n",
       "    }\n",
       "\n",
       "    .dataframe tbody tr th {\n",
       "        vertical-align: top;\n",
       "    }\n",
       "\n",
       "    .dataframe thead th {\n",
       "        text-align: right;\n",
       "    }\n",
       "</style>\n",
       "<table border=\"1\" class=\"dataframe\">\n",
       "  <thead>\n",
       "    <tr style=\"text-align: right;\">\n",
       "      <th></th>\n",
       "      <th>time_id</th>\n",
       "      <th>seconds_in_bucket</th>\n",
       "      <th>bid_price1</th>\n",
       "      <th>ask_price1</th>\n",
       "      <th>bid_price2</th>\n",
       "      <th>ask_price2</th>\n",
       "      <th>bid_size1</th>\n",
       "      <th>ask_size1</th>\n",
       "      <th>bid_size2</th>\n",
       "      <th>ask_size2</th>\n",
       "      <th>price</th>\n",
       "      <th>size</th>\n",
       "      <th>order_count</th>\n",
       "    </tr>\n",
       "  </thead>\n",
       "  <tbody>\n",
       "    <tr>\n",
       "      <th>85</th>\n",
       "      <td>5</td>\n",
       "      <td>120</td>\n",
       "      <td>1.003335</td>\n",
       "      <td>1.004126</td>\n",
       "      <td>1.002608</td>\n",
       "      <td>1.004142</td>\n",
       "      <td>307</td>\n",
       "      <td>14</td>\n",
       "      <td>22</td>\n",
       "      <td>123</td>\n",
       "      <td>NaN</td>\n",
       "      <td>NaN</td>\n",
       "      <td>NaN</td>\n",
       "    </tr>\n",
       "    <tr>\n",
       "      <th>86</th>\n",
       "      <td>5</td>\n",
       "      <td>121</td>\n",
       "      <td>1.003335</td>\n",
       "      <td>1.004142</td>\n",
       "      <td>1.003206</td>\n",
       "      <td>1.004255</td>\n",
       "      <td>361</td>\n",
       "      <td>109</td>\n",
       "      <td>22</td>\n",
       "      <td>1</td>\n",
       "      <td>1.003739</td>\n",
       "      <td>3.0</td>\n",
       "      <td>1.0</td>\n",
       "    </tr>\n",
       "    <tr>\n",
       "      <th>87</th>\n",
       "      <td>5</td>\n",
       "      <td>122</td>\n",
       "      <td>1.003335</td>\n",
       "      <td>1.004142</td>\n",
       "      <td>1.003222</td>\n",
       "      <td>1.004255</td>\n",
       "      <td>361</td>\n",
       "      <td>109</td>\n",
       "      <td>50</td>\n",
       "      <td>1</td>\n",
       "      <td>NaN</td>\n",
       "      <td>NaN</td>\n",
       "      <td>NaN</td>\n",
       "    </tr>\n",
       "    <tr>\n",
       "      <th>88</th>\n",
       "      <td>5</td>\n",
       "      <td>123</td>\n",
       "      <td>1.003335</td>\n",
       "      <td>1.004142</td>\n",
       "      <td>1.002608</td>\n",
       "      <td>1.004255</td>\n",
       "      <td>360</td>\n",
       "      <td>109</td>\n",
       "      <td>22</td>\n",
       "      <td>1</td>\n",
       "      <td>1.003577</td>\n",
       "      <td>418.0</td>\n",
       "      <td>5.0</td>\n",
       "    </tr>\n",
       "    <tr>\n",
       "      <th>89</th>\n",
       "      <td>5</td>\n",
       "      <td>125</td>\n",
       "      <td>1.002608</td>\n",
       "      <td>1.004126</td>\n",
       "      <td>1.001865</td>\n",
       "      <td>1.004142</td>\n",
       "      <td>22</td>\n",
       "      <td>101</td>\n",
       "      <td>25</td>\n",
       "      <td>209</td>\n",
       "      <td>1.003335</td>\n",
       "      <td>300.0</td>\n",
       "      <td>2.0</td>\n",
       "    </tr>\n",
       "    <tr>\n",
       "      <th>90</th>\n",
       "      <td>5</td>\n",
       "      <td>127</td>\n",
       "      <td>1.002608</td>\n",
       "      <td>1.004110</td>\n",
       "      <td>1.001865</td>\n",
       "      <td>1.004126</td>\n",
       "      <td>22</td>\n",
       "      <td>116</td>\n",
       "      <td>25</td>\n",
       "      <td>101</td>\n",
       "      <td>NaN</td>\n",
       "      <td>NaN</td>\n",
       "      <td>NaN</td>\n",
       "    </tr>\n",
       "    <tr>\n",
       "      <th>91</th>\n",
       "      <td>5</td>\n",
       "      <td>128</td>\n",
       "      <td>1.002608</td>\n",
       "      <td>1.004110</td>\n",
       "      <td>1.001865</td>\n",
       "      <td>1.004126</td>\n",
       "      <td>22</td>\n",
       "      <td>219</td>\n",
       "      <td>25</td>\n",
       "      <td>1</td>\n",
       "      <td>NaN</td>\n",
       "      <td>NaN</td>\n",
       "      <td>NaN</td>\n",
       "    </tr>\n",
       "    <tr>\n",
       "      <th>92</th>\n",
       "      <td>5</td>\n",
       "      <td>129</td>\n",
       "      <td>1.002608</td>\n",
       "      <td>1.004110</td>\n",
       "      <td>1.001865</td>\n",
       "      <td>1.004142</td>\n",
       "      <td>22</td>\n",
       "      <td>220</td>\n",
       "      <td>25</td>\n",
       "      <td>109</td>\n",
       "      <td>NaN</td>\n",
       "      <td>NaN</td>\n",
       "      <td>NaN</td>\n",
       "    </tr>\n",
       "    <tr>\n",
       "      <th>93</th>\n",
       "      <td>5</td>\n",
       "      <td>132</td>\n",
       "      <td>1.002883</td>\n",
       "      <td>1.004110</td>\n",
       "      <td>1.002608</td>\n",
       "      <td>1.004142</td>\n",
       "      <td>1</td>\n",
       "      <td>226</td>\n",
       "      <td>22</td>\n",
       "      <td>109</td>\n",
       "      <td>NaN</td>\n",
       "      <td>NaN</td>\n",
       "      <td>NaN</td>\n",
       "    </tr>\n",
       "    <tr>\n",
       "      <th>94</th>\n",
       "      <td>5</td>\n",
       "      <td>133</td>\n",
       "      <td>1.002883</td>\n",
       "      <td>1.004110</td>\n",
       "      <td>1.002608</td>\n",
       "      <td>1.004142</td>\n",
       "      <td>1</td>\n",
       "      <td>229</td>\n",
       "      <td>22</td>\n",
       "      <td>109</td>\n",
       "      <td>NaN</td>\n",
       "      <td>NaN</td>\n",
       "      <td>NaN</td>\n",
       "    </tr>\n",
       "    <tr>\n",
       "      <th>95</th>\n",
       "      <td>5</td>\n",
       "      <td>135</td>\n",
       "      <td>1.002883</td>\n",
       "      <td>1.004110</td>\n",
       "      <td>1.002608</td>\n",
       "      <td>1.004142</td>\n",
       "      <td>1</td>\n",
       "      <td>223</td>\n",
       "      <td>22</td>\n",
       "      <td>109</td>\n",
       "      <td>NaN</td>\n",
       "      <td>NaN</td>\n",
       "      <td>NaN</td>\n",
       "    </tr>\n",
       "    <tr>\n",
       "      <th>96</th>\n",
       "      <td>5</td>\n",
       "      <td>136</td>\n",
       "      <td>1.002883</td>\n",
       "      <td>1.004110</td>\n",
       "      <td>1.002850</td>\n",
       "      <td>1.004142</td>\n",
       "      <td>1</td>\n",
       "      <td>226</td>\n",
       "      <td>12</td>\n",
       "      <td>109</td>\n",
       "      <td>NaN</td>\n",
       "      <td>NaN</td>\n",
       "      <td>NaN</td>\n",
       "    </tr>\n",
       "    <tr>\n",
       "      <th>97</th>\n",
       "      <td>5</td>\n",
       "      <td>140</td>\n",
       "      <td>1.002883</td>\n",
       "      <td>1.004110</td>\n",
       "      <td>1.002850</td>\n",
       "      <td>1.004142</td>\n",
       "      <td>1</td>\n",
       "      <td>229</td>\n",
       "      <td>12</td>\n",
       "      <td>109</td>\n",
       "      <td>NaN</td>\n",
       "      <td>NaN</td>\n",
       "      <td>NaN</td>\n",
       "    </tr>\n",
       "    <tr>\n",
       "      <th>98</th>\n",
       "      <td>5</td>\n",
       "      <td>141</td>\n",
       "      <td>1.002883</td>\n",
       "      <td>1.004110</td>\n",
       "      <td>1.002850</td>\n",
       "      <td>1.004142</td>\n",
       "      <td>1</td>\n",
       "      <td>329</td>\n",
       "      <td>12</td>\n",
       "      <td>109</td>\n",
       "      <td>NaN</td>\n",
       "      <td>NaN</td>\n",
       "      <td>NaN</td>\n",
       "    </tr>\n",
       "    <tr>\n",
       "      <th>99</th>\n",
       "      <td>5</td>\n",
       "      <td>143</td>\n",
       "      <td>1.002640</td>\n",
       "      <td>1.003464</td>\n",
       "      <td>1.002447</td>\n",
       "      <td>1.003480</td>\n",
       "      <td>100</td>\n",
       "      <td>115</td>\n",
       "      <td>23</td>\n",
       "      <td>114</td>\n",
       "      <td>1.002883</td>\n",
       "      <td>1.0</td>\n",
       "      <td>1.0</td>\n",
       "    </tr>\n",
       "  </tbody>\n",
       "</table>\n",
       "</div>"
      ],
      "text/plain": [
       "    time_id  seconds_in_bucket  bid_price1  ask_price1  bid_price2  \\\n",
       "85        5                120    1.003335    1.004126    1.002608   \n",
       "86        5                121    1.003335    1.004142    1.003206   \n",
       "87        5                122    1.003335    1.004142    1.003222   \n",
       "88        5                123    1.003335    1.004142    1.002608   \n",
       "89        5                125    1.002608    1.004126    1.001865   \n",
       "90        5                127    1.002608    1.004110    1.001865   \n",
       "91        5                128    1.002608    1.004110    1.001865   \n",
       "92        5                129    1.002608    1.004110    1.001865   \n",
       "93        5                132    1.002883    1.004110    1.002608   \n",
       "94        5                133    1.002883    1.004110    1.002608   \n",
       "95        5                135    1.002883    1.004110    1.002608   \n",
       "96        5                136    1.002883    1.004110    1.002850   \n",
       "97        5                140    1.002883    1.004110    1.002850   \n",
       "98        5                141    1.002883    1.004110    1.002850   \n",
       "99        5                143    1.002640    1.003464    1.002447   \n",
       "\n",
       "    ask_price2  bid_size1  ask_size1  bid_size2  ask_size2     price   size  \\\n",
       "85    1.004142        307         14         22        123       NaN    NaN   \n",
       "86    1.004255        361        109         22          1  1.003739    3.0   \n",
       "87    1.004255        361        109         50          1       NaN    NaN   \n",
       "88    1.004255        360        109         22          1  1.003577  418.0   \n",
       "89    1.004142         22        101         25        209  1.003335  300.0   \n",
       "90    1.004126         22        116         25        101       NaN    NaN   \n",
       "91    1.004126         22        219         25          1       NaN    NaN   \n",
       "92    1.004142         22        220         25        109       NaN    NaN   \n",
       "93    1.004142          1        226         22        109       NaN    NaN   \n",
       "94    1.004142          1        229         22        109       NaN    NaN   \n",
       "95    1.004142          1        223         22        109       NaN    NaN   \n",
       "96    1.004142          1        226         12        109       NaN    NaN   \n",
       "97    1.004142          1        229         12        109       NaN    NaN   \n",
       "98    1.004142          1        329         12        109       NaN    NaN   \n",
       "99    1.003480        100        115         23        114  1.002883    1.0   \n",
       "\n",
       "    order_count  \n",
       "85          NaN  \n",
       "86          1.0  \n",
       "87          NaN  \n",
       "88          5.0  \n",
       "89          2.0  \n",
       "90          NaN  \n",
       "91          NaN  \n",
       "92          NaN  \n",
       "93          NaN  \n",
       "94          NaN  \n",
       "95          NaN  \n",
       "96          NaN  \n",
       "97          NaN  \n",
       "98          NaN  \n",
       "99          1.0  "
      ]
     },
     "execution_count": 40,
     "metadata": {},
     "output_type": "execute_result"
    }
   ],
   "source": [
    "book[book.time_id == 5].head(100).tail(15)"
   ]
  },
  {
   "cell_type": "code",
   "execution_count": 41,
   "metadata": {},
   "outputs": [],
   "source": [
    "book['wap'] = (book['bid_price1'] * book['ask_size1'] + book['ask_price1'] * book['bid_size1']) / (\n",
    "    book['ask_size1'] + book['bid_size1'])\n",
    "    \n",
    "book['log_price'] = np.log(book['wap'])\n",
    "book['log_return'] = book.groupby(['time_id'])['log_price'].diff()\n",
    "book['square_return'] = book['log_return'] ** 2\n",
    "book = book[~book['log_return'].isnull()]\n",
    "book['stock_id'] = stock_id"
   ]
  },
  {
   "cell_type": "code",
   "execution_count": 15,
   "metadata": {
    "scrolled": false
   },
   "outputs": [
    {
     "data": {
      "text/plain": [
       "1.000000    5509\n",
       "1.000024     337\n",
       "1.000024     331\n",
       "1.000023     325\n",
       "1.000023     320\n",
       "            ... \n",
       "0.993176       1\n",
       "1.002979       1\n",
       "0.993167       1\n",
       "1.002961       1\n",
       "0.997368       1\n",
       "Name: bid_price1, Length: 81633, dtype: int64"
      ]
     },
     "execution_count": 15,
     "metadata": {},
     "output_type": "execute_result"
    }
   ],
   "source": [
    "book['bid_price1'].value_counts()"
   ]
  },
  {
   "cell_type": "code",
   "execution_count": 17,
   "metadata": {},
   "outputs": [
    {
     "data": {
      "text/plain": [
       "1.000000    5839\n",
       "1.000024     468\n",
       "1.000024     345\n",
       "1.000024     308\n",
       "1.000026     296\n",
       "            ... \n",
       "1.004353       1\n",
       "1.004351       1\n",
       "1.022372       1\n",
       "1.004369       1\n",
       "0.996977       1\n",
       "Name: ask_price1, Length: 77354, dtype: int64"
      ]
     },
     "execution_count": 17,
     "metadata": {},
     "output_type": "execute_result"
    }
   ],
   "source": [
    "book['ask_price1'].value_counts()"
   ]
  },
  {
   "cell_type": "code",
   "execution_count": 35,
   "metadata": {},
   "outputs": [],
   "source": [
    "def book_filler(book):\n",
    "    collect_data = []\n",
    "    for time_id, time_id_data in book.groupby('time_id'):\n",
    "        time_id_data = pd.merge(time_id_data, pd.DataFrame({'seconds_in_bucket': range(0, 600)}), \n",
    "                               on='seconds_in_bucket', how='right')\n",
    "        time_id_data['time_id'] = time_id\n",
    "\n",
    "        collect_data.append(time_id_data.sort_values('seconds_in_bucket'))\n",
    "    \n",
    "    return pd.concat(collect_data)"
   ]
  },
  {
   "cell_type": "code",
   "execution_count": 51,
   "metadata": {},
   "outputs": [],
   "source": [
    "book1 = book_filler(book)\n",
    "book1['square_return'] = book1['square_return'].fillna(0)\n",
    "book1 = book1.reset_index().drop(columns='index')"
   ]
  },
  {
   "cell_type": "code",
   "execution_count": 67,
   "metadata": {},
   "outputs": [],
   "source": [
    "temp = book1.groupby('time_id')['square_return'].expanding().sum().reset_index().drop(columns='level_1') "
   ]
  },
  {
   "cell_type": "code",
   "execution_count": 70,
   "metadata": {},
   "outputs": [],
   "source": [
    "temp['square_return'] = (temp['square_return']) ** 0.5"
   ]
  },
  {
   "cell_type": "code",
   "execution_count": 55,
   "metadata": {},
   "outputs": [],
   "source": [
    "temp = temp.dropna()"
   ]
  },
  {
   "cell_type": "code",
   "execution_count": 63,
   "metadata": {},
   "outputs": [
    {
     "data": {
      "text/plain": [
       "array([    5,    11,    16, ..., 32758, 32763, 32767])"
      ]
     },
     "execution_count": 63,
     "metadata": {},
     "output_type": "execute_result"
    }
   ],
   "source": [
    "temp['time_id'].unique()"
   ]
  },
  {
   "cell_type": "code",
   "execution_count": 75,
   "metadata": {},
   "outputs": [
    {
     "data": {
      "text/plain": [
       "<AxesSubplot:>"
      ]
     },
     "execution_count": 75,
     "metadata": {},
     "output_type": "execute_result"
    },
    {
     "data": {
      "image/png": "[encoded data removed]",
      "text/plain": [
       "<Figure size 432x288 with 1 Axes>"
      ]
     },
     "metadata": {
      "needs_background": "light"
     },
     "output_type": "display_data"
    }
   ],
   "source": [
    "book.square_return[book.time_id == 5].cumsum().plot()"
   ]
  },
  {
   "cell_type": "code",
   "execution_count": 110,
   "metadata": {},
   "outputs": [
    {
     "data": {
      "text/plain": [
       "<matplotlib.collections.PathCollection at 0x7f51b5560e90>"
      ]
     },
     "execution_count": 110,
     "metadata": {},
     "output_type": "execute_result"
    },
    {
     "data": {
      "image/png": "[encoded data removed]",
      "text/plain": [
       "<Figure size 432x288 with 1 Axes>"
      ]
     },
     "metadata": {
      "needs_background": "light"
     },
     "output_type": "display_data"
    }
   ],
   "source": [
    "dots = book['size'].fillna(0)[book.time_id == 5]\n",
    "\n",
    "color = [{True: 'red', False: 'blue'}[x] for x in dots > 0]\n",
    "\n",
    "plt.scatter(book['seconds_in_bucket'][book.time_id == 5], book['wap'][book.time_id == 5], color=color)"
   ]
  },
  {
   "cell_type": "code",
   "execution_count": 87,
   "metadata": {},
   "outputs": [
    {
     "data": {
      "text/plain": [
       "<AxesSubplot:>"
      ]
     },
     "execution_count": 87,
     "metadata": {},
     "output_type": "execute_result"
    },
    {
     "data": {
      "image/png": "[encoded data removed]",
      "text/plain": [
       "<Figure size 432x288 with 1 Axes>"
      ]
     },
     "metadata": {
      "needs_background": "light"
     },
     "output_type": "display_data"
    }
   ],
   "source": [
    "book['size_x'][book.time_id == 5].fillna(0).cumsum().plot()"
   ]
  },
  {
   "cell_type": "code",
   "execution_count": 9,
   "metadata": {},
   "outputs": [
    {
     "name": "stderr",
     "output_type": "stream",
     "text": [
      "/home/dro/anaconda3/lib/python3.7/site-packages/ipykernel_launcher.py:1: FutureWarning: Indexing with multiple keys (implicitly converted to a tuple of keys) will be deprecated, use a list instead.\n",
      "  \"\"\"Entry point for launching an IPython kernel.\n"
     ]
    }
   ],
   "source": [
    "temp = book.groupby(['time_id', 'stock_id'])['square_return', 'size'].sum().reset_index()\n",
    "temp['answer'] = temp['square_return'] ** 0.5"
   ]
  },
  {
   "cell_type": "code",
   "execution_count": 10,
   "metadata": {},
   "outputs": [],
   "source": [
    "merged = pd.merge(train, temp, on=['time_id', 'stock_id'], how='right')"
   ]
  },
  {
   "cell_type": "code",
   "execution_count": 11,
   "metadata": {},
   "outputs": [],
   "source": [
    "merged['to_group'] = merged['answer'] - merged['target']"
   ]
  },
  {
   "cell_type": "code",
   "execution_count": 15,
   "metadata": {},
   "outputs": [],
   "source": [
    "temp = pd.merge(book.groupby(['time_id', 'stock_id']).last().reset_index(), \n",
    "                train, on=['time_id', 'stock_id'], how='inner')"
   ]
  },
  {
   "cell_type": "code",
   "execution_count": 17,
   "metadata": {},
   "outputs": [],
   "source": [
    "temp['oimb'] = abs(temp['bid_size1'] - temp['ask_size1']) / (temp['bid_size1'] + temp['ask_size1'])"
   ]
  },
  {
   "cell_type": "code",
   "execution_count": 20,
   "metadata": {},
   "outputs": [
    {
     "data": {
      "text/plain": [
       "<matplotlib.collections.PathCollection at 0x7fc7382a2cd0>"
      ]
     },
     "execution_count": 20,
     "metadata": {},
     "output_type": "execute_result"
    },
    {
     "data": {
      "image/png": "[encoded data removed]",
      "text/plain": [
       "<Figure size 432x288 with 1 Axes>"
      ]
     },
     "metadata": {
      "needs_background": "light"
     },
     "output_type": "display_data"
    }
   ],
   "source": [
    "plt.scatter(temp['oimb'], temp['target'])"
   ]
  },
  {
   "cell_type": "code",
   "execution_count": 70,
   "metadata": {},
   "outputs": [],
   "source": [
    "merged['to_group'] = merged['size'] // 1000"
   ]
  },
  {
   "cell_type": "code",
   "execution_count": 76,
   "metadata": {},
   "outputs": [],
   "source": [
    "merged['diff'] = (merged['answer'] - merged['target'])"
   ]
  },
  {
   "cell_type": "code",
   "execution_count": 77,
   "metadata": {},
   "outputs": [
    {
     "data": {
      "text/plain": [
       "<AxesSubplot:xlabel='to_group'>"
      ]
     },
     "execution_count": 77,
     "metadata": {},
     "output_type": "execute_result"
    },
    {
     "data": {
      "image/png": "[encoded data removed]",
      "text/plain": [
       "<Figure size 432x288 with 1 Axes>"
      ]
     },
     "metadata": {
      "needs_background": "light"
     },
     "output_type": "display_data"
    }
   ],
   "source": [
    "merged.groupby('to_group')['diff'].mean().plot()"
   ]
  },
  {
   "cell_type": "code",
   "execution_count": 113,
   "metadata": {},
   "outputs": [],
   "source": [
    "temp = pd.pivot_table(book, values='square_return', columns='seconds_in_bucket', index='time_id', aggfunc='last')"
   ]
  },
  {
   "cell_type": "code",
   "execution_count": 116,
   "metadata": {},
   "outputs": [
    {
     "data": {
      "text/plain": [
       "<AxesSubplot:xlabel='seconds_in_bucket'>"
      ]
     },
     "execution_count": 116,
     "metadata": {},
     "output_type": "execute_result"
    },
    {
     "data": {
      "image/png": "[encoded data removed]",
      "text/plain": [
       "<Figure size 432x288 with 1 Axes>"
      ]
     },
     "metadata": {
      "needs_background": "light"
     },
     "output_type": "display_data"
    }
   ],
   "source": [
    "temp.mean().plot()"
   ]
  },
  {
   "cell_type": "code",
   "execution_count": 140,
   "metadata": {},
   "outputs": [
    {
     "data": {
      "text/plain": [
       "115"
      ]
     },
     "execution_count": 140,
     "metadata": {},
     "output_type": "execute_result"
    }
   ],
   "source": [
    "stock_ids[102]"
   ]
  },
  {
   "cell_type": "code",
   "execution_count": 141,
   "metadata": {},
   "outputs": [],
   "source": [
    "stock_id = stock_ids[102]\n",
    "book = pd.read_parquet('book_train.parquet/stock_id=' + str(stock_id))\n",
    "trades = pd.read_parquet('trade_train.parquet/stock_id=' + str(stock_id))\n",
    "book['wap'] = (book['bid_price1'] * book['ask_size1'] + book['ask_price1'] * book['bid_size1']) / (\n",
    "    book['ask_size1'] + book['bid_size1'])\n",
    "    \n",
    "book['log_price'] = np.log(book['wap'])\n",
    "book['log_return'] = book.groupby(['time_id'])['log_price'].diff()\n",
    "book['square_return'] = book['log_return'] ** 2\n",
    "book = book[~book['log_return'].isnull()]\n",
    "book['stock_id'] = stock_id\n",
    "book = pd.merge(book, trades, on=['time_id', 'seconds_in_bucket'], how='left')"
   ]
  },
  {
   "cell_type": "code",
   "execution_count": 145,
   "metadata": {},
   "outputs": [
    {
     "data": {
      "text/plain": [
       "<AxesSubplot:xlabel='seconds_in_bucket'>"
      ]
     },
     "execution_count": 145,
     "metadata": {},
     "output_type": "execute_result"
    },
    {
     "data": {
      "image/png": "[encoded data removed]",
      "text/plain": [
       "<Figure size 432x288 with 1 Axes>"
      ]
     },
     "metadata": {
      "needs_background": "light"
     },
     "output_type": "display_data"
    }
   ],
   "source": [
    "temp = pd.pivot_table(book, values='square_return', columns='seconds_in_bucket', index='time_id', aggfunc='last')\n",
    "temp.mean().plot()"
   ]
  },
  {
   "cell_type": "code",
   "execution_count": 152,
   "metadata": {},
   "outputs": [
    {
     "data": {
      "text/plain": [
       "8149"
      ]
     },
     "execution_count": 152,
     "metadata": {},
     "output_type": "execute_result"
    }
   ],
   "source": []
  }
 ],
 "metadata": {
  "kernelspec": {
   "display_name": "Python 3",
   "language": "python",
   "name": "python3"
  },
  "language_info": {
   "codemirror_mode": {
    "name": "ipython",
    "version": 3
   },
   "file_extension": ".py",
   "mimetype": "text/x-python",
   "name": "python",
   "nbconvert_exporter": "python",
   "pygments_lexer": "ipython3",
   "version": "3.7.6"
  }
 },
 "nbformat": 4,
 "nbformat_minor": 4
}

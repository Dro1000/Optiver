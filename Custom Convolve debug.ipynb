{
 "cells": [
  {
   "cell_type": "markdown",
   "metadata": {},
   "source": [
    "## Here we will try to use convolution model: $\\sum_t r_{t - 1, t}^2 * w_t$, where w_i will be fit, r - returns"
   ]
  },
  {
   "cell_type": "code",
   "execution_count": 24,
   "metadata": {},
   "outputs": [],
   "source": [
    "import pandas as pd\n",
    "import numpy as np\n",
    "import matplotlib.pyplot as plt\n",
    "from tqdm import tqdm, trange\n",
    "from utils import rmspe"
   ]
  },
  {
   "cell_type": "code",
   "execution_count": 40,
   "metadata": {},
   "outputs": [],
   "source": [
    "from sklearn.model_selection import train_test_split"
   ]
  },
  {
   "cell_type": "code",
   "execution_count": 25,
   "metadata": {},
   "outputs": [],
   "source": [
    "train_targets = pd.read_csv('train.csv')"
   ]
  },
  {
   "cell_type": "code",
   "execution_count": 26,
   "metadata": {},
   "outputs": [],
   "source": [
    "import os\n",
    "import re\n",
    "stock_ids = sorted(\n",
    "    [int(re.sub('stock_id=', '', x)) for x in os.listdir('book_train.parquet')])"
   ]
  },
  {
   "cell_type": "code",
   "execution_count": 384,
   "metadata": {},
   "outputs": [],
   "source": [
    "stock_id = stock_ids[0]"
   ]
  },
  {
   "cell_type": "code",
   "execution_count": 385,
   "metadata": {},
   "outputs": [],
   "source": [
    "book = pd.read_parquet('book_train.parquet/stock_id=' + str(stock_id))\n",
    "trades = pd.read_parquet('trade_train.parquet/stock_id=' + str(stock_id))"
   ]
  },
  {
   "cell_type": "code",
   "execution_count": 386,
   "metadata": {},
   "outputs": [],
   "source": [
    "book['wap'] = (book['bid_price1'] * book['ask_size1'] + book['ask_price1'] * book['bid_size1']) / (\n",
    "    book['ask_size1'] + book['bid_size1'])\n",
    "    \n",
    "book['log_price'] = np.log(book['wap'])\n",
    "book['bucket_in_bucket'] = book['seconds_in_bucket'] // 100\n",
    "book['log_return'] = book.groupby(['time_id', 'bucket_in_bucket'])['log_price'].diff()\n",
    "book['square_return'] = book['log_return'] ** 2\n",
    "book = book[~book['log_return'].isnull()]\n",
    "book['stock_id'] = stock_id"
   ]
  },
  {
   "cell_type": "code",
   "execution_count": 387,
   "metadata": {},
   "outputs": [],
   "source": [
    "book['seconds_to_end'] = 600 - book['seconds_in_bucket']\n",
    "book = pd.merge(book, train_targets, how='left', on=['time_id', 'stock_id'])"
   ]
  },
  {
   "cell_type": "code",
   "execution_count": 388,
   "metadata": {},
   "outputs": [],
   "source": [
    "X = pd.pivot_table(book, \n",
    "                   values='square_return', \n",
    "                   columns=['seconds_in_bucket'], \n",
    "                   index='time_id', aggfunc='last')\n",
    "\n",
    "X = X.fillna(0)\n",
    "y = train_targets[train_targets.stock_id == stock_id].set_index('time_id')['target'].loc[X.index]"
   ]
  },
  {
   "cell_type": "code",
   "execution_count": 399,
   "metadata": {},
   "outputs": [],
   "source": [
    "X_train, X_test, y_train, y_test = train_test_split(X, y)"
   ]
  },
  {
   "cell_type": "code",
   "execution_count": 400,
   "metadata": {},
   "outputs": [],
   "source": [
    "lr = 1\n",
    "weights = np.ones(X_train.shape[1])\n",
    "n_steps = 300"
   ]
  },
  {
   "cell_type": "code",
   "execution_count": 401,
   "metadata": {},
   "outputs": [],
   "source": [
    "train_loss_history = []\n",
    "test_loss_history = []"
   ]
  },
  {
   "cell_type": "code",
   "execution_count": 402,
   "metadata": {},
   "outputs": [
    {
     "name": "stderr",
     "output_type": "stream",
     "text": [
      "100%|██████████| 300/300 [00:05<00:00, 54.04it/s]\n"
     ]
    }
   ],
   "source": [
    "for n in trange(n_steps):\n",
    "    train_loss = rmspe(y_train, np.dot(X_train, weights).clip(0) ** 0.5)\n",
    "    test_loss = rmspe(y_test, np.dot(X_test, weights).clip(0) ** 0.5)\n",
    "    \n",
    "    y_pred = np.dot(X_train, weights).clip(min=0.0001 ** 2) ** 0.5\n",
    "    \n",
    "    reg = 1\n",
    "    der = np.dot(((y_pred - y_train) / y_pred / y_train), X_train.values)\n",
    "    \n",
    "    weights -= lr * der\n",
    "    weights = weights.clip(0)\n",
    "    train_loss_history.append(train_loss)\n",
    "    test_loss_history.append(test_loss)\n",
    "    "
   ]
  },
  {
   "cell_type": "code",
   "execution_count": 403,
   "metadata": {},
   "outputs": [
    {
     "data": {
      "image/png": "[encoded data removed]",
      "text/plain": [
       "<Figure size 432x288 with 1 Axes>"
      ]
     },
     "metadata": {
      "needs_background": "light"
     },
     "output_type": "display_data"
    }
   ],
   "source": [
    "plt.plot(train_loss_history)\n",
    "plt.plot(test_loss_history)\n",
    "\n",
    "plt.legend(['train', 'test'])\n",
    "plt.grid()"
   ]
  },
  {
   "cell_type": "code",
   "execution_count": 408,
   "metadata": {},
   "outputs": [
    {
     "name": "stderr",
     "output_type": "stream",
     "text": [
      "\n",
      "\n",
      "  0%|          | 0/112 [00:00<?, ?it/s]\u001b[A\u001b[A\n",
      "\n",
      "  1%|          | 1/112 [00:10<19:48, 10.70s/it]\u001b[A\u001b[A\n",
      "\n",
      "  2%|▏         | 2/112 [00:32<25:31, 13.92s/it]\u001b[A\u001b[A\n",
      "\n",
      "  3%|▎         | 3/112 [00:47<26:14, 14.44s/it]\u001b[A\u001b[A\n",
      "\n",
      "  4%|▎         | 4/112 [01:01<25:32, 14.19s/it]\u001b[A\u001b[A\n",
      "\n",
      "  4%|▍         | 5/112 [01:14<24:38, 13.82s/it]\u001b[A\u001b[A\n",
      "\n",
      "  5%|▌         | 6/112 [01:27<23:47, 13.47s/it]\u001b[A\u001b[A\n",
      "\n",
      "  6%|▋         | 7/112 [01:40<23:29, 13.42s/it]\u001b[A\u001b[A\n",
      "\n",
      "  7%|▋         | 8/112 [01:52<22:51, 13.19s/it]\u001b[A\u001b[A\n",
      "\n",
      "  8%|▊         | 9/112 [02:06<22:50, 13.30s/it]\u001b[A\u001b[A\n",
      "\n",
      "  9%|▉         | 10/112 [02:18<22:09, 13.03s/it]\u001b[A\u001b[A\n",
      "\n",
      " 10%|▉         | 11/112 [02:33<22:37, 13.44s/it]\u001b[A\u001b[A\n",
      "\n",
      " 11%|█         | 12/112 [02:46<22:10, 13.30s/it]\u001b[A\u001b[A\n",
      "\n",
      " 12%|█▏        | 13/112 [03:00<22:17, 13.51s/it]\u001b[A\u001b[A\n",
      "\n",
      " 12%|█▎        | 14/112 [03:15<22:52, 14.01s/it]\u001b[A\u001b[A\n",
      "\n",
      " 13%|█▎        | 15/112 [03:29<22:39, 14.01s/it]\u001b[A\u001b[A\n",
      "\n",
      " 14%|█▍        | 16/112 [03:42<21:47, 13.62s/it]\u001b[A\u001b[A\n",
      "\n",
      " 15%|█▌        | 17/112 [03:56<21:43, 13.72s/it]\u001b[A\u001b[A\n",
      "\n",
      " 16%|█▌        | 18/112 [04:10<21:47, 13.91s/it]\u001b[A\u001b[A\n",
      "\n",
      " 17%|█▋        | 19/112 [04:28<23:17, 15.03s/it]\u001b[A\u001b[A\n",
      "\n",
      " 18%|█▊        | 20/112 [04:40<22:01, 14.36s/it]\u001b[A\u001b[A\n",
      "\n",
      " 19%|█▉        | 21/112 [04:57<22:39, 14.94s/it]\u001b[A\u001b[A\n",
      "\n",
      " 20%|█▉        | 22/112 [05:11<21:53, 14.59s/it]\u001b[A\u001b[A\n",
      "\n",
      " 21%|██        | 23/112 [05:24<21:20, 14.39s/it]\u001b[A\u001b[A\n",
      "\n",
      " 21%|██▏       | 24/112 [05:39<21:01, 14.34s/it]\u001b[A\u001b[A\n",
      "\n",
      " 22%|██▏       | 25/112 [05:53<20:56, 14.44s/it]\u001b[A\u001b[A\n",
      "\n",
      " 23%|██▎       | 26/112 [06:08<20:40, 14.42s/it]\u001b[A\u001b[A\n",
      "\n",
      " 24%|██▍       | 27/112 [06:22<20:10, 14.24s/it]\u001b[A\u001b[A\n",
      "\n",
      " 25%|██▌       | 28/112 [06:38<20:45, 14.83s/it]\u001b[A\u001b[A\n",
      "\n",
      " 26%|██▌       | 29/112 [06:54<20:56, 15.14s/it]\u001b[A\u001b[A\n",
      "\n",
      " 27%|██▋       | 30/112 [07:11<21:44, 15.91s/it]\u001b[A\u001b[A\n",
      "\n",
      " 28%|██▊       | 31/112 [07:39<26:20, 19.51s/it]\u001b[A\u001b[A\n",
      "\n",
      " 29%|██▊       | 32/112 [08:02<27:21, 20.52s/it]\u001b[A\u001b[A\n",
      "\n",
      " 29%|██▉       | 33/112 [08:19<25:25, 19.31s/it]\u001b[A\u001b[A\n",
      "\n",
      " 30%|███       | 34/112 [08:33<23:23, 17.99s/it]\u001b[A\u001b[A\n",
      "\n",
      " 31%|███▏      | 35/112 [08:57<25:11, 19.63s/it]\u001b[A\u001b[A\n",
      "\n",
      " 32%|███▏      | 36/112 [09:20<26:17, 20.76s/it]\u001b[A\u001b[A\n",
      "\n",
      " 33%|███▎      | 37/112 [09:48<28:26, 22.76s/it]\u001b[A\u001b[A\n",
      "\n",
      " 34%|███▍      | 38/112 [10:13<28:56, 23.47s/it]\u001b[A\u001b[A\n",
      "\n",
      " 35%|███▍      | 39/112 [10:40<29:52, 24.56s/it]\u001b[A\u001b[A\n",
      "\n",
      " 36%|███▌      | 40/112 [11:03<28:53, 24.08s/it]\u001b[A\u001b[A\n",
      "\n",
      " 37%|███▋      | 41/112 [11:18<25:22, 21.45s/it]\u001b[A\u001b[A\n",
      "\n",
      " 38%|███▊      | 42/112 [11:31<22:00, 18.86s/it]\u001b[A\u001b[A\n",
      "\n",
      " 38%|███▊      | 43/112 [11:45<20:01, 17.42s/it]\u001b[A\u001b[A\n",
      "\n",
      " 39%|███▉      | 44/112 [12:01<19:20, 17.06s/it]\u001b[A\u001b[A\n",
      "\n",
      " 40%|████      | 45/112 [12:11<16:28, 14.76s/it]\u001b[A\u001b[A\n",
      "\n",
      " 41%|████      | 46/112 [12:21<14:42, 13.37s/it]\u001b[A\u001b[A\n",
      "\n",
      " 42%|████▏     | 47/112 [12:30<13:02, 12.04s/it]\u001b[A\u001b[A\n",
      "\n",
      " 43%|████▎     | 48/112 [12:39<11:57, 11.20s/it]\u001b[A\u001b[A\n",
      "\n",
      " 44%|████▍     | 49/112 [12:50<11:37, 11.07s/it]\u001b[A\u001b[A\n",
      "\n",
      " 45%|████▍     | 50/112 [12:59<10:55, 10.57s/it]\u001b[A\u001b[A\n",
      "\n",
      " 46%|████▌     | 51/112 [13:11<11:02, 10.86s/it]\u001b[A\u001b[A\n",
      "\n",
      " 46%|████▋     | 52/112 [13:21<10:47, 10.80s/it]\u001b[A\u001b[A\n",
      "\n",
      " 47%|████▋     | 53/112 [13:31<10:07, 10.30s/it]\u001b[A\u001b[A\n",
      "\n",
      " 48%|████▊     | 54/112 [13:40<09:39,  9.99s/it]\u001b[A\u001b[A\n",
      "\n",
      " 49%|████▉     | 55/112 [13:51<09:47, 10.30s/it]\u001b[A\u001b[A\n",
      "\n",
      " 50%|█████     | 56/112 [14:02<09:55, 10.63s/it]\u001b[A\u001b[A\n",
      "\n",
      " 51%|█████     | 57/112 [14:15<10:12, 11.14s/it]\u001b[A\u001b[A\n",
      "\n",
      " 52%|█████▏    | 58/112 [14:24<09:31, 10.59s/it]\u001b[A\u001b[A\n",
      "\n",
      " 53%|█████▎    | 59/112 [14:33<08:55, 10.09s/it]\u001b[A\u001b[A\n",
      "\n",
      " 54%|█████▎    | 60/112 [14:42<08:28,  9.78s/it]\u001b[A\u001b[A\n",
      "\n",
      " 54%|█████▍    | 61/112 [14:51<08:13,  9.68s/it]\u001b[A\u001b[A\n",
      "\n",
      " 55%|█████▌    | 62/112 [15:01<08:02,  9.64s/it]\u001b[A\u001b[A\n",
      "\n",
      " 56%|█████▋    | 63/112 [15:10<07:43,  9.46s/it]\u001b[A\u001b[A\n",
      "\n",
      " 57%|█████▋    | 64/112 [15:19<07:23,  9.25s/it]\u001b[A\u001b[A\n",
      "\n",
      " 58%|█████▊    | 65/112 [15:34<08:37, 11.02s/it]\u001b[A\u001b[A\n",
      "\n",
      " 59%|█████▉    | 66/112 [15:55<10:42, 13.97s/it]\u001b[A\u001b[A\n",
      "\n",
      " 60%|█████▉    | 67/112 [16:14<11:43, 15.63s/it]\u001b[A\u001b[A\n",
      "\n",
      " 61%|██████    | 68/112 [16:35<12:39, 17.27s/it]\u001b[A\u001b[A\n",
      "\n",
      " 62%|██████▏   | 69/112 [16:58<13:36, 18.98s/it]\u001b[A\u001b[A\n",
      "\n",
      " 62%|██████▎   | 70/112 [17:18<13:28, 19.25s/it]\u001b[A\u001b[A\n",
      "\n",
      " 63%|██████▎   | 71/112 [17:39<13:27, 19.70s/it]\u001b[A\u001b[A\n",
      "\n",
      " 64%|██████▍   | 72/112 [18:00<13:19, 19.99s/it]\u001b[A\u001b[A\n",
      "\n",
      " 65%|██████▌   | 73/112 [18:20<13:09, 20.24s/it]\u001b[A\u001b[A\n",
      "\n",
      " 66%|██████▌   | 74/112 [18:41<12:53, 20.35s/it]\u001b[A\u001b[A\n",
      "\n",
      " 67%|██████▋   | 75/112 [19:02<12:36, 20.43s/it]\u001b[A\u001b[A\n",
      "\n",
      " 68%|██████▊   | 76/112 [19:23<12:25, 20.70s/it]\u001b[A\u001b[A\n",
      "\n",
      " 69%|██████▉   | 77/112 [19:40<11:31, 19.76s/it]\u001b[A\u001b[A\n",
      "\n",
      " 70%|██████▉   | 78/112 [19:55<10:22, 18.30s/it]\u001b[A\u001b[A\n",
      "\n",
      " 71%|███████   | 79/112 [20:12<09:43, 17.69s/it]\u001b[A\u001b[A\n",
      "\n",
      " 71%|███████▏  | 80/112 [20:24<08:38, 16.22s/it]\u001b[A\u001b[A\n",
      "\n",
      " 72%|███████▏  | 81/112 [20:35<07:27, 14.44s/it]\u001b[A\u001b[A\n",
      "\n",
      " 73%|███████▎  | 82/112 [20:46<06:45, 13.51s/it]\u001b[A\u001b[A\n",
      "\n",
      " 74%|███████▍  | 83/112 [20:57<06:06, 12.63s/it]\u001b[A\u001b[A\n",
      "\n",
      " 75%|███████▌  | 84/112 [21:06<05:29, 11.78s/it]\u001b[A\u001b[A\n",
      "\n",
      " 76%|███████▌  | 85/112 [21:20<05:34, 12.41s/it]\u001b[A\u001b[A\n",
      "\n",
      " 77%|███████▋  | 86/112 [21:32<05:14, 12.11s/it]\u001b[A\u001b[A\n",
      "\n",
      " 78%|███████▊  | 87/112 [21:43<04:57, 11.88s/it]\u001b[A\u001b[A\n",
      "\n",
      " 79%|███████▊  | 88/112 [21:54<04:40, 11.69s/it]\u001b[A\u001b[A\n",
      "\n",
      " 79%|███████▉  | 89/112 [22:03<04:07, 10.78s/it]\u001b[A\u001b[A\n",
      "\n",
      " 80%|████████  | 90/112 [22:12<03:42, 10.13s/it]\u001b[A\u001b[A\n",
      "\n",
      " 81%|████████▏ | 91/112 [22:20<03:22,  9.67s/it]\u001b[A\u001b[A\n",
      "\n",
      " 82%|████████▏ | 92/112 [22:30<03:14,  9.74s/it]\u001b[A\u001b[A\n",
      "\n",
      " 83%|████████▎ | 93/112 [22:38<02:57,  9.36s/it]\u001b[A\u001b[A\n",
      "\n",
      " 84%|████████▍ | 94/112 [22:47<02:44,  9.12s/it]\u001b[A\u001b[A\n",
      "\n",
      " 85%|████████▍ | 95/112 [22:55<02:31,  8.90s/it]\u001b[A\u001b[A\n",
      "\n",
      " 86%|████████▌ | 96/112 [23:05<02:24,  9.05s/it]\u001b[A\u001b[A\n",
      "\n",
      " 87%|████████▋ | 97/112 [23:13<02:12,  8.86s/it]\u001b[A\u001b[A\n",
      "\n",
      " 88%|████████▊ | 98/112 [23:22<02:03,  8.79s/it]\u001b[A\u001b[A\n",
      "\n",
      " 88%|████████▊ | 99/112 [23:31<01:56,  8.97s/it]\u001b[A\u001b[A\n",
      "\n",
      " 89%|████████▉ | 100/112 [23:41<01:49,  9.10s/it]\u001b[A\u001b[A\n",
      "\n",
      " 90%|█████████ | 101/112 [23:55<01:57, 10.72s/it]\u001b[A\u001b[A\n",
      "\n",
      " 91%|█████████ | 102/112 [24:07<01:50, 11.07s/it]\u001b[A\u001b[A\n",
      "\n",
      " 92%|█████████▏| 103/112 [24:19<01:42, 11.34s/it]\u001b[A\u001b[A\n",
      "\n",
      " 93%|█████████▎| 104/112 [24:31<01:31, 11.40s/it]\u001b[A\u001b[A\n",
      "\n",
      " 94%|█████████▍| 105/112 [24:42<01:20, 11.46s/it]\u001b[A\u001b[A\n",
      "\n",
      " 95%|█████████▍| 106/112 [24:56<01:13, 12.28s/it]\u001b[A\u001b[A\n",
      "\n",
      " 96%|█████████▌| 107/112 [25:10<01:03, 12.65s/it]\u001b[A\u001b[A\n",
      "\n",
      " 96%|█████████▋| 108/112 [25:24<00:52, 13.04s/it]\u001b[A\u001b[A\n",
      "\n",
      " 97%|█████████▋| 109/112 [25:38<00:40, 13.39s/it]\u001b[A\u001b[A\n",
      "\n",
      " 98%|█████████▊| 110/112 [25:53<00:27, 13.81s/it]\u001b[A\u001b[A\n",
      "\n",
      " 99%|█████████▉| 111/112 [26:07<00:13, 13.88s/it]\u001b[A\u001b[A\n",
      "\n",
      "100%|██████████| 112/112 [26:20<00:00, 14.12s/it]\u001b[A\u001b[A\n"
     ]
    }
   ],
   "source": [
    "res = {}\n",
    "\n",
    "for stock_id in tqdm(stock_ids):\n",
    "    book = pd.read_parquet('book_train.parquet/stock_id=' + str(stock_id))\n",
    "    book['wap'] = (book['bid_price1'] * book['ask_size1'] + book['ask_price1'] * book['bid_size1']) / (\n",
    "    book['ask_size1'] + book['bid_size1'])\n",
    "    \n",
    "    book['log_price'] = np.log(book['wap'])\n",
    "    book['bucket_in_bucket'] = book['seconds_in_bucket'] // 100\n",
    "    book['log_return'] = book.groupby(['time_id', 'bucket_in_bucket'])['log_price'].diff()\n",
    "    book['square_return'] = book['log_return'] ** 2\n",
    "    book = book[~book['log_return'].isnull()]\n",
    "    book['stock_id'] = stock_id\n",
    "    \n",
    "    \n",
    "    book['seconds_to_end'] = 600 - book['seconds_in_bucket']\n",
    "    book = pd.merge(book, train_targets, how='left', on=['time_id', 'stock_id'])\n",
    "    \n",
    "    X = pd.pivot_table(book, \n",
    "                   values='square_return', \n",
    "                   columns=['seconds_in_bucket'], \n",
    "                   index='time_id', aggfunc='last')\n",
    "\n",
    "    X = X.fillna(0)\n",
    "    y = train_targets[train_targets.stock_id == stock_id].set_index('time_id')['target'].loc[X.index]\n",
    "    \n",
    "    X_train, X_test, y_train, y_test = train_test_split(X, y)\n",
    "    \n",
    "    lr = 1\n",
    "    weights = np.ones(X_train.shape[1])\n",
    "    n_steps = 300\n",
    "    \n",
    "    train_loss_history = []\n",
    "    test_loss_history = []\n",
    "    \n",
    "    for n in range(n_steps):\n",
    "        train_loss = rmspe(y_train, np.dot(X_train, weights).clip(0) ** 0.5)\n",
    "        test_loss = rmspe(y_test, np.dot(X_test, weights).clip(0) ** 0.5)\n",
    "\n",
    "        y_pred = np.dot(X_train, weights).clip(min=0.0001 ** 2) ** 0.5\n",
    "\n",
    "        reg = 1\n",
    "        der = np.dot(((y_pred - y_train) / y_pred / y_train), X_train.values)\n",
    "\n",
    "        weights -= lr * der\n",
    "        weights = weights.clip(0)\n",
    "        train_loss_history.append(train_loss)\n",
    "        test_loss_history.append(test_loss)\n",
    "        \n",
    "    res[stock_id] = (weights, X_train, y_train, X_test, y_test, train_loss_history, test_loss_history)\n",
    "    "
   ]
  },
  {
   "cell_type": "code",
   "execution_count": 423,
   "metadata": {},
   "outputs": [
    {
     "name": "stderr",
     "output_type": "stream",
     "text": [
      "\n",
      "\n",
      "  0%|          | 0/112 [00:00<?, ?it/s]\u001b[A\u001b[A\n",
      "\n",
      " 15%|█▌        | 17/112 [00:00<00:00, 167.37it/s]\u001b[A\u001b[A\n",
      "\n",
      " 40%|████      | 45/112 [00:00<00:00, 189.75it/s]\u001b[A\u001b[A\n",
      "\n",
      " 62%|██████▎   | 70/112 [00:00<00:00, 203.39it/s]\u001b[A\u001b[A\n",
      "\n",
      "100%|██████████| 112/112 [00:00<00:00, 228.00it/s][A\u001b[A\n"
     ]
    }
   ],
   "source": [
    "y_true = []\n",
    "y_pred = []\n",
    "\n",
    "for stock_id in tqdm(stock_ids):\n",
    "    X_test = res[stock_id][1]\n",
    "    y_test = res[stock_id][2]\n",
    "    weights = res[stock_id][0]\n",
    "    pred = np.dot(X_test, weights) ** 0.5\n",
    "    \n",
    "    y_true.append(y_test)\n",
    "    y_pred.append(pred)"
   ]
  },
  {
   "cell_type": "code",
   "execution_count": 424,
   "metadata": {},
   "outputs": [
    {
     "data": {
      "text/plain": [
       "0.2579428113250401"
      ]
     },
     "execution_count": 424,
     "metadata": {},
     "output_type": "execute_result"
    }
   ],
   "source": [
    "rmspe(np.concatenate(y_true), np.concatenate(y_pred))"
   ]
  }
 ],
 "metadata": {
  "kernelspec": {
   "display_name": "Python 3",
   "language": "python",
   "name": "python3"
  },
  "language_info": {
   "codemirror_mode": {
    "name": "ipython",
    "version": 3
   },
   "file_extension": ".py",
   "mimetype": "text/x-python",
   "name": "python",
   "nbconvert_exporter": "python",
   "pygments_lexer": "ipython3",
   "version": "3.7.6"
  }
 },
 "nbformat": 4,
 "nbformat_minor": 4
}

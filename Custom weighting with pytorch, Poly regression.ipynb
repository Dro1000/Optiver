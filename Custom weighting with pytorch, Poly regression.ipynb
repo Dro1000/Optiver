{
 "cells": [
  {
   "cell_type": "code",
   "execution_count": 674,
   "metadata": {},
   "outputs": [],
   "source": [
    "import pandas as pd\n",
    "import numpy as np\n",
    "import matplotlib.pyplot as plt\n",
    "from tqdm import tqdm, trange\n",
    "from utils import rmspe"
   ]
  },
  {
   "cell_type": "code",
   "execution_count": 675,
   "metadata": {},
   "outputs": [],
   "source": [
    "import torch \n",
    "from torch import optim"
   ]
  },
  {
   "cell_type": "code",
   "execution_count": 676,
   "metadata": {},
   "outputs": [],
   "source": [
    "from sklearn.model_selection import train_test_split"
   ]
  },
  {
   "cell_type": "code",
   "execution_count": 677,
   "metadata": {},
   "outputs": [],
   "source": [
    "train_targets = pd.read_csv('train.csv')"
   ]
  },
  {
   "cell_type": "code",
   "execution_count": 678,
   "metadata": {},
   "outputs": [],
   "source": [
    "import os\n",
    "import re\n",
    "stock_ids = sorted(\n",
    "    [int(re.sub('stock_id=', '', x)) for x in os.listdir('book_train.parquet')])\n"
   ]
  },
  {
   "cell_type": "code",
   "execution_count": 679,
   "metadata": {},
   "outputs": [],
   "source": [
    "stock_id = stock_ids[105]"
   ]
  },
  {
   "cell_type": "code",
   "execution_count": 680,
   "metadata": {},
   "outputs": [],
   "source": [
    "book = pd.read_parquet('book_train.parquet/stock_id=' + str(stock_id))"
   ]
  },
  {
   "cell_type": "code",
   "execution_count": 681,
   "metadata": {},
   "outputs": [],
   "source": [
    "book['wap'] = (book['bid_price1'] * book['ask_size1'] + book['ask_price1'] * book['bid_size1']) / (\n",
    "    book['ask_size1'] + book['bid_size1'])\n",
    "    \n",
    "book['log_price'] = np.log(book['wap'])\n",
    "book['log_return'] = book.groupby(['time_id'])['log_price'].diff()\n",
    "book['square_return'] = book['log_return'] ** 2\n",
    "book = book[~book['log_return'].isnull()]\n",
    "book['stock_id'] = stock_id"
   ]
  },
  {
   "cell_type": "code",
   "execution_count": 682,
   "metadata": {},
   "outputs": [],
   "source": [
    "book = pd.merge(book, train_targets, how='left', on=['time_id', 'stock_id'])"
   ]
  },
  {
   "cell_type": "code",
   "execution_count": 683,
   "metadata": {},
   "outputs": [],
   "source": [
    "X = pd.pivot_table(book, \n",
    "                   values='square_return', \n",
    "                   columns=['seconds_in_bucket'], \n",
    "                   index='time_id', aggfunc='last')\n",
    "\n",
    "X = X.fillna(0)\n",
    "y = train_targets[train_targets.stock_id == stock_id].set_index('time_id')['target'].loc[X.index]\n",
    "#X = X.values"
   ]
  },
  {
   "cell_type": "code",
   "execution_count": 684,
   "metadata": {},
   "outputs": [],
   "source": [
    "#X = np.concatenate([X, X**2], axis=1)"
   ]
  },
  {
   "cell_type": "code",
   "execution_count": 685,
   "metadata": {},
   "outputs": [],
   "source": [
    "X_train, X_test, y_train, y_test = train_test_split(X, y)\n",
    "\n",
    "X_train = torch.tensor(X_train.values)\n",
    "X_test = torch.tensor(X_test.values)\n",
    "\n",
    "y_train = torch.tensor(y_train.values)\n",
    "y_test = torch.tensor(y_test.values)"
   ]
  },
  {
   "cell_type": "code",
   "execution_count": 686,
   "metadata": {},
   "outputs": [],
   "source": [
    "weights = torch.ones(X_train.shape[1], requires_grad=True)l\n",
    "weights_poly = torch.tensor([ 1., 0.], requires_grad=True)"
   ]
  },
  {
   "cell_type": "code",
   "execution_count": 687,
   "metadata": {},
   "outputs": [],
   "source": [
    "def my_loss(y_true, y_pred):\n",
    "    return torch.sqrt(torch.mean(torch.square((y_true - y_pred) / y_true)))"
   ]
  },
  {
   "cell_type": "code",
   "execution_count": 648,
   "metadata": {},
   "outputs": [],
   "source": [
    "opt = optim.Adam([weights, weights_poly], lr=0.1)\n",
    "alpha = 1\n",
    "beta = 1"
   ]
  },
  {
   "cell_type": "code",
   "execution_count": 649,
   "metadata": {},
   "outputs": [],
   "source": [
    "train_loss_history = []\n",
    "test_loss_history = []"
   ]
  },
  {
   "cell_type": "code",
   "execution_count": 650,
   "metadata": {},
   "outputs": [],
   "source": [
    "\n",
    "for n in range(1000):\n",
    "    y_pred_temp = torch.matmul(X_train, weights) ** 0.5\n",
    "    y_pred_test_temp = torch.matmul(X_test, weights) ** 0.5\n",
    "    \n",
    "    y_pred = y_pred_temp * weights_poly[0] + y_pred_temp**2 * weights_poly[1]\n",
    "    \n",
    "        \n",
    "    y_pred_test = y_pred_test_temp * weights_poly[0] + y_pred_test_temp**2 * weights_poly[1] \n",
    "    \n",
    "    reg = weights[:-1] - weights[1: ]\n",
    "    loss = my_loss(y_train, y_pred) + torch.sum(reg[reg > 0] ** 2) * alpha + torch.sum(weights[weights < 0] ** 2)\n",
    "    \n",
    "    loss_train = my_loss(y_train, y_pred)\n",
    "    loss_test = my_loss(y_test, y_pred_test)\n",
    "    \n",
    "    loss.backward()\n",
    "    opt.step()\n",
    "    opt.zero_grad()\n",
    "    \n",
    "    train_loss_history.append(float(loss_train.detach().numpy()))\n",
    "    test_loss_history.append(float(loss_test.detach().numpy()))"
   ]
  },
  {
   "cell_type": "code",
   "execution_count": 651,
   "metadata": {},
   "outputs": [
    {
     "data": {
      "text/plain": [
       "<matplotlib.legend.Legend at 0x7fbe36c471d0>"
      ]
     },
     "execution_count": 651,
     "metadata": {},
     "output_type": "execute_result"
    },
    {
     "data": {
      "image/png": "[encoded data removed]",
      "text/plain": [
       "<Figure size 432x288 with 1 Axes>"
      ]
     },
     "metadata": {
      "needs_background": "light"
     },
     "output_type": "display_data"
    }
   ],
   "source": [
    "plt.plot(train_loss_history)\n",
    "plt.plot(test_loss_history)\n",
    "\n",
    "plt.legend(['train', 'test'])"
   ]
  },
  {
   "cell_type": "code",
   "execution_count": 652,
   "metadata": {},
   "outputs": [
    {
     "data": {
      "text/plain": [
       "nan"
      ]
     },
     "execution_count": 652,
     "metadata": {},
     "output_type": "execute_result"
    }
   ],
   "source": [
    "test_loss_history[0] - test_loss_history[-1]"
   ]
  },
  {
   "cell_type": "code",
   "execution_count": 653,
   "metadata": {},
   "outputs": [
    {
     "data": {
      "text/plain": [
       "nan"
      ]
     },
     "execution_count": 653,
     "metadata": {},
     "output_type": "execute_result"
    }
   ],
   "source": [
    "train_loss_history[0] - train_loss_history[-1]"
   ]
  },
  {
   "cell_type": "code",
   "execution_count": 654,
   "metadata": {},
   "outputs": [
    {
     "data": {
      "text/plain": [
       "tensor([nan, nan], requires_grad=True)"
      ]
     },
     "execution_count": 654,
     "metadata": {},
     "output_type": "execute_result"
    }
   ],
   "source": [
    "weights_poly"
   ]
  },
  {
   "cell_type": "code",
   "execution_count": 527,
   "metadata": {},
   "outputs": [
    {
     "data": {
      "text/plain": [
       "[<matplotlib.lines.Line2D at 0x7fbe378a1d10>]"
      ]
     },
     "execution_count": 527,
     "metadata": {},
     "output_type": "execute_result"
    },
    {
     "data": {
      "image/png": "[encoded data removed]",
      "text/plain": [
       "<Figure size 432x288 with 1 Axes>"
      ]
     },
     "metadata": {
      "needs_background": "light"
     },
     "output_type": "display_data"
    }
   ],
   "source": [
    "plt.plot(weights.detach().numpy())"
   ]
  },
  {
   "cell_type": "code",
   "execution_count": 688,
   "metadata": {},
   "outputs": [
    {
     "data": {
      "text/plain": [
       "<AxesSubplot:xlabel='seconds_in_bucket'>"
      ]
     },
     "execution_count": 688,
     "metadata": {},
     "output_type": "execute_result"
    },
    {
     "data": {
      "image/png": "[encoded data removed]",
      "text/plain": [
       "<Figure size 432x288 with 1 Axes>"
      ]
     },
     "metadata": {
      "needs_background": "light"
     },
     "output_type": "display_data"
    }
   ],
   "source": [
    "book.groupby('seconds_in_bucket')['square_return'].mean().plot()"
   ]
  },
  {
   "cell_type": "code",
   "execution_count": 440,
   "metadata": {},
   "outputs": [
    {
     "data": {
      "text/plain": [
       "<AxesSubplot:xlabel='seconds_in_bucket'>"
      ]
     },
     "execution_count": 440,
     "metadata": {},
     "output_type": "execute_result"
    },
    {
     "data": {
      "image/png": "[encoded data removed]",
      "text/plain": [
       "<Figure size 432x288 with 1 Axes>"
      ]
     },
     "metadata": {
      "needs_background": "light"
     },
     "output_type": "display_data"
    }
   ],
   "source": [
    "book[book.time_id == 32758].set_index('seconds_in_bucket')['square_return'].plot()"
   ]
  },
  {
   "cell_type": "code",
   "execution_count": 437,
   "metadata": {},
   "outputs": [
    {
     "data": {
      "text/plain": [
       "array([    5,    11,    16, ..., 32758, 32763, 32767], dtype=int16)"
      ]
     },
     "execution_count": 437,
     "metadata": {},
     "output_type": "execute_result"
    }
   ],
   "source": [
    "book.time_id.unique()"
   ]
  },
  {
   "cell_type": "code",
   "execution_count": 542,
   "metadata": {},
   "outputs": [
    {
     "name": "stderr",
     "output_type": "stream",
     "text": [
      "\n",
      "\n",
      "  0%|          | 0/112 [00:00<?, ?it/s]\u001b[A\u001b[A\n",
      "\n",
      "  1%|          | 1/112 [00:04<07:29,  4.05s/it]\u001b[A\u001b[A\n",
      "\n",
      "  2%|▏         | 2/112 [00:09<07:55,  4.32s/it]\u001b[A\u001b[A\n",
      "\n",
      "  3%|▎         | 3/112 [00:15<08:47,  4.84s/it]\u001b[A\u001b[A\n",
      "\n",
      "  4%|▎         | 4/112 [00:20<08:56,  4.97s/it]\u001b[A\u001b[A\n",
      "\n",
      "  4%|▍         | 5/112 [00:25<09:02,  5.07s/it]\u001b[A\u001b[A\n",
      "\n",
      "  5%|▌         | 6/112 [00:30<09:01,  5.11s/it]\u001b[A\u001b[A\n",
      "\n",
      "  6%|▋         | 7/112 [00:35<08:51,  5.06s/it]\u001b[A\u001b[A\n",
      "\n",
      "  7%|▋         | 8/112 [00:41<08:59,  5.19s/it]\u001b[A\u001b[A\n",
      "\n",
      "  8%|▊         | 9/112 [00:46<09:01,  5.26s/it]\u001b[A\u001b[A\n",
      "\n",
      "  9%|▉         | 10/112 [00:51<08:45,  5.15s/it]\u001b[A\u001b[A\n",
      "\n",
      " 10%|▉         | 11/112 [00:57<08:53,  5.28s/it]\u001b[A\u001b[A\n",
      "\n",
      " 11%|█         | 12/112 [01:01<08:24,  5.04s/it]\u001b[A\u001b[A\n",
      "\n",
      " 12%|█▏        | 13/112 [01:06<08:14,  4.99s/it]\u001b[A\u001b[A\n",
      "\n",
      " 12%|█▎        | 14/112 [01:12<08:25,  5.16s/it]\u001b[A\u001b[A\n",
      "\n",
      " 13%|█▎        | 15/112 [01:19<09:14,  5.72s/it]\u001b[A\u001b[A\n",
      "\n",
      " 14%|█▍        | 16/112 [01:23<08:41,  5.43s/it]\u001b[A\u001b[A\n",
      "\n",
      " 15%|█▌        | 17/112 [01:28<08:20,  5.27s/it]\u001b[A\u001b[A\n",
      "\n",
      " 16%|█▌        | 18/112 [01:33<07:46,  4.96s/it]\u001b[A\u001b[A\n",
      "\n",
      " 17%|█▋        | 19/112 [01:38<07:46,  5.01s/it]\u001b[A\u001b[A\n",
      "\n",
      " 18%|█▊        | 20/112 [01:43<08:00,  5.23s/it]\u001b[A\u001b[A\n",
      "\n",
      " 19%|█▉        | 21/112 [01:49<07:55,  5.23s/it]\u001b[A\u001b[A\n",
      "\n",
      " 20%|█▉        | 22/112 [01:54<07:51,  5.24s/it]\u001b[A\u001b[A\n",
      "\n",
      " 21%|██        | 23/112 [01:59<07:36,  5.13s/it]\u001b[A\u001b[A\n",
      "\n",
      " 21%|██▏       | 24/112 [02:03<07:12,  4.91s/it]\u001b[A\u001b[A\n",
      "\n",
      " 22%|██▏       | 25/112 [02:07<06:38,  4.58s/it]\u001b[A\u001b[A\n",
      "\n",
      " 23%|██▎       | 26/112 [02:11<06:15,  4.36s/it]\u001b[A\u001b[A\n",
      "\n",
      " 24%|██▍       | 27/112 [02:15<06:13,  4.39s/it]\u001b[A\u001b[A\n",
      "\n",
      " 25%|██▌       | 28/112 [02:19<05:47,  4.14s/it]\u001b[A\u001b[A\n",
      "\n",
      " 26%|██▌       | 29/112 [02:23<05:45,  4.16s/it]\u001b[A\u001b[A\n",
      "\n",
      " 27%|██▋       | 30/112 [02:28<05:52,  4.30s/it]\u001b[A\u001b[A\n",
      "\n",
      " 28%|██▊       | 31/112 [02:31<05:31,  4.09s/it]\u001b[A\u001b[A\n",
      "\n",
      " 29%|██▊       | 32/112 [02:35<05:27,  4.09s/it]\u001b[A\u001b[A\n",
      "\n",
      " 29%|██▉       | 33/112 [02:41<06:04,  4.62s/it]\u001b[A\u001b[A\n",
      "\n",
      " 30%|███       | 34/112 [02:47<06:17,  4.84s/it]\u001b[A\u001b[A\n",
      "\n",
      " 31%|███▏      | 35/112 [02:53<06:52,  5.36s/it]\u001b[A\u001b[A\n",
      "\n",
      " 32%|███▏      | 36/112 [03:01<07:49,  6.18s/it]\u001b[A\u001b[A\n",
      "\n",
      " 33%|███▎      | 37/112 [03:07<07:26,  5.96s/it]\u001b[A\u001b[A\n",
      "\n",
      " 34%|███▍      | 38/112 [03:12<07:04,  5.74s/it]\u001b[A\u001b[A\n",
      "\n",
      " 35%|███▍      | 39/112 [03:18<07:15,  5.96s/it]\u001b[A\u001b[A\n",
      "\n",
      " 36%|███▌      | 40/112 [03:24<06:52,  5.73s/it]\u001b[A\u001b[A\n",
      "\n",
      " 37%|███▋      | 41/112 [03:29<06:49,  5.77s/it]\u001b[A\u001b[A\n",
      "\n",
      " 38%|███▊      | 42/112 [03:34<06:19,  5.42s/it]\u001b[A\u001b[A\n",
      "\n",
      " 38%|███▊      | 43/112 [03:38<05:54,  5.14s/it]\u001b[A\u001b[A\n",
      "\n",
      " 39%|███▉      | 44/112 [03:43<05:37,  4.97s/it]\u001b[A\u001b[A\n",
      "\n",
      " 40%|████      | 45/112 [03:47<05:12,  4.66s/it]\u001b[A\u001b[A\n",
      "\n",
      " 41%|████      | 46/112 [03:52<05:10,  4.71s/it]\u001b[A\u001b[A\n",
      "\n",
      " 42%|████▏     | 47/112 [03:56<04:57,  4.58s/it]\u001b[A\u001b[A\n",
      "\n",
      " 43%|████▎     | 48/112 [04:00<04:47,  4.50s/it]\u001b[A\u001b[A\n",
      "\n",
      " 44%|████▍     | 49/112 [04:05<04:36,  4.38s/it]\u001b[A\u001b[A\n",
      "\n",
      " 45%|████▍     | 50/112 [04:09<04:26,  4.29s/it]\u001b[A\u001b[A\n",
      "\n",
      " 46%|████▌     | 51/112 [04:14<04:34,  4.49s/it]\u001b[A\u001b[A\n",
      "\n",
      " 46%|████▋     | 52/112 [04:17<04:18,  4.32s/it]\u001b[A\u001b[A\n",
      "\n",
      " 47%|████▋     | 53/112 [04:21<04:05,  4.16s/it]\u001b[A\u001b[A\n",
      "\n",
      " 48%|████▊     | 54/112 [04:25<04:01,  4.17s/it]\u001b[A\u001b[A\n",
      "\n",
      " 49%|████▉     | 55/112 [04:30<04:00,  4.22s/it]\u001b[A\u001b[A\n",
      "\n",
      " 50%|█████     | 56/112 [04:34<03:53,  4.16s/it]\u001b[A\u001b[A\n",
      "\n",
      " 51%|█████     | 57/112 [04:38<03:56,  4.29s/it]\u001b[A\u001b[A\n",
      "\n",
      " 52%|█████▏    | 58/112 [04:43<03:51,  4.29s/it]\u001b[A\u001b[A\n",
      "\n",
      " 53%|█████▎    | 59/112 [04:47<03:43,  4.22s/it]\u001b[A\u001b[A\n",
      "\n",
      " 54%|█████▎    | 60/112 [04:52<04:01,  4.64s/it]\u001b[A\u001b[A\n",
      "\n",
      " 54%|█████▍    | 61/112 [04:58<04:16,  5.02s/it]\u001b[A\u001b[A\n",
      "\n",
      " 55%|█████▌    | 62/112 [05:03<04:12,  5.04s/it]\u001b[A\u001b[A\n",
      "\n",
      " 56%|█████▋    | 63/112 [05:07<03:52,  4.75s/it]\u001b[A\u001b[A\n",
      "\n",
      " 57%|█████▋    | 64/112 [05:12<03:39,  4.56s/it]\u001b[A\u001b[A\n",
      "\n",
      " 58%|█████▊    | 65/112 [05:16<03:30,  4.48s/it]\u001b[A\u001b[A\n",
      "\n",
      " 59%|█████▉    | 66/112 [05:20<03:19,  4.33s/it]\u001b[A\u001b[A\n",
      "\n",
      " 60%|█████▉    | 67/112 [05:24<03:08,  4.18s/it]\u001b[A\u001b[A\n",
      "\n",
      " 61%|██████    | 68/112 [05:28<03:02,  4.16s/it]\u001b[A\u001b[A\n",
      "\n",
      " 62%|██████▏   | 69/112 [05:32<03:02,  4.25s/it]\u001b[A\u001b[A\n",
      "\n",
      " 62%|██████▎   | 70/112 [05:36<02:56,  4.20s/it]\u001b[A\u001b[A\n",
      "\n",
      " 63%|██████▎   | 71/112 [05:40<02:50,  4.17s/it]\u001b[A\u001b[A\n",
      "\n",
      " 64%|██████▍   | 72/112 [05:44<02:45,  4.13s/it]\u001b[A\u001b[A\n",
      "\n",
      " 65%|██████▌   | 73/112 [05:49<02:39,  4.10s/it]\u001b[A\u001b[A\n",
      "\n",
      " 66%|██████▌   | 74/112 [05:52<02:34,  4.06s/it]\u001b[A\u001b[A\n",
      "\n",
      " 67%|██████▋   | 75/112 [05:58<02:47,  4.52s/it]\u001b[A\u001b[A\n",
      "\n",
      " 68%|██████▊   | 76/112 [06:02<02:37,  4.38s/it]\u001b[A\u001b[A\n",
      "\n",
      " 69%|██████▉   | 77/112 [06:06<02:32,  4.36s/it]\u001b[A\u001b[A\n",
      "\n",
      " 70%|██████▉   | 78/112 [06:10<02:22,  4.20s/it]\u001b[A\u001b[A\n",
      "\n",
      " 71%|███████   | 79/112 [06:15<02:19,  4.23s/it]\u001b[A\u001b[A\n",
      "\n",
      " 71%|███████▏  | 80/112 [06:19<02:12,  4.15s/it]\u001b[A\u001b[A\n",
      "\n",
      " 72%|███████▏  | 81/112 [06:22<02:06,  4.08s/it]\u001b[A\u001b[A\n",
      "\n",
      " 73%|███████▎  | 82/112 [06:26<02:01,  4.04s/it]\u001b[A\u001b[A\n",
      "\n",
      " 74%|███████▍  | 83/112 [06:30<01:55,  3.98s/it]\u001b[A\u001b[A\n",
      "\n",
      " 75%|███████▌  | 84/112 [06:35<01:56,  4.16s/it]\u001b[A\u001b[A\n",
      "\n",
      " 76%|███████▌  | 85/112 [06:39<01:54,  4.22s/it]\u001b[A\u001b[A\n",
      "\n",
      " 77%|███████▋  | 86/112 [06:43<01:48,  4.18s/it]\u001b[A\u001b[A\n",
      "\n",
      " 78%|███████▊  | 87/112 [06:48<01:46,  4.28s/it]\u001b[A\u001b[A\n",
      "\n",
      " 79%|███████▊  | 88/112 [06:53<01:48,  4.52s/it]\u001b[A\u001b[A\n",
      "\n",
      " 79%|███████▉  | 89/112 [06:57<01:38,  4.28s/it]\u001b[A\u001b[A\n",
      "\n",
      " 80%|████████  | 90/112 [07:01<01:36,  4.40s/it]\u001b[A\u001b[A\n",
      "\n",
      " 81%|████████▏ | 91/112 [07:05<01:31,  4.35s/it]\u001b[A\u001b[A\n",
      "\n",
      " 82%|████████▏ | 92/112 [07:09<01:23,  4.15s/it]\u001b[A\u001b[A\n",
      "\n",
      " 83%|████████▎ | 93/112 [07:14<01:20,  4.25s/it]\u001b[A\u001b[A\n",
      "\n",
      " 84%|████████▍ | 94/112 [07:18<01:16,  4.26s/it]\u001b[A\u001b[A\n",
      "\n",
      " 85%|████████▍ | 95/112 [07:22<01:12,  4.28s/it]\u001b[A\u001b[A\n",
      "\n",
      " 86%|████████▌ | 96/112 [07:27<01:11,  4.48s/it]\u001b[A\u001b[A\n",
      "\n",
      " 87%|████████▋ | 97/112 [07:32<01:06,  4.46s/it]\u001b[A\u001b[A\n",
      "\n",
      " 88%|████████▊ | 98/112 [07:36<01:03,  4.50s/it]\u001b[A\u001b[A\n",
      "\n",
      " 88%|████████▊ | 99/112 [07:41<01:00,  4.69s/it]\u001b[A\u001b[A\n",
      "\n",
      " 89%|████████▉ | 100/112 [07:45<00:54,  4.51s/it]\u001b[A\u001b[A\n",
      "\n",
      " 90%|█████████ | 101/112 [07:50<00:50,  4.60s/it]\u001b[A\u001b[A\n",
      "\n",
      " 91%|█████████ | 102/112 [07:54<00:44,  4.48s/it]\u001b[A\u001b[A\n",
      "\n",
      " 92%|█████████▏| 103/112 [07:59<00:41,  4.56s/it]\u001b[A\u001b[A\n",
      "\n",
      " 93%|█████████▎| 104/112 [08:04<00:37,  4.71s/it]\u001b[A\u001b[A\n",
      "\n",
      " 94%|█████████▍| 105/112 [08:09<00:33,  4.72s/it]\u001b[A\u001b[A\n",
      "\n",
      " 95%|█████████▍| 106/112 [08:15<00:29,  4.97s/it]\u001b[A\u001b[A\n",
      "\n",
      " 96%|█████████▌| 107/112 [08:20<00:25,  5.02s/it]\u001b[A\u001b[A\n",
      "\n",
      " 96%|█████████▋| 108/112 [08:24<00:19,  4.89s/it]\u001b[A\u001b[A\n",
      "\n",
      " 97%|█████████▋| 109/112 [08:30<00:15,  5.04s/it]\u001b[A\u001b[A\n",
      "\n",
      " 98%|█████████▊| 110/112 [08:35<00:10,  5.10s/it]\u001b[A\u001b[A\n",
      "\n",
      " 99%|█████████▉| 111/112 [08:40<00:05,  5.25s/it]\u001b[A\u001b[A\n",
      "\n",
      "100%|██████████| 112/112 [08:45<00:00,  4.69s/it]\u001b[A\u001b[A\n"
     ]
    }
   ],
   "source": [
    "res = {}\n",
    "\n",
    "for stock_id in tqdm(stock_ids):\n",
    "    book = pd.read_parquet('book_train.parquet/stock_id=' + str(stock_id))\n",
    "    book['wap'] = (book['bid_price1'] * book['ask_size1'] + book['ask_price1'] * book['bid_size1']) / (\n",
    "    book['ask_size1'] + book['bid_size1'])\n",
    "    \n",
    "    book['log_price'] = np.log(book['wap'])\n",
    "    book['log_return'] = book.groupby(['time_id'])['log_price'].diff()\n",
    "    book['square_return'] = book['log_return'] ** 2\n",
    "    book = book[~book['log_return'].isnull()]\n",
    "    book['stock_id'] = stock_id\n",
    "    \n",
    "    book = pd.merge(book, train_targets, how='left', on=['time_id', 'stock_id'])\n",
    "    \n",
    "    X = pd.pivot_table(book, \n",
    "                   values='square_return', \n",
    "                   columns=['seconds_in_bucket'], \n",
    "                   index='time_id', aggfunc='last')\n",
    "\n",
    "    X = X.fillna(0)\n",
    "    y = train_targets[train_targets.stock_id == stock_id].set_index('time_id')['target'].loc[X.index]\n",
    "    \n",
    "    X_train, X_test, y_train, y_test = train_test_split(X, y)\n",
    "\n",
    "    X_train = torch.tensor(X_train.values)\n",
    "    X_test = torch.tensor(X_test.values)\n",
    "\n",
    "    y_train = torch.tensor(y_train.values)\n",
    "    y_test = torch.tensor(y_test.values)\n",
    "    \n",
    "    X = torch.tensor(X.values)\n",
    "    y = torch.tensor(y.values)\n",
    "    \n",
    "    weights = torch.ones(X_train.shape[1], requires_grad=True)\n",
    "    weights_poly = torch.tensor([ 1., 0., .0], requires_grad=True)\n",
    "    opt = optim.Adam([weights, weights_poly], lr=0.1)\n",
    "    alpha = 0.8\n",
    "    beta = 1\n",
    "    \n",
    "    for n in range(1000):\n",
    "        y_pred_temp = torch.matmul(X_train, weights) ** 0.5\n",
    "        y_pred = y_pred_temp * weights_poly[0] + y_pred_temp**2 * weights_poly[1] + \\\n",
    "             y_pred_temp**3 * weights_poly[2]\n",
    "        \n",
    "        reg = weights[:-1] - weights[1: ]\n",
    "        loss = my_loss(y_train, y_pred) + torch.sum(reg[reg > 0] ** 2) * alpha +torch.sum(\n",
    "            weights[weights < 0] ** 2)\n",
    "\n",
    "        loss.backward()\n",
    "        opt.step()\n",
    "        opt.zero_grad()\n",
    "    \n",
    "    res[stock_id] = (weights, weights_poly, X, y, X_train, y_train, X_test, y_test)"
   ]
  },
  {
   "cell_type": "code",
   "execution_count": 536,
   "metadata": {},
   "outputs": [],
   "source": [
    "y_true = []\n",
    "y_pred = []\n",
    "\n",
    "weights = res[stock_id][0]\n",
    "for stock_id in res:\n",
    "    X = res[stock_id][6]\n",
    "    y = res[stock_id][7]\n",
    "    \n",
    "    y_true.append(y.detach().numpy())\n",
    "    y_pred_temp = (torch.matmul(X, weights) ** 0.5)\n",
    "    y_pred_temp = y_pred_temp * weights_poly[0] + y_pred_temp**2 * weights_poly[1] + \\\n",
    "             y_pred_temp**3 * weights_poly[2]\n",
    "    \n",
    "    y_pred_temp = y_pred_temp.detach().numpy()\n",
    "    \n",
    "    y_pred.append(y_pred_temp)"
   ]
  },
  {
   "cell_type": "code",
   "execution_count": 537,
   "metadata": {},
   "outputs": [],
   "source": [
    "y_true = np.concatenate(y_true)\n",
    "y_pred = np.concatenate(y_pred)"
   ]
  },
  {
   "cell_type": "code",
   "execution_count": 538,
   "metadata": {},
   "outputs": [
    {
     "data": {
      "text/plain": [
       "0.2698631769809836"
      ]
     },
     "execution_count": 538,
     "metadata": {},
     "output_type": "execute_result"
    }
   ],
   "source": [
    "rmspe(y_true, y_pred)"
   ]
  },
  {
   "cell_type": "code",
   "execution_count": 79,
   "metadata": {},
   "outputs": [
    {
     "data": {
      "text/plain": [
       "0.26542675502131957"
      ]
     },
     "execution_count": 79,
     "metadata": {},
     "output_type": "execute_result"
    }
   ],
   "source": [
    "rmspe(y_true, y_pred)"
   ]
  },
  {
   "cell_type": "code",
   "execution_count": 586,
   "metadata": {},
   "outputs": [
    {
     "data": {
      "text/plain": [
       "0.2790782247939971"
      ]
     },
     "execution_count": 586,
     "metadata": {},
     "output_type": "execute_result"
    }
   ],
   "source": [
    "rmspe(y_true, y_pred)"
   ]
  },
  {
   "cell_type": "code",
   "execution_count": 672,
   "metadata": {},
   "outputs": [],
   "source": [
    "stock_id = 105\n",
    "\n",
    "book = pd.read_parquet('book_train.parquet/stock_id=' + str(stock_id))\n",
    "book['wap'] = (book['bid_price1'] * book['ask_size1'] + book['ask_price1'] * book['bid_size1']) / (\n",
    "book['ask_size1'] + book['bid_size1'])\n",
    "\n",
    "book['log_price'] = np.log(book['wap'])\n",
    "book['log_return'] = book.groupby(['time_id'])['log_price'].diff()\n",
    "book['square_return'] = book['log_return'] ** 2\n",
    "book = book[~book['log_return'].isnull()]\n",
    "book['stock_id'] = stock_id\n",
    "\n",
    "book = pd.merge(book, train_targets, how='left', on=['time_id', 'stock_id'])\n",
    "\n",
    "X = pd.pivot_table(book, \n",
    "               values='square_return', \n",
    "               columns=['seconds_in_bucket'], \n",
    "               index='time_id', aggfunc='last')\n",
    "\n",
    "X = X.fillna(0)\n",
    "y = train_targets[train_targets.stock_id == stock_id].set_index('time_id')['target'].loc[X.index]\n",
    "X = X.values\n",
    "\n",
    "X = torch.tensor(X)\n",
    "y = torch.tensor(y.values)\n",
    "\n",
    "weights = torch.ones(X.shape[1], requires_grad=True)\n",
    "weights_poly = torch.tensor([ 1., 0.], requires_grad=True)\n",
    "opt = optim.Adam([weights, weights_poly], lr=0.01)\n",
    "alpha = 0.8\n",
    "beta = 1\n",
    "\n",
    "for n in range(3000):\n",
    "    if torch.sum(torch.matmul(X, weights) < 0):\n",
    "        print('hi')\n",
    "    y_pred_temp = torch.matmul(X, weights) ** 0.5\n",
    "    y_pred = y_pred_temp * weights_poly[0] + y_pred_temp**2 * weights_poly[1] \n",
    "\n",
    "    reg = weights[:-1] - weights[1: ]\n",
    "    loss = my_loss(y, y_pred) + torch.sum(reg[reg > 0] ** 2) * alpha +torch.sum(\n",
    "        weights[weights < 0] ** 2)\n",
    "\n",
    "    loss.backward()\n",
    "    opt.step()\n",
    "    opt.zero_grad()"
   ]
  },
  {
   "cell_type": "code",
   "execution_count": 673,
   "metadata": {},
   "outputs": [
    {
     "data": {
      "text/plain": [
       "tensor([  0.9405, -19.2642], requires_grad=True)"
      ]
     },
     "execution_count": 673,
     "metadata": {},
     "output_type": "execute_result"
    }
   ],
   "source": [
    "weights_poly"
   ]
  },
  {
   "cell_type": "code",
   "execution_count": 660,
   "metadata": {},
   "outputs": [
    {
     "data": {
      "text/plain": [
       "tensor([0.0030, 0.0010, 0.0018,  ..., 0.0016, 0.0035, 0.0014],\n",
       "       dtype=torch.float64)"
      ]
     },
     "execution_count": 660,
     "metadata": {},
     "output_type": "execute_result"
    }
   ],
   "source": [
    "y"
   ]
  }
 ],
 "metadata": {
  "kernelspec": {
   "display_name": "Python 3",
   "language": "python",
   "name": "python3"
  },
  "language_info": {
   "codemirror_mode": {
    "name": "ipython",
    "version": 3
   },
   "file_extension": ".py",
   "mimetype": "text/x-python",
   "name": "python",
   "nbconvert_exporter": "python",
   "pygments_lexer": "ipython3",
   "version": "3.7.6"
  }
 },
 "nbformat": 4,
 "nbformat_minor": 4
}

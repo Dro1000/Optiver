{
 "cells": [
  {
   "cell_type": "code",
   "execution_count": 359,
   "metadata": {},
   "outputs": [],
   "source": [
    "import pandas as pd\n",
    "import numpy as np\n",
    "from utils import rmspe\n",
    "from tqdm import trange, tqdm\n",
    "import matplotlib.pyplot as plt"
   ]
  },
  {
   "cell_type": "code",
   "execution_count": 360,
   "metadata": {},
   "outputs": [],
   "source": [
    "import os\n",
    "import re\n",
    "stock_ids = sorted(\n",
    "    [int(re.sub('stock_id=', '', x)) for x in os.listdir('book_train.parquet')])"
   ]
  },
  {
   "cell_type": "code",
   "execution_count": 361,
   "metadata": {},
   "outputs": [],
   "source": [
    "sample_submission = pd.read_csv('sample_submission.csv')\n",
    "train = pd.read_csv('train.csv')"
   ]
  },
  {
   "cell_type": "code",
   "execution_count": 362,
   "metadata": {},
   "outputs": [
    {
     "name": "stderr",
     "output_type": "stream",
     "text": [
      "\n",
      "\n",
      "  0%|          | 0/112 [00:00<?, ?it/s]\u001b[A\u001b[A\n",
      "\n",
      "  1%|          | 1/112 [00:02<04:40,  2.53s/it]\u001b[A\u001b[A\n",
      "\n",
      "  2%|▏         | 2/112 [00:04<04:33,  2.48s/it]\u001b[A\u001b[A\n",
      "\n",
      "  3%|▎         | 3/112 [00:07<04:27,  2.45s/it]\u001b[A\u001b[A\n",
      "\n",
      "  4%|▎         | 4/112 [00:09<04:21,  2.42s/it]\u001b[A\u001b[A\n",
      "\n",
      "  4%|▍         | 5/112 [00:11<04:08,  2.32s/it]\u001b[A\u001b[A\n",
      "\n",
      "  5%|▌         | 6/112 [00:13<04:04,  2.30s/it]\u001b[A\u001b[A\n",
      "\n",
      "  6%|▋         | 7/112 [00:16<03:59,  2.28s/it]\u001b[A\u001b[A\n",
      "\n",
      "  7%|▋         | 8/112 [00:18<03:56,  2.27s/it]\u001b[A\u001b[A\n",
      "\n",
      "  8%|▊         | 9/112 [00:20<03:54,  2.28s/it]\u001b[A\u001b[A\n",
      "\n",
      "  9%|▉         | 10/112 [00:23<04:04,  2.40s/it]\u001b[A\u001b[A\n",
      "\n",
      " 10%|▉         | 11/112 [00:26<04:35,  2.73s/it]\u001b[A\u001b[A\n",
      "\n",
      " 11%|█         | 12/112 [00:30<04:44,  2.84s/it]\u001b[A\u001b[A\n",
      "\n",
      " 12%|█▏        | 13/112 [00:33<04:52,  2.96s/it]\u001b[A\u001b[A\n",
      "\n",
      " 12%|█▎        | 14/112 [00:36<04:55,  3.02s/it]\u001b[A\u001b[A\n",
      "\n",
      " 13%|█▎        | 15/112 [00:39<04:47,  2.96s/it]\u001b[A\u001b[A\n",
      "\n",
      " 14%|█▍        | 16/112 [00:42<04:47,  2.99s/it]\u001b[A\u001b[A\n",
      "\n",
      " 15%|█▌        | 17/112 [00:45<04:45,  3.00s/it]\u001b[A\u001b[A\n",
      "\n",
      " 16%|█▌        | 18/112 [00:48<04:35,  2.93s/it]\u001b[A\u001b[A\n",
      "\n",
      " 17%|█▋        | 19/112 [00:50<04:31,  2.92s/it]\u001b[A\u001b[A\n",
      "\n",
      " 18%|█▊        | 20/112 [00:55<05:19,  3.47s/it]\u001b[A\u001b[A\n",
      "\n",
      " 19%|█▉        | 21/112 [01:00<05:45,  3.80s/it]\u001b[A\u001b[A\n",
      "\n",
      " 20%|█▉        | 22/112 [01:03<05:19,  3.55s/it]\u001b[A\u001b[A\n",
      "\n",
      " 21%|██        | 23/112 [01:07<05:34,  3.76s/it]\u001b[A\u001b[A\n",
      "\n",
      " 21%|██▏       | 24/112 [01:11<05:24,  3.69s/it]\u001b[A\u001b[A\n",
      "\n",
      " 22%|██▏       | 25/112 [01:14<05:02,  3.47s/it]\u001b[A\u001b[A\n",
      "\n",
      " 23%|██▎       | 26/112 [01:16<04:43,  3.30s/it]\u001b[A\u001b[A\n",
      "\n",
      " 24%|██▍       | 27/112 [01:21<05:14,  3.71s/it]\u001b[A\u001b[A\n",
      "\n",
      " 25%|██▌       | 28/112 [01:25<05:13,  3.73s/it]\u001b[A\u001b[A\n",
      "\n",
      " 26%|██▌       | 29/112 [01:28<04:59,  3.61s/it]\u001b[A\u001b[A\n",
      "\n",
      " 27%|██▋       | 30/112 [01:32<05:00,  3.66s/it]\u001b[A\u001b[A\n",
      "\n",
      " 28%|██▊       | 31/112 [01:34<04:27,  3.30s/it]\u001b[A\u001b[A\n",
      "\n",
      " 29%|██▊       | 32/112 [01:38<04:22,  3.28s/it]\u001b[A\u001b[A\n",
      "\n",
      " 29%|██▉       | 33/112 [01:40<04:06,  3.12s/it]\u001b[A\u001b[A\n",
      "\n",
      " 30%|███       | 34/112 [01:44<04:06,  3.16s/it]\u001b[A\u001b[A\n",
      "\n",
      " 31%|███▏      | 35/112 [01:47<04:08,  3.23s/it]\u001b[A\u001b[A\n",
      "\n",
      " 32%|███▏      | 36/112 [01:51<04:20,  3.43s/it]\u001b[A\u001b[A\n",
      "\n",
      " 33%|███▎      | 37/112 [01:54<04:15,  3.41s/it]\u001b[A\u001b[A\n",
      "\n",
      " 34%|███▍      | 38/112 [01:57<03:47,  3.07s/it]\u001b[A\u001b[A\n",
      "\n",
      " 35%|███▍      | 39/112 [01:59<03:36,  2.97s/it]\u001b[A\u001b[A\n",
      "\n",
      " 36%|███▌      | 40/112 [02:02<03:26,  2.87s/it]\u001b[A\u001b[A\n",
      "\n",
      " 37%|███▋      | 41/112 [02:05<03:26,  2.91s/it]\u001b[A\u001b[A\n",
      "\n",
      " 38%|███▊      | 42/112 [02:07<03:15,  2.79s/it]\u001b[A\u001b[A\n",
      "\n",
      " 38%|███▊      | 43/112 [02:10<03:03,  2.66s/it]\u001b[A\u001b[A\n",
      "\n",
      " 39%|███▉      | 44/112 [02:12<02:56,  2.59s/it]\u001b[A\u001b[A\n",
      "\n",
      " 40%|████      | 45/112 [02:15<02:50,  2.54s/it]\u001b[A\u001b[A\n",
      "\n",
      " 41%|████      | 46/112 [02:17<02:44,  2.49s/it]\u001b[A\u001b[A\n",
      "\n",
      " 42%|████▏     | 47/112 [02:19<02:38,  2.45s/it]\u001b[A\u001b[A\n",
      "\n",
      " 43%|████▎     | 48/112 [02:22<02:33,  2.39s/it]\u001b[A\u001b[A\n",
      "\n",
      " 44%|████▍     | 49/112 [02:24<02:27,  2.34s/it]\u001b[A\u001b[A\n",
      "\n",
      " 45%|████▍     | 50/112 [02:26<02:26,  2.37s/it]\u001b[A\u001b[A\n",
      "\n",
      " 46%|████▌     | 51/112 [02:29<02:23,  2.36s/it]\u001b[A\u001b[A\n",
      "\n",
      " 46%|████▋     | 52/112 [02:31<02:18,  2.30s/it]\u001b[A\u001b[A\n",
      "\n",
      " 47%|████▋     | 53/112 [02:33<02:13,  2.25s/it]\u001b[A\u001b[A\n",
      "\n",
      " 48%|████▊     | 54/112 [02:35<02:11,  2.27s/it]\u001b[A\u001b[A\n",
      "\n",
      " 49%|████▉     | 55/112 [02:38<02:12,  2.32s/it]\u001b[A\u001b[A\n",
      "\n",
      " 50%|█████     | 56/112 [02:40<02:06,  2.26s/it]\u001b[A\u001b[A\n",
      "\n",
      " 51%|█████     | 57/112 [02:42<02:07,  2.32s/it]\u001b[A\u001b[A\n",
      "\n",
      " 52%|█████▏    | 58/112 [02:45<02:08,  2.38s/it]\u001b[A\u001b[A\n",
      "\n",
      " 53%|█████▎    | 59/112 [02:47<02:04,  2.34s/it]\u001b[A\u001b[A\n",
      "\n",
      " 54%|█████▎    | 60/112 [02:49<02:00,  2.31s/it]\u001b[A\u001b[A\n",
      "\n",
      " 54%|█████▍    | 61/112 [02:52<01:57,  2.30s/it]\u001b[A\u001b[A\n",
      "\n",
      " 55%|█████▌    | 62/112 [02:54<01:59,  2.39s/it]\u001b[A\u001b[A\n",
      "\n",
      " 56%|█████▋    | 63/112 [02:57<01:56,  2.38s/it]\u001b[A\u001b[A\n",
      "\n",
      " 57%|█████▋    | 64/112 [02:59<01:50,  2.31s/it]\u001b[A\u001b[A\n",
      "\n",
      " 58%|█████▊    | 65/112 [03:01<01:47,  2.28s/it]\u001b[A\u001b[A\n",
      "\n",
      " 59%|█████▉    | 66/112 [03:03<01:43,  2.26s/it]\u001b[A\u001b[A\n",
      "\n",
      " 60%|█████▉    | 67/112 [03:06<01:43,  2.31s/it]\u001b[A\u001b[A\n",
      "\n",
      " 61%|██████    | 68/112 [03:08<01:41,  2.31s/it]\u001b[A\u001b[A\n",
      "\n",
      " 62%|██████▏   | 69/112 [03:10<01:41,  2.36s/it]\u001b[A\u001b[A\n",
      "\n",
      " 62%|██████▎   | 70/112 [03:12<01:36,  2.29s/it]\u001b[A\u001b[A\n",
      "\n",
      " 63%|██████▎   | 71/112 [03:15<01:33,  2.28s/it]\u001b[A\u001b[A\n",
      "\n",
      " 64%|██████▍   | 72/112 [03:17<01:32,  2.32s/it]\u001b[A\u001b[A\n",
      "\n",
      " 65%|██████▌   | 73/112 [03:19<01:28,  2.28s/it]\u001b[A\u001b[A\n",
      "\n",
      " 66%|██████▌   | 74/112 [03:21<01:23,  2.21s/it]\u001b[A\u001b[A\n",
      "\n",
      " 67%|██████▋   | 75/112 [03:24<01:23,  2.26s/it]\u001b[A\u001b[A\n",
      "\n",
      " 68%|██████▊   | 76/112 [03:26<01:22,  2.30s/it]\u001b[A\u001b[A\n",
      "\n",
      " 69%|██████▉   | 77/112 [03:28<01:20,  2.30s/it]\u001b[A\u001b[A\n",
      "\n",
      " 70%|██████▉   | 78/112 [03:31<01:17,  2.27s/it]\u001b[A\u001b[A\n",
      "\n",
      " 71%|███████   | 79/112 [03:33<01:12,  2.19s/it]\u001b[A\u001b[A\n",
      "\n",
      " 71%|███████▏  | 80/112 [03:35<01:10,  2.19s/it]\u001b[A\u001b[A\n",
      "\n",
      " 72%|███████▏  | 81/112 [03:37<01:11,  2.29s/it]\u001b[A\u001b[A\n",
      "\n",
      " 73%|███████▎  | 82/112 [03:40<01:08,  2.28s/it]\u001b[A\u001b[A\n",
      "\n",
      " 74%|███████▍  | 83/112 [03:42<01:05,  2.27s/it]\u001b[A\u001b[A\n",
      "\n",
      " 75%|███████▌  | 84/112 [03:44<01:04,  2.30s/it]\u001b[A\u001b[A\n",
      "\n",
      " 76%|███████▌  | 85/112 [03:47<01:03,  2.36s/it]\u001b[A\u001b[A\n",
      "\n",
      " 77%|███████▋  | 86/112 [03:49<00:58,  2.26s/it]\u001b[A\u001b[A\n",
      "\n",
      " 78%|███████▊  | 87/112 [03:51<00:55,  2.20s/it]\u001b[A\u001b[A\n",
      "\n",
      " 79%|███████▊  | 88/112 [03:53<00:54,  2.27s/it]\u001b[A\u001b[A\n",
      "\n",
      " 79%|███████▉  | 89/112 [03:55<00:51,  2.25s/it]\u001b[A\u001b[A\n",
      "\n",
      " 80%|████████  | 90/112 [03:58<00:51,  2.33s/it]\u001b[A\u001b[A\n",
      "\n",
      " 81%|████████▏ | 91/112 [04:00<00:47,  2.26s/it]\u001b[A\u001b[A\n",
      "\n",
      " 82%|████████▏ | 92/112 [04:02<00:44,  2.23s/it]\u001b[A\u001b[A\n",
      "\n",
      " 83%|████████▎ | 93/112 [04:04<00:41,  2.21s/it]\u001b[A\u001b[A\n",
      "\n",
      " 84%|████████▍ | 94/112 [04:07<00:41,  2.28s/it]\u001b[A\u001b[A\n",
      "\n",
      " 85%|████████▍ | 95/112 [04:09<00:38,  2.28s/it]\u001b[A\u001b[A\n",
      "\n",
      " 86%|████████▌ | 96/112 [04:12<00:37,  2.34s/it]\u001b[A\u001b[A\n",
      "\n",
      " 87%|████████▋ | 97/112 [04:14<00:34,  2.30s/it]\u001b[A\u001b[A\n",
      "\n",
      " 88%|████████▊ | 98/112 [04:16<00:31,  2.27s/it]\u001b[A\u001b[A\n",
      "\n",
      " 88%|████████▊ | 99/112 [04:19<00:31,  2.42s/it]\u001b[A\u001b[A\n",
      "\n",
      " 89%|████████▉ | 100/112 [04:21<00:28,  2.38s/it]\u001b[A\u001b[A\n",
      "\n",
      " 90%|█████████ | 101/112 [04:23<00:25,  2.35s/it]\u001b[A\u001b[A\n",
      "\n",
      " 91%|█████████ | 102/112 [04:26<00:24,  2.45s/it]\u001b[A\u001b[A\n",
      "\n",
      " 92%|█████████▏| 103/112 [04:28<00:21,  2.44s/it]\u001b[A\u001b[A\n",
      "\n",
      " 93%|█████████▎| 104/112 [04:31<00:19,  2.38s/it]\u001b[A\u001b[A\n",
      "\n",
      " 94%|█████████▍| 105/112 [04:33<00:16,  2.31s/it]\u001b[A\u001b[A\n",
      "\n",
      " 95%|█████████▍| 106/112 [04:36<00:14,  2.43s/it]\u001b[A\u001b[A\n",
      "\n",
      " 96%|█████████▌| 107/112 [04:38<00:12,  2.50s/it]\u001b[A\u001b[A\n",
      "\n",
      " 96%|█████████▋| 108/112 [04:40<00:09,  2.42s/it]\u001b[A\u001b[A\n",
      "\n",
      " 97%|█████████▋| 109/112 [04:43<00:07,  2.46s/it]\u001b[A\u001b[A\n",
      "\n",
      " 98%|█████████▊| 110/112 [04:46<00:04,  2.50s/it]\u001b[A\u001b[A\n",
      "\n",
      " 99%|█████████▉| 111/112 [04:48<00:02,  2.47s/it]\u001b[A\u001b[A\n",
      "\n",
      "100%|██████████| 112/112 [04:50<00:00,  2.60s/it]\u001b[A\u001b[A\n"
     ]
    }
   ],
   "source": [
    "\n",
    "to_merge = []\n",
    "\n",
    "for stock_id in tqdm(stock_ids):\n",
    "    book = pd.read_parquet('book_train.parquet/stock_id=' + str(stock_id))\n",
    "    trades = pd.read_parquet('trade_train.parquet/stock_id=' + str(stock_id))\n",
    "\n",
    "    book['wap'] = (book['bid_price1'] * book['ask_size1'] + book['ask_price1'] * book['bid_size1']) / (\n",
    "    book['ask_size1'] + book['bid_size1'])\n",
    "    \n",
    "    book['log_price'] = np.log(book['wap'])\n",
    "    book['bucket_in_bucket'] = book['seconds_in_bucket'] // 100\n",
    "    book['log_return'] = book.groupby(['time_id'])['log_price'].diff()\n",
    "    book = book[~book['log_return'].isnull()]\n",
    "    book['stock_id'] = stock_id\n",
    "    \n",
    "    temp = book.groupby(['time_id', 'stock_id'])['log_return'].agg(lambda x: np.sum(x ** 2) ** 0.5) \n",
    "\n",
    "    to_merge.append(temp)"
   ]
  },
  {
   "cell_type": "code",
   "execution_count": 363,
   "metadata": {},
   "outputs": [],
   "source": [
    "temp = pd.concat(to_merge)"
   ]
  },
  {
   "cell_type": "code",
   "execution_count": 369,
   "metadata": {},
   "outputs": [],
   "source": [
    "merged = pd.merge(train, temp.reset_index(), on=['time_id', 'stock_id'])\n",
    "merged.rename(columns={'log_return': 'pred'}, inplace=True)"
   ]
  },
  {
   "cell_type": "code",
   "execution_count": 374,
   "metadata": {},
   "outputs": [],
   "source": [
    "merged.to_csv('prev_targer.csv')"
   ]
  },
  {
   "cell_type": "code",
   "execution_count": 365,
   "metadata": {},
   "outputs": [
    {
     "data": {
      "text/plain": [
       "[<matplotlib.lines.Line2D at 0x7fc32b92c390>]"
      ]
     },
     "execution_count": 365,
     "metadata": {},
     "output_type": "execute_result"
    },
    {
     "data": {
      "image/png": "[encoded data removed]",
      "text/plain": [
       "<Figure size 432x288 with 1 Axes>"
      ]
     },
     "metadata": {
      "needs_background": "light"
     },
     "output_type": "display_data"
    }
   ],
   "source": [
    "grid = np.linspace(0.7, 1.2, 100)\n",
    "plt.plot(grid, [rmspe(merged['log_return'], x * merged['target']) for x in grid])"
   ]
  },
  {
   "cell_type": "code",
   "execution_count": 366,
   "metadata": {},
   "outputs": [
    {
     "data": {
      "text/plain": [
       "[<matplotlib.lines.Line2D at 0x7fc4200bac10>]"
      ]
     },
     "execution_count": 366,
     "metadata": {},
     "output_type": "execute_result"
    },
    {
     "data": {
      "image/png": "[encoded data removed]",
      "text/plain": [
       "<Figure size 432x288 with 1 Axes>"
      ]
     },
     "metadata": {
      "needs_background": "light"
     },
     "output_type": "display_data"
    }
   ],
   "source": [
    "grid = np.linspace(0.7, 1.2, 100)\n",
    "plt.plot(grid, [rmspe(merged['target'], x * merged['log_return']) for x in grid])"
   ]
  },
  {
   "cell_type": "code",
   "execution_count": 24,
   "metadata": {},
   "outputs": [
    {
     "data": {
      "image/png": "[encoded data removed]",
      "text/plain": [
       "<Figure size 1440x720 with 1 Axes>"
      ]
     },
     "metadata": {
      "needs_background": "light"
     },
     "output_type": "display_data"
    }
   ],
   "source": [
    "plt.figure(figsize=(20, 10))\n",
    "plt.hist(merged['target'], 50, alpha=0.5)\n",
    "plt.hist(merged['log_return'], 50, alpha=0.5)\n",
    "plt.show()"
   ]
  },
  {
   "cell_type": "code",
   "execution_count": 25,
   "metadata": {},
   "outputs": [
    {
     "data": {
      "text/html": [
       "<div>\n",
       "<style scoped>\n",
       "    .dataframe tbody tr th:only-of-type {\n",
       "        vertical-align: middle;\n",
       "    }\n",
       "\n",
       "    .dataframe tbody tr th {\n",
       "        vertical-align: top;\n",
       "    }\n",
       "\n",
       "    .dataframe thead th {\n",
       "        text-align: right;\n",
       "    }\n",
       "</style>\n",
       "<table border=\"1\" class=\"dataframe\">\n",
       "  <thead>\n",
       "    <tr style=\"text-align: right;\">\n",
       "      <th></th>\n",
       "      <th>target</th>\n",
       "      <th>log_return</th>\n",
       "    </tr>\n",
       "  </thead>\n",
       "  <tbody>\n",
       "    <tr>\n",
       "      <th>count</th>\n",
       "      <td>428932.000000</td>\n",
       "      <td>428932.000000</td>\n",
       "    </tr>\n",
       "    <tr>\n",
       "      <th>mean</th>\n",
       "      <td>0.003880</td>\n",
       "      <td>0.004233</td>\n",
       "    </tr>\n",
       "    <tr>\n",
       "      <th>std</th>\n",
       "      <td>0.002936</td>\n",
       "      <td>0.003586</td>\n",
       "    </tr>\n",
       "    <tr>\n",
       "      <th>min</th>\n",
       "      <td>0.000105</td>\n",
       "      <td>0.000081</td>\n",
       "    </tr>\n",
       "    <tr>\n",
       "      <th>25%</th>\n",
       "      <td>0.002026</td>\n",
       "      <td>0.002065</td>\n",
       "    </tr>\n",
       "    <tr>\n",
       "      <th>50%</th>\n",
       "      <td>0.003048</td>\n",
       "      <td>0.003159</td>\n",
       "    </tr>\n",
       "    <tr>\n",
       "      <th>75%</th>\n",
       "      <td>0.004738</td>\n",
       "      <td>0.005108</td>\n",
       "    </tr>\n",
       "    <tr>\n",
       "      <th>max</th>\n",
       "      <td>0.070321</td>\n",
       "      <td>0.086421</td>\n",
       "    </tr>\n",
       "  </tbody>\n",
       "</table>\n",
       "</div>"
      ],
      "text/plain": [
       "              target     log_return\n",
       "count  428932.000000  428932.000000\n",
       "mean        0.003880       0.004233\n",
       "std         0.002936       0.003586\n",
       "min         0.000105       0.000081\n",
       "25%         0.002026       0.002065\n",
       "50%         0.003048       0.003159\n",
       "75%         0.004738       0.005108\n",
       "max         0.070321       0.086421"
      ]
     },
     "execution_count": 25,
     "metadata": {},
     "output_type": "execute_result"
    }
   ],
   "source": [
    "merged[['target', 'log_return']].describe()"
   ]
  },
  {
   "cell_type": "code",
   "execution_count": 182,
   "metadata": {},
   "outputs": [
    {
     "name": "stderr",
     "output_type": "stream",
     "text": [
      "\n",
      "\n",
      "  0%|          | 0/100 [00:00<?, ?it/s]\u001b[A\u001b[A\n",
      "\n",
      "  1%|          | 1/100 [00:00<00:14,  6.89it/s]\u001b[A\u001b[A\n",
      "\n",
      "  2%|▏         | 2/100 [00:00<00:14,  6.94it/s]\u001b[A\u001b[A\n",
      "\n",
      "  3%|▎         | 3/100 [00:00<00:13,  7.14it/s]\u001b[A\u001b[A\n",
      "\n",
      "  4%|▍         | 4/100 [00:00<00:12,  7.48it/s]\u001b[A\u001b[A\n",
      "\n",
      "  5%|▌         | 5/100 [00:00<00:12,  7.68it/s]\u001b[A\u001b[A\n",
      "\n",
      "  6%|▌         | 6/100 [00:00<00:12,  7.78it/s]\u001b[A\u001b[A\n",
      "\n",
      "  7%|▋         | 7/100 [00:00<00:11,  7.92it/s]\u001b[A\u001b[A\n",
      "\n",
      "  8%|▊         | 8/100 [00:01<00:11,  7.95it/s]\u001b[A\u001b[A\n",
      "\n",
      "  9%|▉         | 9/100 [00:01<00:11,  7.84it/s]\u001b[A\u001b[A\n",
      "\n",
      " 10%|█         | 10/100 [00:01<00:11,  7.55it/s]\u001b[A\u001b[A\n",
      "\n",
      " 11%|█         | 11/100 [00:01<00:11,  7.65it/s]\u001b[A\u001b[A\n",
      "\n",
      " 12%|█▏        | 12/100 [00:01<00:11,  7.82it/s]\u001b[A\u001b[A\n",
      "\n",
      " 13%|█▎        | 13/100 [00:01<00:11,  7.88it/s]\u001b[A\u001b[A\n",
      "\n",
      " 14%|█▍        | 14/100 [00:01<00:10,  7.90it/s]\u001b[A\u001b[A\n",
      "\n",
      " 15%|█▌        | 15/100 [00:01<00:10,  7.73it/s]\u001b[A\u001b[A\n",
      "\n",
      " 16%|█▌        | 16/100 [00:02<00:11,  7.55it/s]\u001b[A\u001b[A\n",
      "\n",
      " 17%|█▋        | 17/100 [00:02<00:10,  7.66it/s]\u001b[A\u001b[A\n",
      "\n",
      " 18%|█▊        | 18/100 [00:02<00:10,  7.56it/s]\u001b[A\u001b[A\n",
      "\n",
      " 19%|█▉        | 19/100 [00:02<00:10,  7.58it/s]\u001b[A\u001b[A\n",
      "\n",
      " 20%|██        | 20/100 [00:02<00:10,  7.65it/s]\u001b[A\u001b[A\n",
      "\n",
      " 21%|██        | 21/100 [00:02<00:10,  7.63it/s]\u001b[A\u001b[A\n",
      "\n",
      " 22%|██▏       | 22/100 [00:02<00:10,  7.71it/s]\u001b[A\u001b[A\n",
      "\n",
      " 23%|██▎       | 23/100 [00:02<00:09,  7.70it/s]\u001b[A\u001b[A\n",
      "\n",
      " 24%|██▍       | 24/100 [00:03<00:10,  7.60it/s]\u001b[A\u001b[A\n",
      "\n",
      " 25%|██▌       | 25/100 [00:03<00:09,  7.60it/s]\u001b[A\u001b[A\n",
      "\n",
      " 26%|██▌       | 26/100 [00:03<00:09,  7.63it/s]\u001b[A\u001b[A\n",
      "\n",
      " 27%|██▋       | 27/100 [00:03<00:09,  7.71it/s]\u001b[A\u001b[A\n",
      "\n",
      " 28%|██▊       | 28/100 [00:03<00:09,  7.76it/s]\u001b[A\u001b[A\n",
      "\n",
      " 29%|██▉       | 29/100 [00:03<00:09,  7.75it/s]\u001b[A\u001b[A\n",
      "\n",
      " 30%|███       | 30/100 [00:03<00:08,  7.83it/s]\u001b[A\u001b[A\n",
      "\n",
      " 31%|███       | 31/100 [00:04<00:08,  7.81it/s]\u001b[A\u001b[A\n",
      "\n",
      " 32%|███▏      | 32/100 [00:04<00:08,  7.61it/s]\u001b[A\u001b[A\n",
      "\n",
      " 33%|███▎      | 33/100 [00:04<00:09,  7.36it/s]\u001b[A\u001b[A\n",
      "\n",
      " 34%|███▍      | 34/100 [00:04<00:08,  7.35it/s]\u001b[A\u001b[A\n",
      "\n",
      " 35%|███▌      | 35/100 [00:04<00:08,  7.48it/s]\u001b[A\u001b[A\n",
      "\n",
      " 36%|███▌      | 36/100 [00:04<00:08,  7.58it/s]\u001b[A\u001b[A\n",
      "\n",
      " 37%|███▋      | 37/100 [00:04<00:08,  7.64it/s]\u001b[A\u001b[A\n",
      "\n",
      " 38%|███▊      | 38/100 [00:04<00:08,  7.72it/s]\u001b[A\u001b[A\n",
      "\n",
      " 39%|███▉      | 39/100 [00:05<00:08,  7.55it/s]\u001b[A\u001b[A\n",
      "\n",
      " 40%|████      | 40/100 [00:05<00:07,  7.65it/s]\u001b[A\u001b[A\n",
      "\n",
      " 41%|████      | 41/100 [00:05<00:07,  7.58it/s]\u001b[A\u001b[A\n",
      "\n",
      " 42%|████▏     | 42/100 [00:05<00:07,  7.64it/s]\u001b[A\u001b[A\n",
      "\n",
      " 43%|████▎     | 43/100 [00:05<00:07,  7.69it/s]\u001b[A\u001b[A\n",
      "\n",
      " 44%|████▍     | 44/100 [00:05<00:07,  7.67it/s]\u001b[A\u001b[A\n",
      "\n",
      " 45%|████▌     | 45/100 [00:05<00:07,  7.67it/s]\u001b[A\u001b[A\n",
      "\n",
      " 46%|████▌     | 46/100 [00:06<00:07,  7.65it/s]\u001b[A\u001b[A\n",
      "\n",
      " 47%|████▋     | 47/100 [00:06<00:07,  7.48it/s]\u001b[A\u001b[A\n",
      "\n",
      " 48%|████▊     | 48/100 [00:06<00:06,  7.47it/s]\u001b[A\u001b[A\n",
      "\n",
      " 49%|████▉     | 49/100 [00:06<00:06,  7.55it/s]\u001b[A\u001b[A\n",
      "\n",
      " 50%|█████     | 50/100 [00:06<00:06,  7.59it/s]\u001b[A\u001b[A\n",
      "\n",
      " 51%|█████     | 51/100 [00:06<00:06,  7.41it/s]\u001b[A\u001b[A\n",
      "\n",
      " 52%|█████▏    | 52/100 [00:06<00:06,  7.45it/s]\u001b[A\u001b[A\n",
      "\n",
      " 53%|█████▎    | 53/100 [00:06<00:06,  7.56it/s]\u001b[A\u001b[A\n",
      "\n",
      " 54%|█████▍    | 54/100 [00:07<00:06,  7.43it/s]\u001b[A\u001b[A\n",
      "\n",
      " 55%|█████▌    | 55/100 [00:07<00:06,  7.50it/s]\u001b[A\u001b[A\n",
      "\n",
      " 56%|█████▌    | 56/100 [00:07<00:05,  7.65it/s]\u001b[A\u001b[A\n",
      "\n",
      " 57%|█████▋    | 57/100 [00:07<00:05,  7.87it/s]\u001b[A\u001b[A\n",
      "\n",
      " 58%|█████▊    | 58/100 [00:07<00:05,  8.09it/s]\u001b[A\u001b[A\n",
      "\n",
      " 59%|█████▉    | 59/100 [00:07<00:05,  7.94it/s]\u001b[A\u001b[A\n",
      "\n",
      " 60%|██████    | 60/100 [00:07<00:04,  8.10it/s]\u001b[A\u001b[A\n",
      "\n",
      " 61%|██████    | 61/100 [00:07<00:04,  8.21it/s]\u001b[A\u001b[A\n",
      "\n",
      " 62%|██████▏   | 62/100 [00:08<00:04,  7.87it/s]\u001b[A\u001b[A\n",
      "\n",
      " 63%|██████▎   | 63/100 [00:08<00:04,  7.87it/s]\u001b[A\u001b[A\n",
      "\n",
      " 64%|██████▍   | 64/100 [00:08<00:04,  7.89it/s]\u001b[A\u001b[A\n",
      "\n",
      " 65%|██████▌   | 65/100 [00:08<00:04,  8.00it/s]\u001b[A\u001b[A\n",
      "\n",
      " 66%|██████▌   | 66/100 [00:08<00:04,  8.11it/s]\u001b[A\u001b[A\n",
      "\n",
      " 67%|██████▋   | 67/100 [00:08<00:04,  7.98it/s]\u001b[A\u001b[A\n",
      "\n",
      " 68%|██████▊   | 68/100 [00:08<00:03,  8.12it/s]\u001b[A\u001b[A\n",
      "\n",
      " 69%|██████▉   | 69/100 [00:08<00:03,  8.19it/s]\u001b[A\u001b[A\n",
      "\n",
      " 70%|███████   | 70/100 [00:09<00:03,  7.96it/s]\u001b[A\u001b[A\n",
      "\n",
      " 71%|███████   | 71/100 [00:09<00:03,  7.86it/s]\u001b[A\u001b[A\n",
      "\n",
      " 72%|███████▏  | 72/100 [00:09<00:03,  7.87it/s]\u001b[A\u001b[A\n",
      "\n",
      " 73%|███████▎  | 73/100 [00:09<00:03,  8.01it/s]\u001b[A\u001b[A\n",
      "\n",
      " 74%|███████▍  | 74/100 [00:09<00:03,  8.16it/s]\u001b[A\u001b[A\n",
      "\n",
      " 75%|███████▌  | 75/100 [00:09<00:03,  8.02it/s]\u001b[A\u001b[A\n",
      "\n",
      " 76%|███████▌  | 76/100 [00:09<00:02,  8.14it/s]\u001b[A\u001b[A\n",
      "\n",
      " 77%|███████▋  | 77/100 [00:09<00:02,  8.21it/s]\u001b[A\u001b[A\n",
      "\n",
      " 78%|███████▊  | 78/100 [00:10<00:02,  8.12it/s]\u001b[A\u001b[A\n",
      "\n",
      " 79%|███████▉  | 79/100 [00:10<00:02,  7.90it/s]\u001b[A\u001b[A\n",
      "\n",
      " 80%|████████  | 80/100 [00:10<00:02,  7.85it/s]\u001b[A\u001b[A\n",
      "\n",
      " 81%|████████  | 81/100 [00:10<00:02,  7.84it/s]\u001b[A\u001b[A\n",
      "\n",
      " 82%|████████▏ | 82/100 [00:10<00:02,  8.03it/s]\u001b[A\u001b[A\n",
      "\n",
      " 83%|████████▎ | 83/100 [00:10<00:02,  7.90it/s]\u001b[A\u001b[A\n",
      "\n",
      " 84%|████████▍ | 84/100 [00:10<00:01,  8.05it/s]\u001b[A\u001b[A\n",
      "\n",
      " 85%|████████▌ | 85/100 [00:10<00:01,  7.90it/s]\u001b[A\u001b[A\n",
      "\n",
      " 86%|████████▌ | 86/100 [00:11<00:01,  7.90it/s]\u001b[A\u001b[A\n",
      "\n",
      " 87%|████████▋ | 87/100 [00:11<00:01,  7.96it/s]\u001b[A\u001b[A\n",
      "\n",
      " 88%|████████▊ | 88/100 [00:11<00:01,  7.66it/s]\u001b[A\u001b[A\n",
      "\n",
      " 89%|████████▉ | 89/100 [00:11<00:01,  7.70it/s]\u001b[A\u001b[A\n",
      "\n",
      " 90%|█████████ | 90/100 [00:11<00:01,  7.73it/s]\u001b[A\u001b[A\n",
      "\n",
      " 91%|█████████ | 91/100 [00:11<00:01,  7.89it/s]\u001b[A\u001b[A\n",
      "\n",
      " 92%|█████████▏| 92/100 [00:11<00:01,  7.75it/s]\u001b[A\u001b[A\n",
      "\n",
      " 93%|█████████▎| 93/100 [00:11<00:00,  7.77it/s]\u001b[A\u001b[A\n",
      "\n",
      " 94%|█████████▍| 94/100 [00:12<00:00,  7.72it/s]\u001b[A\u001b[A\n",
      "\n",
      " 95%|█████████▌| 95/100 [00:12<00:00,  7.49it/s]\u001b[A\u001b[A\n",
      "\n",
      " 96%|█████████▌| 96/100 [00:12<00:00,  7.58it/s]\u001b[A\u001b[A\n",
      "\n",
      " 97%|█████████▋| 97/100 [00:12<00:00,  7.81it/s]\u001b[A\u001b[A\n",
      "\n",
      " 98%|█████████▊| 98/100 [00:12<00:00,  7.83it/s]\u001b[A\u001b[A\n",
      "\n",
      " 99%|█████████▉| 99/100 [00:12<00:00,  7.95it/s]\u001b[A\u001b[A\n",
      "\n",
      "100%|██████████| 100/100 [00:12<00:00,  7.76it/s]\u001b[A\u001b[A\n"
     ]
    }
   ],
   "source": [
    "res = []\n",
    "answer = []\n",
    "grid = np.linspace(0.7, 1.2, 100)\n",
    "for _ in trange(100):\n",
    "    bern = np.random.binomial(1, p=0.5, size=len(merged))\n",
    "    \n",
    "    target = np.where(bern, merged['target'], merged['log_return'])\n",
    "    pred = np.where(bern, merged['log_return'], merged['target'])\n",
    "    \n",
    "    grid = np.linspace(0.8, 1, 30)\n",
    "    temp = [rmspe(target, x * pred) for x in grid]\n",
    "    x = grid[np.argmin(temp)]\n",
    "    res.append(x)\n",
    "    answer.append(np.max(temp))"
   ]
  },
  {
   "cell_type": "code",
   "execution_count": 183,
   "metadata": {},
   "outputs": [
    {
     "data": {
      "text/plain": [
       "0.5006318017774379"
      ]
     },
     "execution_count": 183,
     "metadata": {},
     "output_type": "execute_result"
    }
   ],
   "source": [
    "np.mean(target > pred)"
   ]
  },
  {
   "cell_type": "code",
   "execution_count": 184,
   "metadata": {},
   "outputs": [
    {
     "data": {
      "text/plain": [
       "(0.8689655172413794, 0.8758620689655172, 0.873793103448276)"
      ]
     },
     "execution_count": 184,
     "metadata": {},
     "output_type": "execute_result"
    }
   ],
   "source": [
    "np.min(res), np.max(res), np.mean(res)"
   ]
  },
  {
   "cell_type": "code",
   "execution_count": 185,
   "metadata": {},
   "outputs": [
    {
     "data": {
      "text/plain": [
       "(array([0.86896552, 0.87586207]), array([30, 70]))"
      ]
     },
     "execution_count": 185,
     "metadata": {},
     "output_type": "execute_result"
    }
   ],
   "source": [
    "np.unique(res, return_counts=True)"
   ]
  },
  {
   "cell_type": "code",
   "execution_count": 353,
   "metadata": {},
   "outputs": [
    {
     "name": "stderr",
     "output_type": "stream",
     "text": [
      "/home/dro/anaconda3/lib/python3.7/site-packages/numpy/core/fromnumeric.py:3373: RuntimeWarning: Mean of empty slice.\n",
      "  out=out, **kwargs)\n",
      "/home/dro/anaconda3/lib/python3.7/site-packages/numpy/core/_methods.py:170: RuntimeWarning: invalid value encountered in double_scalars\n",
      "  ret = ret.dtype.type(ret / rcount)\n"
     ]
    }
   ],
   "source": [
    "spliters = np.linspace(0, 0.1, 30, np.inf)\n",
    "x1 = []\n",
    "y1 = []\n",
    "\n",
    "for t in range(1, len(spliters)):\n",
    "    bern = np.random.binomial(1, p=0, size=len(merged))\n",
    "    target = np.where(bern, merged['target'], merged['log_return'])\n",
    "    pred = np.where(bern, merged['log_return'], merged['target'])\n",
    "\n",
    "    grid = np.linspace(0.1, 1.2, 100)\n",
    "    inds = (pred > spliters[t - 1]) & (pred <= spliters[t])\n",
    "    temp = [rmspe(target[inds], x * pred[inds]) for x in grid]\n",
    "    x = grid[np.argmin(temp)]\n",
    "    y = np.min(temp)\n",
    "    x1.append(x)\n",
    "    y1.append(y)"
   ]
  },
  {
   "cell_type": "code",
   "execution_count": 354,
   "metadata": {},
   "outputs": [],
   "source": [
    "from sklearn.linear_model import LinearRegression\n",
    "from sklearn.preprocessing import PolynomialFeatures"
   ]
  },
  {
   "cell_type": "code",
   "execution_count": 355,
   "metadata": {},
   "outputs": [
    {
     "data": {
      "text/plain": [
       "PolynomialFeatures(degree=3, include_bias=True, interaction_only=False,\n",
       "                   order='C')"
      ]
     },
     "execution_count": 355,
     "metadata": {},
     "output_type": "execute_result"
    }
   ],
   "source": [
    "poly = PolynomialFeatures(degree=3, )\n",
    "poly.fit(pred.reshape(-1, 1))"
   ]
  },
  {
   "cell_type": "code",
   "execution_count": 356,
   "metadata": {},
   "outputs": [],
   "source": [
    "x = np.array(spliters[1: ])\n",
    "x = np.stack([x, x**2, x**3, x**4]).T\n",
    "y = x1"
   ]
  },
  {
   "cell_type": "code",
   "execution_count": 357,
   "metadata": {},
   "outputs": [
    {
     "data": {
      "text/plain": [
       "[<matplotlib.lines.Line2D at 0x7fc31eaa9650>]"
      ]
     },
     "execution_count": 357,
     "metadata": {},
     "output_type": "execute_result"
    },
    {
     "data": {
      "image/png": "[encoded data removed]",
      "text/plain": [
       "<Figure size 432x288 with 1 Axes>"
      ]
     },
     "metadata": {
      "needs_background": "light"
     },
     "output_type": "display_data"
    }
   ],
   "source": [
    "reg = LinearRegression()\n",
    "reg.fit(x, y)\n",
    "plt.plot(x[:, 0], y)\n",
    "plt.plot(x[:, 0], reg.predict(x))\n",
    "x_temp = np.linspace(0, 0.01, 100)\n",
    "plt.plot(x_temp, reg.predict(np.stack([x_temp, x_temp**2, x_temp**3, x_temp**4]).T))"
   ]
  },
  {
   "cell_type": "code",
   "execution_count": 358,
   "metadata": {},
   "outputs": [
    {
     "data": {
      "text/plain": [
       "0.35081897165794595"
      ]
     },
     "execution_count": 358,
     "metadata": {},
     "output_type": "execute_result"
    }
   ],
   "source": [
    "rmspe(target, pred * reg.predict(np.stack([pred, pred**2, pred**3, pred**4]).T))"
   ]
  },
  {
   "cell_type": "code",
   "execution_count": 339,
   "metadata": {},
   "outputs": [],
   "source": [
    "temp = reg.predict(np.stack([pred, pred**2, pred**3, pred**4]).T)"
   ]
  },
  {
   "cell_type": "code",
   "execution_count": 340,
   "metadata": {},
   "outputs": [
    {
     "data": {
      "text/plain": [
       "0.08642106503248215"
      ]
     },
     "execution_count": 340,
     "metadata": {},
     "output_type": "execute_result"
    }
   ],
   "source": [
    "pred.max()"
   ]
  },
  {
   "cell_type": "code",
   "execution_count": 268,
   "metadata": {},
   "outputs": [
    {
     "data": {
      "text/plain": [
       "[<matplotlib.lines.Line2D at 0x7fc34eb37d10>]"
      ]
     },
     "execution_count": 268,
     "metadata": {},
     "output_type": "execute_result"
    },
    {
     "data": {
      "image/png": "[encoded data removed]",
      "text/plain": [
       "<Figure size 432x288 with 1 Axes>"
      ]
     },
     "metadata": {
      "needs_background": "light"
     },
     "output_type": "display_data"
    }
   ],
   "source": [
    "reg = LinearRegression()\n",
    "reg.fit(x, y)\n",
    "plt.plot(x[:, 0], y)\n",
    "plt.plot(x[:, 0], reg.predict(x))"
   ]
  },
  {
   "cell_type": "code",
   "execution_count": 267,
   "metadata": {},
   "outputs": [
    {
     "data": {
      "text/plain": [
       "array([[3.44827586e-04, 1.18906064e-07, 4.10020911e-11],\n",
       "       [6.89655172e-04, 4.75624257e-07, 3.28016729e-10],\n",
       "       [1.03448276e-03, 1.07015458e-06, 1.10705646e-09],\n",
       "       [1.37931034e-03, 1.90249703e-06, 2.62413383e-09],\n",
       "       [1.72413793e-03, 2.97265161e-06, 5.12526139e-09],\n",
       "       [2.06896552e-03, 4.28061831e-06, 8.85645168e-09],\n",
       "       [2.41379310e-03, 5.82639715e-06, 1.40637172e-08],\n",
       "       [2.75862069e-03, 7.60998811e-06, 2.09930706e-08],\n",
       "       [3.10344828e-03, 9.63139120e-06, 2.98905244e-08],\n",
       "       [3.44827586e-03, 1.18906064e-05, 4.10020911e-08],\n",
       "       [3.79310345e-03, 1.43876338e-05, 5.45737833e-08],\n",
       "       [4.13793103e-03, 1.71224732e-05, 7.08516134e-08],\n",
       "       [4.48275862e-03, 2.00951249e-05, 9.00815942e-08],\n",
       "       [4.82758621e-03, 2.33055886e-05, 1.12509738e-07],\n",
       "       [5.17241379e-03, 2.67538644e-05, 1.38382057e-07],\n",
       "       [5.51724138e-03, 3.04399524e-05, 1.67944565e-07],\n",
       "       [5.86206897e-03, 3.43638526e-05, 2.01443274e-07],\n",
       "       [6.20689655e-03, 3.85255648e-05, 2.39124195e-07],\n",
       "       [6.55172414e-03, 4.29250892e-05, 2.81233343e-07],\n",
       "       [6.89655172e-03, 4.75624257e-05, 3.28016729e-07],\n",
       "       [7.24137931e-03, 5.24375743e-05, 3.79720366e-07],\n",
       "       [7.58620690e-03, 5.75505351e-05, 4.36590266e-07],\n",
       "       [7.93103448e-03, 6.29013080e-05, 4.98872442e-07],\n",
       "       [8.27586207e-03, 6.84898930e-05, 5.66812907e-07],\n",
       "       [8.62068966e-03, 7.43162901e-05, 6.40657674e-07],\n",
       "       [8.96551724e-03, 8.03804994e-05, 7.20652753e-07],\n",
       "       [9.31034483e-03, 8.66825208e-05, 8.07044159e-07],\n",
       "       [9.65517241e-03, 9.32223543e-05, 9.00077904e-07],\n",
       "       [1.00000000e-02, 1.00000000e-04, 1.00000000e-06]])"
      ]
     },
     "execution_count": 267,
     "metadata": {},
     "output_type": "execute_result"
    }
   ],
   "source": []
  },
  {
   "cell_type": "code",
   "execution_count": 58,
   "metadata": {},
   "outputs": [],
   "source": [
    "merged['a>t'] = merged['log_return'] > merged['target']"
   ]
  },
  {
   "cell_type": "code",
   "execution_count": 105,
   "metadata": {},
   "outputs": [],
   "source": [
    "bad_time_ids = merged.groupby('time_id')['a>t'].mean().sort_values().tail(100).index.values"
   ]
  },
  {
   "cell_type": "code",
   "execution_count": 106,
   "metadata": {},
   "outputs": [
    {
     "data": {
      "text/plain": [
       "<pandas.core.groupby.generic.DataFrameGroupBy object at 0x7fc34e8cdc90>"
      ]
     },
     "execution_count": 106,
     "metadata": {},
     "output_type": "execute_result"
    }
   ],
   "source": [
    "book.groupby('seconds_in_bucket')"
   ]
  },
  {
   "cell_type": "code",
   "execution_count": 135,
   "metadata": {},
   "outputs": [],
   "source": [
    "stock_id = 5\n",
    "\n",
    "book = pd.read_parquet('book_train.parquet/stock_id=' + str(stock_id))\n",
    "trades = pd.read_parquet('trade_train.parquet/stock_id=' + str(stock_id))\n",
    "\n",
    "book['wap'] = (book['bid_price1'] * book['ask_size1'] + book['ask_price1'] * book['bid_size1']) / (\n",
    "book['ask_size1'] + book['bid_size1'])\n",
    "\n",
    "book['log_price'] = np.log(book['wap'])\n",
    "book['bucket_in_bucket'] = book['seconds_in_bucket'] // 100\n",
    "book['log_return'] = book.groupby(['time_id'])['log_price'].diff()\n",
    "book = book[~book['log_return'].isnull()]\n",
    "book['square_return'] = book['log_return'] ** 2\n",
    "book['spread'] = book['ask_price1'] - book['bid_price1']\n",
    "book['stock_id'] = stock_id\n",
    "\n",
    "book = pd.merge(book, trades, on=['time_id', 'seconds_in_bucket'], how='left')\n",
    "book['is_trade'] = book['size'] > 0"
   ]
  },
  {
   "cell_type": "code",
   "execution_count": 136,
   "metadata": {},
   "outputs": [
    {
     "data": {
      "text/plain": [
       "<AxesSubplot:xlabel='seconds_in_bucket'>"
      ]
     },
     "execution_count": 136,
     "metadata": {},
     "output_type": "execute_result"
    },
    {
     "data": {
      "image/png": "[encoded data removed]",
      "text/plain": [
       "<Figure size 432x288 with 1 Axes>"
      ]
     },
     "metadata": {
      "needs_background": "light"
     },
     "output_type": "display_data"
    }
   ],
   "source": [
    "book[book.time_id.apply(lambda x: x not in bad_time_ids)].groupby(\n",
    "    'seconds_in_bucket')['log_return'].agg(lambda x: np.square(x).mean()).plot()"
   ]
  },
  {
   "cell_type": "code",
   "execution_count": 143,
   "metadata": {},
   "outputs": [
    {
     "data": {
      "text/html": [
       "<div>\n",
       "<style scoped>\n",
       "    .dataframe tbody tr th:only-of-type {\n",
       "        vertical-align: middle;\n",
       "    }\n",
       "\n",
       "    .dataframe tbody tr th {\n",
       "        vertical-align: top;\n",
       "    }\n",
       "\n",
       "    .dataframe thead th {\n",
       "        text-align: right;\n",
       "    }\n",
       "</style>\n",
       "<table border=\"1\" class=\"dataframe\">\n",
       "  <thead>\n",
       "    <tr style=\"text-align: right;\">\n",
       "      <th></th>\n",
       "      <th></th>\n",
       "      <th>square_return</th>\n",
       "    </tr>\n",
       "    <tr>\n",
       "      <th>time_id</th>\n",
       "      <th>is_trade</th>\n",
       "      <th></th>\n",
       "    </tr>\n",
       "  </thead>\n",
       "  <tbody>\n",
       "    <tr>\n",
       "      <th rowspan=\"2\" valign=\"top\">5</th>\n",
       "      <th>False</th>\n",
       "      <td>8.288841e-08</td>\n",
       "    </tr>\n",
       "    <tr>\n",
       "      <th>True</th>\n",
       "      <td>3.095564e-07</td>\n",
       "    </tr>\n",
       "    <tr>\n",
       "      <th rowspan=\"2\" valign=\"top\">11</th>\n",
       "      <th>False</th>\n",
       "      <td>5.684930e-09</td>\n",
       "    </tr>\n",
       "    <tr>\n",
       "      <th>True</th>\n",
       "      <td>4.703467e-08</td>\n",
       "    </tr>\n",
       "    <tr>\n",
       "      <th>16</th>\n",
       "      <th>False</th>\n",
       "      <td>2.144320e-08</td>\n",
       "    </tr>\n",
       "    <tr>\n",
       "      <th>...</th>\n",
       "      <th>...</th>\n",
       "      <td>...</td>\n",
       "    </tr>\n",
       "    <tr>\n",
       "      <th>32758</th>\n",
       "      <th>True</th>\n",
       "      <td>4.362711e-08</td>\n",
       "    </tr>\n",
       "    <tr>\n",
       "      <th rowspan=\"2\" valign=\"top\">32763</th>\n",
       "      <th>False</th>\n",
       "      <td>4.126760e-08</td>\n",
       "    </tr>\n",
       "    <tr>\n",
       "      <th>True</th>\n",
       "      <td>2.001758e-07</td>\n",
       "    </tr>\n",
       "    <tr>\n",
       "      <th rowspan=\"2\" valign=\"top\">32767</th>\n",
       "      <th>False</th>\n",
       "      <td>2.790630e-08</td>\n",
       "    </tr>\n",
       "    <tr>\n",
       "      <th>True</th>\n",
       "      <td>9.503977e-08</td>\n",
       "    </tr>\n",
       "  </tbody>\n",
       "</table>\n",
       "<p>7660 rows × 1 columns</p>\n",
       "</div>"
      ],
      "text/plain": [
       "                  square_return\n",
       "time_id is_trade               \n",
       "5       False      8.288841e-08\n",
       "        True       3.095564e-07\n",
       "11      False      5.684930e-09\n",
       "        True       4.703467e-08\n",
       "16      False      2.144320e-08\n",
       "...                         ...\n",
       "32758   True       4.362711e-08\n",
       "32763   False      4.126760e-08\n",
       "        True       2.001758e-07\n",
       "32767   False      2.790630e-08\n",
       "        True       9.503977e-08\n",
       "\n",
       "[7660 rows x 1 columns]"
      ]
     },
     "execution_count": 143,
     "metadata": {},
     "output_type": "execute_result"
    }
   ],
   "source": [
    "book.groupby(['time_id', 'is_trade'])[['square_return']].mean()"
   ]
  },
  {
   "cell_type": "code",
   "execution_count": 148,
   "metadata": {},
   "outputs": [
    {
     "data": {
      "text/plain": [
       "<AxesSubplot:>"
      ]
     },
     "execution_count": 148,
     "metadata": {},
     "output_type": "execute_result"
    },
    {
     "data": {
      "image/png": "[encoded data removed]",
      "text/plain": [
       "<Figure size 432x288 with 1 Axes>"
      ]
     },
     "metadata": {
      "needs_background": "light"
     },
     "output_type": "display_data"
    }
   ],
   "source": [
    "book[book.time_id == 5]['spread'].plot()"
   ]
  }
 ],
 "metadata": {
  "kernelspec": {
   "display_name": "Python 3",
   "language": "python",
   "name": "python3"
  },
  "language_info": {
   "codemirror_mode": {
    "name": "ipython",
    "version": 3
   },
   "file_extension": ".py",
   "mimetype": "text/x-python",
   "name": "python",
   "nbconvert_exporter": "python",
   "pygments_lexer": "ipython3",
   "version": "3.7.6"
  }
 },
 "nbformat": 4,
 "nbformat_minor": 4
}

{
 "cells": [
  {
   "cell_type": "code",
   "execution_count": 7,
   "metadata": {},
   "outputs": [],
   "source": [
    "import pandas as pd\n",
    "import numpy as np\n",
    "import os\n",
    "import re"
   ]
  },
  {
   "cell_type": "code",
   "execution_count": 3,
   "metadata": {},
   "outputs": [
    {
     "data": {
      "text/plain": [
       "['Deep learning.ipynb',\n",
       " 'Custom weights main.ipynb',\n",
       " 'Custom weighting with pytorch, Poly regression-Copy1.ipynb',\n",
       " 'Shallow neural net.ipynb',\n",
       " 'book_train.parquet',\n",
       " 'Deep neural net',\n",
       " 'book_test.parquet',\n",
       " 'test.csv',\n",
       " 'EDA.ipynb',\n",
       " 'prev_targer.csvd',\n",
       " '.ipynb_checkpoints',\n",
       " 'prev_targer.csv',\n",
       " 'trade_train.parquet',\n",
       " 'LeadingLagResearch',\n",
       " 'Lightgbm',\n",
       " 'trade_test.parquet',\n",
       " 'sample_submission.csv',\n",
       " 'Naive solution - prev target.ipynb',\n",
       " 'Custom Convolve debug.ipynb',\n",
       " 'train.csv',\n",
       " 'utils.py',\n",
       " 'Custom weighting with pytorch, Poly regression.ipynb',\n",
       " 'optiver-realized-volatility-prediction.zip',\n",
       " 'Custom weighting with pytorch.ipynb',\n",
       " '__pycache__']"
      ]
     },
     "execution_count": 3,
     "metadata": {},
     "output_type": "execute_result"
    }
   ],
   "source": [
    "os.listdir('..')"
   ]
  },
  {
   "cell_type": "code",
   "execution_count": 11,
   "metadata": {},
   "outputs": [],
   "source": [
    "stock_ids = sorted([int(re.sub('stock_id=', '', x)) for x in os.listdir('../book_train.parquet')])"
   ]
  },
  {
   "cell_type": "code",
   "execution_count": 12,
   "metadata": {},
   "outputs": [],
   "source": [
    "train = pd.read_csv('../train.csv')"
   ]
  },
  {
   "cell_type": "code",
   "execution_count": 15,
   "metadata": {},
   "outputs": [
    {
     "data": {
      "text/plain": [
       "<AxesSubplot:>"
      ]
     },
     "execution_count": 15,
     "metadata": {},
     "output_type": "execute_result"
    },
    {
     "data": {
      "image/png": "[encoded data removed]",
      "text/plain": [
       "<Figure size 432x288 with 1 Axes>"
      ]
     },
     "metadata": {
      "needs_background": "light"
     },
     "output_type": "display_data"
    }
   ],
   "source": [
    "train['target'].hist()"
   ]
  },
  {
   "cell_type": "code",
   "execution_count": 57,
   "metadata": {},
   "outputs": [],
   "source": [
    "book1 = pd.read_parquet('../book_train.parquet/stock_id=' + str(0))\n",
    "book2 = pd.read_parquet('../book_train.parquet/stock_id=' + str(2))"
   ]
  },
  {
   "cell_type": "code",
   "execution_count": 58,
   "metadata": {},
   "outputs": [
    {
     "data": {
      "text/plain": [
       "time_id              16056.001400\n",
       "seconds_in_bucket      298.330206\n",
       "bid_price1               0.999883\n",
       "ask_price1               1.000146\n",
       "bid_price2               0.999767\n",
       "ask_price2               1.000259\n",
       "bid_size1              195.515098\n",
       "ask_size1              200.389852\n",
       "bid_size2              218.284247\n",
       "ask_size2              224.609197\n",
       "dtype: float64"
      ]
     },
     "execution_count": 58,
     "metadata": {},
     "output_type": "execute_result"
    }
   ],
   "source": [
    "book2.mean()"
   ]
  },
  {
   "cell_type": "code",
   "execution_count": 59,
   "metadata": {},
   "outputs": [],
   "source": [
    "def add_wap_log(book):\n",
    "    book['wap'] = (book['ask_size1'] * book['bid_price1'] + book['bid_size1'] * book['ask_price1']) / (\n",
    "        book['ask_size1'] + book['bid_size1'])\n",
    "    \n",
    "    book['log'] = np.log(book['wap'])"
   ]
  },
  {
   "cell_type": "code",
   "execution_count": 60,
   "metadata": {},
   "outputs": [],
   "source": [
    "add_wap_log(book1)\n",
    "add_wap_log(book2)"
   ]
  },
  {
   "cell_type": "code",
   "execution_count": 61,
   "metadata": {},
   "outputs": [],
   "source": [
    "book1['ret'] = book1.groupby('time_id')['log'].diff()\n",
    "book2['ret'] = book2.groupby('time_id')['log'].diff()"
   ]
  },
  {
   "cell_type": "code",
   "execution_count": 62,
   "metadata": {},
   "outputs": [],
   "source": [
    "book1 = book1[~book1['ret'].isnull()]\n",
    "book2 = book2[~book2['ret'].isnull()]"
   ]
  },
  {
   "cell_type": "code",
   "execution_count": 63,
   "metadata": {},
   "outputs": [
    {
     "data": {
      "text/plain": [
       "<AxesSubplot:>"
      ]
     },
     "execution_count": 63,
     "metadata": {},
     "output_type": "execute_result"
    },
    {
     "data": {
      "image/png": "[encoded data removed]",
      "text/plain": [
       "<Figure size 432x288 with 1 Axes>"
      ]
     },
     "metadata": {
      "needs_background": "light"
     },
     "output_type": "display_data"
    }
   ],
   "source": [
    "book1[book1.time_id == 11]['wap'].plot()"
   ]
  },
  {
   "cell_type": "code",
   "execution_count": null,
   "metadata": {},
   "outputs": [],
   "source": []
  },
  {
   "cell_type": "code",
   "execution_count": 52,
   "metadata": {},
   "outputs": [
    {
     "data": {
      "text/plain": [
       "array([    5,    11,    16, ..., 32758, 32763, 32767], dtype=int16)"
      ]
     },
     "execution_count": 52,
     "metadata": {},
     "output_type": "execute_result"
    }
   ],
   "source": [
    "book2['time_id'].unique()"
   ]
  },
  {
   "cell_type": "code",
   "execution_count": 65,
   "metadata": {},
   "outputs": [
    {
     "data": {
      "text/plain": [
       "<AxesSubplot:>"
      ]
     },
     "execution_count": 65,
     "metadata": {},
     "output_type": "execute_result"
    },
    {
     "data": {
      "image/png": "[encoded data removed]",
      "text/plain": [
       "<Figure size 432x288 with 1 Axes>"
      ]
     },
     "metadata": {
      "needs_background": "light"
     },
     "output_type": "display_data"
    }
   ],
   "source": [
    "book2[book2.time_id == 11]['wap'].plot()"
   ]
  },
  {
   "cell_type": "code",
   "execution_count": 67,
   "metadata": {},
   "outputs": [
    {
     "data": {
      "text/plain": [
       "stock_id\n",
       "0      0.004028\n",
       "1      0.004362\n",
       "2      0.002385\n",
       "3      0.006182\n",
       "4      0.004197\n",
       "         ...   \n",
       "122    0.003762\n",
       "123    0.002506\n",
       "124    0.003691\n",
       "125    0.002016\n",
       "126    0.005321\n",
       "Name: target, Length: 112, dtype: float64"
      ]
     },
     "execution_count": 67,
     "metadata": {},
     "output_type": "execute_result"
    }
   ],
   "source": [
    "train.groupby('stock_id')['target'].mean().plot()"
   ]
  }
 ],
 "metadata": {
  "kernelspec": {
   "display_name": "Python 3",
   "language": "python",
   "name": "python3"
  },
  "language_info": {
   "codemirror_mode": {
    "name": "ipython",
    "version": 3
   },
   "file_extension": ".py",
   "mimetype": "text/x-python",
   "name": "python",
   "nbconvert_exporter": "python",
   "pygments_lexer": "ipython3",
   "version": "3.7.6"
  }
 },
 "nbformat": 4,
 "nbformat_minor": 4
}

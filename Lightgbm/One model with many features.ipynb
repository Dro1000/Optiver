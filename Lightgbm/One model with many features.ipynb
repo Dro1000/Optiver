{
 "cells": [
  {
   "cell_type": "code",
   "execution_count": 2,
   "metadata": {},
   "outputs": [],
   "source": [
    "import pandas as pd\n",
    "import numpy as np\n",
    "import matplotlib.pyplot as plt\n",
    "from tqdm import tqdm"
   ]
  },
  {
   "cell_type": "code",
   "execution_count": 3,
   "metadata": {},
   "outputs": [],
   "source": [
    "import os\n",
    "import re\n",
    "stock_ids = sorted(\n",
    "    [int(re.sub('stock_id=', '', x)) for x in os.listdir('../book_train.parquet')])\n"
   ]
  },
  {
   "cell_type": "code",
   "execution_count": 4,
   "metadata": {},
   "outputs": [],
   "source": [
    "def rmspe(y_true, y_pred):\n",
    "    return  (np.sqrt(np.mean(np.square((y_true - y_pred) / y_true))))"
   ]
  },
  {
   "cell_type": "code",
   "execution_count": 5,
   "metadata": {},
   "outputs": [],
   "source": [
    "def add_wap1(book):\n",
    "    book['wap1'] = (book['bid_price1'] * book['ask_size1'] + book['ask_price1'] * book['bid_size1']) / (\n",
    "              book['ask_size1'] + book['bid_size1'])\n",
    "\n",
    "def add_wap2(book):\n",
    "    book['wap2'] = (book['bid_price2'] * book['ask_size2'] + book['ask_price2'] * book['bid_size2']) / (\n",
    "              book['ask_size2'] + book['bid_size2'])\n",
    "\n",
    "def add_log_return1(book):\n",
    "    book['log_price1'] = np.log(book['wap1'])\n",
    "    book['log_return1'] = book.groupby(['time_id'])['log_price1'].diff()\n",
    "    \n",
    "def add_log_return2(book):\n",
    "    book['log_price2'] = np.log(book['wap2'])\n",
    "    book['log_return2'] = book.groupby(['time_id'])['log_price2'].diff()\n",
    "    \n",
    "def get_vol1(book):\n",
    "    return book.groupby(['time_id'])[['log_return1']].apply(lambda x: np.sum(x**2)**0.5).rename(\n",
    "    {'log_return1': 'vol1'})\n",
    "def get_vol2(book):\n",
    "    return book.groupby(['time_id'])[['log_return2']].apply(lambda x: np.sum(x**2)**0.5).rename(\n",
    "    {'log_return2': 'vol2'})"
   ]
  },
  {
   "cell_type": "code",
   "execution_count": 52,
   "metadata": {},
   "outputs": [],
   "source": [
    "train = pd.read_csv('../train.csv')"
   ]
  },
  {
   "cell_type": "code",
   "execution_count": 53,
   "metadata": {},
   "outputs": [],
   "source": [
    "stock_id = stock_ids[0]\n",
    "book = pd.read_parquet('../book_train.parquet/stock_id=' + str(stock_id))\n",
    "trades = pd.read_parquet('../trade_train.parquet/stock_id=' + str(stock_id))"
   ]
  },
  {
   "cell_type": "code",
   "execution_count": 54,
   "metadata": {},
   "outputs": [],
   "source": [
    "book = book.merge(trades, on=['time_id', 'seconds_in_bucket'], how='left')\n",
    "book['stock_id'] = stock_id"
   ]
  },
  {
   "cell_type": "code",
   "execution_count": 55,
   "metadata": {},
   "outputs": [],
   "source": [
    "add_wap1(book)\n",
    "add_wap2(book)\n",
    "\n",
    "add_log_return1(book)\n",
    "add_log_return2(book)"
   ]
  },
  {
   "cell_type": "code",
   "execution_count": 62,
   "metadata": {},
   "outputs": [],
   "source": [
    "book['spread'] = book['ask_price1'] - book['bid_price1']"
   ]
  },
  {
   "cell_type": "code",
   "execution_count": 74,
   "metadata": {},
   "outputs": [],
   "source": [
    "prices_col = ['bid_price1', 'ask_price1', 'bid_price2', 'ask_price2']\n",
    "sizes_col = ['bid_size1', 'ask_size1', 'bid_size2', 'ask_size2']"
   ]
  },
  {
   "cell_type": "code",
   "execution_count": 84,
   "metadata": {},
   "outputs": [],
   "source": [
    "book[[x + '_diff' for x in prices_col]] = book.groupby(['time_id', 'stock_id'])[prices_col].diff().fillna(0)\n",
    "book[[x + '_diff' for x in sizes_col]] = book.groupby(['time_id', 'stock_id'])[sizes_col].diff().fillna(0)"
   ]
  },
  {
   "cell_type": "code",
   "execution_count": 235,
   "metadata": {},
   "outputs": [],
   "source": [
    "def get_features1(book):\n",
    "    features1 = book.groupby(['time_id', 'stock_id'])[[x + '_diff' for x in prices_col]].agg(\n",
    "        ['mean', 'std'])\n",
    "    \n",
    "    return features1"
   ]
  },
  {
   "cell_type": "code",
   "execution_count": 236,
   "metadata": {},
   "outputs": [],
   "source": [
    "def get_features2(book):\n",
    "\n",
    "    features2 = book.groupby(['time_id', 'stock_id'])[[x + '_diff' for x in sizes_col]].agg(\n",
    "        ['mean', 'std'])\n",
    "    \n",
    "    return features2"
   ]
  },
  {
   "cell_type": "code",
   "execution_count": 237,
   "metadata": {},
   "outputs": [],
   "source": [
    "def get_features3(book):\n",
    "    features3 = book.dropna().groupby(['time_id', 'stock_id']).agg({'size': [np.sum, np.mean, np.std], \n",
    "                                                               'order_count': [np.sum, np.mean, np.std], \n",
    "                                                               'log_return1': lambda x: np.mean(np.abs(x)),\n",
    "                                                               'log_return2': lambda x: np.mean(np.abs(x))})\n",
    "    \n",
    "    return features3"
   ]
  },
  {
   "cell_type": "code",
   "execution_count": 238,
   "metadata": {},
   "outputs": [],
   "source": [
    "def get_features4(book):\n",
    "    features4 = book.groupby(['time_id', 'stock_id'])[['log_return1', 'log_return2']].agg(\n",
    "        lambda x: np.sqrt(np.sum(np.square(x)))).astype(float)\n",
    "    \n",
    "    return features4"
   ]
  },
  {
   "cell_type": "code",
   "execution_count": 239,
   "metadata": {},
   "outputs": [],
   "source": [
    "def get_features5(book):\n",
    "    features5 = book.groupby(['time_id', 'stock_id'])['spread'].agg(\n",
    "        ['mean', 'std'])\n",
    "    \n",
    "    return features5"
   ]
  },
  {
   "cell_type": "code",
   "execution_count": 412,
   "metadata": {},
   "outputs": [],
   "source": [
    "def get_features6(book):\n",
    "    features6 = book.groupby(['time_id', 'stock_id'])[sizes_col + ['spread']].last()\n",
    "    return features6"
   ]
  },
  {
   "cell_type": "code",
   "execution_count": 471,
   "metadata": {},
   "outputs": [],
   "source": [
    "def get_features7(df, cols):\n",
    "    pass"
   ]
  },
  {
   "cell_type": "code",
   "execution_count": 488,
   "metadata": {},
   "outputs": [
    {
     "ename": "InvalidIndexError",
     "evalue": "Reindexing only valid with uniquely valued Index objects",
     "output_type": "error",
     "traceback": [
      "\u001b[0;31m---------------------------------------------------------------------------\u001b[0m",
      "\u001b[0;31mInvalidIndexError\u001b[0m                         Traceback (most recent call last)",
      "\u001b[0;32m<ipython-input-488-3384b647ee1c>\u001b[0m in \u001b[0;36m<module>\u001b[0;34m\u001b[0m\n\u001b[0;32m----> 1\u001b[0;31m \u001b[0mdata_df\u001b[0m\u001b[0;34m[\u001b[0m\u001b[0;34m[\u001b[0m\u001b[0;34m'time_id'\u001b[0m\u001b[0;34m,\u001b[0m\u001b[0;34m'log_return1'\u001b[0m\u001b[0;34m,\u001b[0m \u001b[0;34m'log_return2'\u001b[0m\u001b[0;34m]\u001b[0m\u001b[0;34m]\u001b[0m\u001b[0;34m.\u001b[0m\u001b[0mgroupby\u001b[0m\u001b[0;34m(\u001b[0m\u001b[0;34m'time_id'\u001b[0m\u001b[0;34m)\u001b[0m\u001b[0;34m.\u001b[0m\u001b[0magg\u001b[0m\u001b[0;34m(\u001b[0m\u001b[0;34m[\u001b[0m\u001b[0;34m'mean'\u001b[0m\u001b[0;34m,\u001b[0m \u001b[0;34m'std'\u001b[0m\u001b[0;34m,\u001b[0m \u001b[0;34m'max'\u001b[0m\u001b[0;34m,\u001b[0m \u001b[0;34m'min'\u001b[0m\u001b[0;34m]\u001b[0m\u001b[0;34m)\u001b[0m\u001b[0;34m\u001b[0m\u001b[0;34m\u001b[0m\u001b[0m\n\u001b[0m",
      "\u001b[0;32m~/anaconda3/lib/python3.7/site-packages/pandas/core/groupby/generic.py\u001b[0m in \u001b[0;36maggregate\u001b[0;34m(self, func, *args, **kwargs)\u001b[0m\n\u001b[1;32m    938\u001b[0m         \u001b[0mfunc\u001b[0m \u001b[0;34m=\u001b[0m \u001b[0m_maybe_mangle_lambdas\u001b[0m\u001b[0;34m(\u001b[0m\u001b[0mfunc\u001b[0m\u001b[0;34m)\u001b[0m\u001b[0;34m\u001b[0m\u001b[0;34m\u001b[0m\u001b[0m\n\u001b[1;32m    939\u001b[0m \u001b[0;34m\u001b[0m\u001b[0m\n\u001b[0;32m--> 940\u001b[0;31m         \u001b[0mresult\u001b[0m\u001b[0;34m,\u001b[0m \u001b[0mhow\u001b[0m \u001b[0;34m=\u001b[0m \u001b[0mself\u001b[0m\u001b[0;34m.\u001b[0m\u001b[0m_aggregate\u001b[0m\u001b[0;34m(\u001b[0m\u001b[0mfunc\u001b[0m\u001b[0;34m,\u001b[0m \u001b[0;34m*\u001b[0m\u001b[0margs\u001b[0m\u001b[0;34m,\u001b[0m \u001b[0;34m**\u001b[0m\u001b[0mkwargs\u001b[0m\u001b[0;34m)\u001b[0m\u001b[0;34m\u001b[0m\u001b[0;34m\u001b[0m\u001b[0m\n\u001b[0m\u001b[1;32m    941\u001b[0m         \u001b[0;32mif\u001b[0m \u001b[0mhow\u001b[0m \u001b[0;32mis\u001b[0m \u001b[0;32mNone\u001b[0m\u001b[0;34m:\u001b[0m\u001b[0;34m\u001b[0m\u001b[0;34m\u001b[0m\u001b[0m\n\u001b[1;32m    942\u001b[0m             \u001b[0;32mreturn\u001b[0m \u001b[0mresult\u001b[0m\u001b[0;34m\u001b[0m\u001b[0;34m\u001b[0m\u001b[0m\n",
      "\u001b[0;32m~/anaconda3/lib/python3.7/site-packages/pandas/core/base.py\u001b[0m in \u001b[0;36m_aggregate\u001b[0;34m(self, arg, *args, **kwargs)\u001b[0m\n\u001b[1;32m    484\u001b[0m         \u001b[0;32melif\u001b[0m \u001b[0mis_list_like\u001b[0m\u001b[0;34m(\u001b[0m\u001b[0marg\u001b[0m\u001b[0;34m)\u001b[0m\u001b[0;34m:\u001b[0m\u001b[0;34m\u001b[0m\u001b[0;34m\u001b[0m\u001b[0m\n\u001b[1;32m    485\u001b[0m             \u001b[0;31m# we require a list, but not an 'str'\u001b[0m\u001b[0;34m\u001b[0m\u001b[0;34m\u001b[0m\u001b[0;34m\u001b[0m\u001b[0m\n\u001b[0;32m--> 486\u001b[0;31m             \u001b[0;32mreturn\u001b[0m \u001b[0mself\u001b[0m\u001b[0;34m.\u001b[0m\u001b[0m_aggregate_multiple_funcs\u001b[0m\u001b[0;34m(\u001b[0m\u001b[0marg\u001b[0m\u001b[0;34m,\u001b[0m \u001b[0m_axis\u001b[0m\u001b[0;34m=\u001b[0m\u001b[0m_axis\u001b[0m\u001b[0;34m)\u001b[0m\u001b[0;34m,\u001b[0m \u001b[0;32mNone\u001b[0m\u001b[0;34m\u001b[0m\u001b[0;34m\u001b[0m\u001b[0m\n\u001b[0m\u001b[1;32m    487\u001b[0m         \u001b[0;32melse\u001b[0m\u001b[0;34m:\u001b[0m\u001b[0;34m\u001b[0m\u001b[0;34m\u001b[0m\u001b[0m\n\u001b[1;32m    488\u001b[0m             \u001b[0mresult\u001b[0m \u001b[0;34m=\u001b[0m \u001b[0;32mNone\u001b[0m\u001b[0;34m\u001b[0m\u001b[0;34m\u001b[0m\u001b[0m\n",
      "\u001b[0;32m~/anaconda3/lib/python3.7/site-packages/pandas/core/base.py\u001b[0m in \u001b[0;36m_aggregate_multiple_funcs\u001b[0;34m(self, arg, _axis)\u001b[0m\n\u001b[1;32m    552\u001b[0m \u001b[0;34m\u001b[0m\u001b[0m\n\u001b[1;32m    553\u001b[0m         \u001b[0;32mtry\u001b[0m\u001b[0;34m:\u001b[0m\u001b[0;34m\u001b[0m\u001b[0;34m\u001b[0m\u001b[0m\n\u001b[0;32m--> 554\u001b[0;31m             \u001b[0;32mreturn\u001b[0m \u001b[0mconcat\u001b[0m\u001b[0;34m(\u001b[0m\u001b[0mresults\u001b[0m\u001b[0;34m,\u001b[0m \u001b[0mkeys\u001b[0m\u001b[0;34m=\u001b[0m\u001b[0mkeys\u001b[0m\u001b[0;34m,\u001b[0m \u001b[0maxis\u001b[0m\u001b[0;34m=\u001b[0m\u001b[0;36m1\u001b[0m\u001b[0;34m,\u001b[0m \u001b[0msort\u001b[0m\u001b[0;34m=\u001b[0m\u001b[0;32mFalse\u001b[0m\u001b[0;34m)\u001b[0m\u001b[0;34m\u001b[0m\u001b[0;34m\u001b[0m\u001b[0m\n\u001b[0m\u001b[1;32m    555\u001b[0m         \u001b[0;32mexcept\u001b[0m \u001b[0mTypeError\u001b[0m\u001b[0;34m:\u001b[0m\u001b[0;34m\u001b[0m\u001b[0;34m\u001b[0m\u001b[0m\n\u001b[1;32m    556\u001b[0m \u001b[0;34m\u001b[0m\u001b[0m\n",
      "\u001b[0;32m~/anaconda3/lib/python3.7/site-packages/pandas/core/reshape/concat.py\u001b[0m in \u001b[0;36mconcat\u001b[0;34m(objs, axis, join, ignore_index, keys, levels, names, verify_integrity, sort, copy)\u001b[0m\n\u001b[1;32m    279\u001b[0m         \u001b[0mverify_integrity\u001b[0m\u001b[0;34m=\u001b[0m\u001b[0mverify_integrity\u001b[0m\u001b[0;34m,\u001b[0m\u001b[0;34m\u001b[0m\u001b[0;34m\u001b[0m\u001b[0m\n\u001b[1;32m    280\u001b[0m         \u001b[0mcopy\u001b[0m\u001b[0;34m=\u001b[0m\u001b[0mcopy\u001b[0m\u001b[0;34m,\u001b[0m\u001b[0;34m\u001b[0m\u001b[0;34m\u001b[0m\u001b[0m\n\u001b[0;32m--> 281\u001b[0;31m         \u001b[0msort\u001b[0m\u001b[0;34m=\u001b[0m\u001b[0msort\u001b[0m\u001b[0;34m,\u001b[0m\u001b[0;34m\u001b[0m\u001b[0;34m\u001b[0m\u001b[0m\n\u001b[0m\u001b[1;32m    282\u001b[0m     )\n\u001b[1;32m    283\u001b[0m \u001b[0;34m\u001b[0m\u001b[0m\n",
      "\u001b[0;32m~/anaconda3/lib/python3.7/site-packages/pandas/core/reshape/concat.py\u001b[0m in \u001b[0;36m__init__\u001b[0;34m(self, objs, axis, join, keys, levels, names, ignore_index, verify_integrity, copy, sort)\u001b[0m\n\u001b[1;32m    450\u001b[0m         \u001b[0mself\u001b[0m\u001b[0;34m.\u001b[0m\u001b[0mcopy\u001b[0m \u001b[0;34m=\u001b[0m \u001b[0mcopy\u001b[0m\u001b[0;34m\u001b[0m\u001b[0;34m\u001b[0m\u001b[0m\n\u001b[1;32m    451\u001b[0m \u001b[0;34m\u001b[0m\u001b[0m\n\u001b[0;32m--> 452\u001b[0;31m         \u001b[0mself\u001b[0m\u001b[0;34m.\u001b[0m\u001b[0mnew_axes\u001b[0m \u001b[0;34m=\u001b[0m \u001b[0mself\u001b[0m\u001b[0;34m.\u001b[0m\u001b[0m_get_new_axes\u001b[0m\u001b[0;34m(\u001b[0m\u001b[0;34m)\u001b[0m\u001b[0;34m\u001b[0m\u001b[0;34m\u001b[0m\u001b[0m\n\u001b[0m\u001b[1;32m    453\u001b[0m \u001b[0;34m\u001b[0m\u001b[0m\n\u001b[1;32m    454\u001b[0m     \u001b[0;32mdef\u001b[0m \u001b[0mget_result\u001b[0m\u001b[0;34m(\u001b[0m\u001b[0mself\u001b[0m\u001b[0;34m)\u001b[0m\u001b[0;34m:\u001b[0m\u001b[0;34m\u001b[0m\u001b[0;34m\u001b[0m\u001b[0m\n",
      "\u001b[0;32m~/anaconda3/lib/python3.7/site-packages/pandas/core/reshape/concat.py\u001b[0m in \u001b[0;36m_get_new_axes\u001b[0;34m(self)\u001b[0m\n\u001b[1;32m    515\u001b[0m         return [\n\u001b[1;32m    516\u001b[0m             \u001b[0mself\u001b[0m\u001b[0;34m.\u001b[0m\u001b[0m_get_concat_axis\u001b[0m\u001b[0;34m(\u001b[0m\u001b[0;34m)\u001b[0m \u001b[0;32mif\u001b[0m \u001b[0mi\u001b[0m \u001b[0;34m==\u001b[0m \u001b[0mself\u001b[0m\u001b[0;34m.\u001b[0m\u001b[0maxis\u001b[0m \u001b[0;32melse\u001b[0m \u001b[0mself\u001b[0m\u001b[0;34m.\u001b[0m\u001b[0m_get_comb_axis\u001b[0m\u001b[0;34m(\u001b[0m\u001b[0mi\u001b[0m\u001b[0;34m)\u001b[0m\u001b[0;34m\u001b[0m\u001b[0;34m\u001b[0m\u001b[0m\n\u001b[0;32m--> 517\u001b[0;31m             \u001b[0;32mfor\u001b[0m \u001b[0mi\u001b[0m \u001b[0;32min\u001b[0m \u001b[0mrange\u001b[0m\u001b[0;34m(\u001b[0m\u001b[0mndim\u001b[0m\u001b[0;34m)\u001b[0m\u001b[0;34m\u001b[0m\u001b[0;34m\u001b[0m\u001b[0m\n\u001b[0m\u001b[1;32m    518\u001b[0m         ]\n\u001b[1;32m    519\u001b[0m \u001b[0;34m\u001b[0m\u001b[0m\n",
      "\u001b[0;32m~/anaconda3/lib/python3.7/site-packages/pandas/core/reshape/concat.py\u001b[0m in \u001b[0;36m<listcomp>\u001b[0;34m(.0)\u001b[0m\n\u001b[1;32m    515\u001b[0m         return [\n\u001b[1;32m    516\u001b[0m             \u001b[0mself\u001b[0m\u001b[0;34m.\u001b[0m\u001b[0m_get_concat_axis\u001b[0m\u001b[0;34m(\u001b[0m\u001b[0;34m)\u001b[0m \u001b[0;32mif\u001b[0m \u001b[0mi\u001b[0m \u001b[0;34m==\u001b[0m \u001b[0mself\u001b[0m\u001b[0;34m.\u001b[0m\u001b[0maxis\u001b[0m \u001b[0;32melse\u001b[0m \u001b[0mself\u001b[0m\u001b[0;34m.\u001b[0m\u001b[0m_get_comb_axis\u001b[0m\u001b[0;34m(\u001b[0m\u001b[0mi\u001b[0m\u001b[0;34m)\u001b[0m\u001b[0;34m\u001b[0m\u001b[0;34m\u001b[0m\u001b[0m\n\u001b[0;32m--> 517\u001b[0;31m             \u001b[0;32mfor\u001b[0m \u001b[0mi\u001b[0m \u001b[0;32min\u001b[0m \u001b[0mrange\u001b[0m\u001b[0;34m(\u001b[0m\u001b[0mndim\u001b[0m\u001b[0;34m)\u001b[0m\u001b[0;34m\u001b[0m\u001b[0;34m\u001b[0m\u001b[0m\n\u001b[0m\u001b[1;32m    518\u001b[0m         ]\n\u001b[1;32m    519\u001b[0m \u001b[0;34m\u001b[0m\u001b[0m\n",
      "\u001b[0;32m~/anaconda3/lib/python3.7/site-packages/pandas/core/reshape/concat.py\u001b[0m in \u001b[0;36m_get_concat_axis\u001b[0;34m(self)\u001b[0m\n\u001b[1;32m    567\u001b[0m         \u001b[0;32melse\u001b[0m\u001b[0;34m:\u001b[0m\u001b[0;34m\u001b[0m\u001b[0;34m\u001b[0m\u001b[0m\n\u001b[1;32m    568\u001b[0m             concat_axis = _make_concat_multiindex(\n\u001b[0;32m--> 569\u001b[0;31m                 \u001b[0mindexes\u001b[0m\u001b[0;34m,\u001b[0m \u001b[0mself\u001b[0m\u001b[0;34m.\u001b[0m\u001b[0mkeys\u001b[0m\u001b[0;34m,\u001b[0m \u001b[0mself\u001b[0m\u001b[0;34m.\u001b[0m\u001b[0mlevels\u001b[0m\u001b[0;34m,\u001b[0m \u001b[0mself\u001b[0m\u001b[0;34m.\u001b[0m\u001b[0mnames\u001b[0m\u001b[0;34m\u001b[0m\u001b[0;34m\u001b[0m\u001b[0m\n\u001b[0m\u001b[1;32m    570\u001b[0m             )\n\u001b[1;32m    571\u001b[0m \u001b[0;34m\u001b[0m\u001b[0m\n",
      "\u001b[0;32m~/anaconda3/lib/python3.7/site-packages/pandas/core/reshape/concat.py\u001b[0m in \u001b[0;36m_make_concat_multiindex\u001b[0;34m(indexes, keys, levels, names)\u001b[0m\n\u001b[1;32m    675\u001b[0m     \u001b[0;32mfor\u001b[0m \u001b[0mhlevel\u001b[0m\u001b[0;34m,\u001b[0m \u001b[0mlevel\u001b[0m \u001b[0;32min\u001b[0m \u001b[0mzip\u001b[0m\u001b[0;34m(\u001b[0m\u001b[0mzipped\u001b[0m\u001b[0;34m,\u001b[0m \u001b[0mlevels\u001b[0m\u001b[0;34m)\u001b[0m\u001b[0;34m:\u001b[0m\u001b[0;34m\u001b[0m\u001b[0;34m\u001b[0m\u001b[0m\n\u001b[1;32m    676\u001b[0m         \u001b[0mhlevel\u001b[0m \u001b[0;34m=\u001b[0m \u001b[0mensure_index\u001b[0m\u001b[0;34m(\u001b[0m\u001b[0mhlevel\u001b[0m\u001b[0;34m)\u001b[0m\u001b[0;34m\u001b[0m\u001b[0;34m\u001b[0m\u001b[0m\n\u001b[0;32m--> 677\u001b[0;31m         \u001b[0mmapped\u001b[0m \u001b[0;34m=\u001b[0m \u001b[0mlevel\u001b[0m\u001b[0;34m.\u001b[0m\u001b[0mget_indexer\u001b[0m\u001b[0;34m(\u001b[0m\u001b[0mhlevel\u001b[0m\u001b[0;34m)\u001b[0m\u001b[0;34m\u001b[0m\u001b[0;34m\u001b[0m\u001b[0m\n\u001b[0m\u001b[1;32m    678\u001b[0m \u001b[0;34m\u001b[0m\u001b[0m\n\u001b[1;32m    679\u001b[0m         \u001b[0mmask\u001b[0m \u001b[0;34m=\u001b[0m \u001b[0mmapped\u001b[0m \u001b[0;34m==\u001b[0m \u001b[0;34m-\u001b[0m\u001b[0;36m1\u001b[0m\u001b[0;34m\u001b[0m\u001b[0;34m\u001b[0m\u001b[0m\n",
      "\u001b[0;32m~/anaconda3/lib/python3.7/site-packages/pandas/core/indexes/base.py\u001b[0m in \u001b[0;36mget_indexer\u001b[0;34m(self, target, method, limit, tolerance)\u001b[0m\n\u001b[1;32m   2732\u001b[0m         \u001b[0;32mif\u001b[0m \u001b[0;32mnot\u001b[0m \u001b[0mself\u001b[0m\u001b[0;34m.\u001b[0m\u001b[0mis_unique\u001b[0m\u001b[0;34m:\u001b[0m\u001b[0;34m\u001b[0m\u001b[0;34m\u001b[0m\u001b[0m\n\u001b[1;32m   2733\u001b[0m             raise InvalidIndexError(\n\u001b[0;32m-> 2734\u001b[0;31m                 \u001b[0;34m\"Reindexing only valid with uniquely valued Index objects\"\u001b[0m\u001b[0;34m\u001b[0m\u001b[0;34m\u001b[0m\u001b[0m\n\u001b[0m\u001b[1;32m   2735\u001b[0m             )\n\u001b[1;32m   2736\u001b[0m \u001b[0;34m\u001b[0m\u001b[0m\n",
      "\u001b[0;31mInvalidIndexError\u001b[0m: Reindexing only valid with uniquely valued Index objects"
     ]
    }
   ],
   "source": [
    "data_df[['time_id','log_return1', 'log_return2']].groupby('time_id').agg(['mean', 'std', 'max', 'min'])"
   ]
  },
  {
   "cell_type": "code",
   "execution_count": 490,
   "metadata": {},
   "outputs": [],
   "source": [
    "feature_functions = [get_features1, get_features2, get_features3, get_features4, get_features5]\n",
    "\n",
    "def get_features(book):\n",
    "    \n",
    "    add_wap1(book)\n",
    "    add_wap2(book)\n",
    "\n",
    "    add_log_return1(book)\n",
    "    add_log_return2(book)\n",
    "    \n",
    "    book['spread'] = book['ask_price1'] - book['bid_price1']\n",
    "    \n",
    "    prices_col = ['bid_price1', 'ask_price1', 'bid_price2', 'ask_price2']\n",
    "    sizes_col = ['bid_size1', 'ask_size1', 'bid_size2', 'ask_size2']\n",
    "    book[[x + '_diff' for x in prices_col]] = book.groupby(['time_id', 'stock_id'])[prices_col].diff().fillna(0)\n",
    "    book[[x + '_diff' for x in sizes_col]] = book.groupby(['time_id', 'stock_id'])[sizes_col].diff().fillna(0)\n",
    "    \n",
    "    \n",
    "    features = []\n",
    "    for snb in [0]:\n",
    "        features += [func(book[book.seconds_in_bucket >= snb]) for func in feature_functions]\n",
    "    \n",
    "    \n",
    "    features += [get_features6(book)]\n",
    "    \n",
    "    data_df = pd.concat(features, axis=1)\n",
    "    data_df.columns = [x[0] + '_' + x[1] if isinstance(x, tuple) else x for x in data_df.columns]\n",
    "    data_df = data_df.reset_index()\n",
    "    \n",
    "    return data_df"
   ]
  },
  {
   "cell_type": "code",
   "execution_count": 491,
   "metadata": {},
   "outputs": [
    {
     "name": "stderr",
     "output_type": "stream",
     "text": [
      "\n",
      "  0%|          | 0/5 [00:00<?, ?it/s]\u001b[A\n",
      " 20%|██        | 1/5 [00:10<00:42, 10.72s/it]\u001b[A\n",
      " 40%|████      | 2/5 [00:21<00:32, 10.89s/it]\u001b[A\n",
      " 60%|██████    | 3/5 [00:32<00:21, 10.78s/it]\u001b[A\n",
      " 80%|████████  | 4/5 [00:42<00:10, 10.44s/it]\u001b[A\n",
      "100%|██████████| 5/5 [00:51<00:00, 10.28s/it]\u001b[A\n"
     ]
    }
   ],
   "source": [
    "data_dfs = []\n",
    "\n",
    "for stock_id in tqdm(stock_ids[:5]):\n",
    "    book = pd.read_parquet('../book_train.parquet/stock_id=' + str(stock_id))\n",
    "    trades = pd.read_parquet('../trade_train.parquet/stock_id=' + str(stock_id))\n",
    "    \n",
    "    book = book.merge(trades, on=['time_id', 'seconds_in_bucket'], how='left')\n",
    "    book['stock_id'] = stock_id\n",
    "    \n",
    "    data_dfs.append(get_features(book))"
   ]
  },
  {
   "cell_type": "code",
   "execution_count": 416,
   "metadata": {},
   "outputs": [],
   "source": [
    "data_df = pd.concat(data_dfs)"
   ]
  },
  {
   "cell_type": "code",
   "execution_count": 417,
   "metadata": {},
   "outputs": [],
   "source": [
    "data_df = pd.merge(data_df, train, on=['time_id', 'stock_id'], how='left')"
   ]
  },
  {
   "cell_type": "code",
   "execution_count": 418,
   "metadata": {},
   "outputs": [],
   "source": [
    "time_ids = data_df.time_id.unique()"
   ]
  },
  {
   "cell_type": "code",
   "execution_count": 446,
   "metadata": {},
   "outputs": [],
   "source": [
    "seed = 519\n",
    "np.random.seed(seed)\n",
    "\n",
    "train_ratio = 0.9\n",
    "train_size = int(train_ratio * len(time_ids))\n",
    "\n",
    "train_inds = np.random.choice(range(len(time_ids)), size=train_size, replace=False)\n",
    "test_inds = np.delete(range(len(time_ids)), train_inds)\n",
    "\n",
    "train_time_ids = time_ids[train_inds]\n",
    "test_time_ids = time_ids[test_inds]"
   ]
  },
  {
   "cell_type": "code",
   "execution_count": 447,
   "metadata": {},
   "outputs": [],
   "source": [
    "X_train = data_df[data_df['time_id'].isin(train_time_ids)].drop(columns=['time_id', 'target'])\n",
    "X_test = data_df[data_df['time_id'].isin(test_time_ids)].drop(columns=['time_id', 'target'])\n",
    "\n",
    "y_train = data_df[data_df['time_id'].isin(train_time_ids)]['target']\n",
    "y_test = data_df[data_df['time_id'].isin(test_time_ids)]['target']"
   ]
  },
  {
   "cell_type": "code",
   "execution_count": 448,
   "metadata": {},
   "outputs": [],
   "source": [
    "from sklearn.metrics import make_scorer\n",
    "\n",
    "my_scorer = make_scorer(rmspe, greater_is_better=False)\n",
    "def lgb_scorer(y_true, y_pred, weights):\n",
    "    return 'rmspe', rmspe(y_true, y_pred), False"
   ]
  },
  {
   "cell_type": "code",
   "execution_count": 449,
   "metadata": {},
   "outputs": [],
   "source": [
    "import lightgbm as lgb"
   ]
  },
  {
   "cell_type": "code",
   "execution_count": 450,
   "metadata": {},
   "outputs": [],
   "source": [
    "reg = lgb.LGBMRegressor(num_leaves=31, learning_rate=0.1, n_estimators=300)"
   ]
  },
  {
   "cell_type": "code",
   "execution_count": 461,
   "metadata": {},
   "outputs": [
    {
     "data": {
      "text/plain": [
       "<AxesSubplot:xlabel='stock_id'>"
      ]
     },
     "execution_count": 461,
     "metadata": {},
     "output_type": "execute_result"
    },
    {
     "data": {
      "image/png": "[encoded data removed]",
      "text/plain": [
       "<Figure size 432x288 with 1 Axes>"
      ]
     },
     "metadata": {
      "needs_background": "light"
     },
     "output_type": "display_data"
    }
   ],
   "source": [
    "X_train.groupby(['stock_id'])['ask_size1'].mean().plot()"
   ]
  },
  {
   "cell_type": "code",
   "execution_count": 452,
   "metadata": {},
   "outputs": [
    {
     "name": "stdout",
     "output_type": "stream",
     "text": [
      "[1]\tvalid_0's l2: 9.83015e-06\tvalid_0's rmspe: 0.497003\n",
      "[2]\tvalid_0's l2: 8.58756e-06\tvalid_0's rmspe: 0.460005\n",
      "[3]\tvalid_0's l2: 7.55197e-06\tvalid_0's rmspe: 0.427681\n",
      "[4]\tvalid_0's l2: 6.68833e-06\tvalid_0's rmspe: 0.399453\n",
      "[5]\tvalid_0's l2: 5.97715e-06\tvalid_0's rmspe: 0.375402\n",
      "[6]\tvalid_0's l2: 5.3826e-06\tvalid_0's rmspe: 0.354654\n",
      "[7]\tvalid_0's l2: 4.87287e-06\tvalid_0's rmspe: 0.336749\n",
      "[8]\tvalid_0's l2: 4.45006e-06\tvalid_0's rmspe: 0.321511\n",
      "[9]\tvalid_0's l2: 4.0898e-06\tvalid_0's rmspe: 0.308449\n",
      "[10]\tvalid_0's l2: 3.7884e-06\tvalid_0's rmspe: 0.297683\n",
      "[11]\tvalid_0's l2: 3.53521e-06\tvalid_0's rmspe: 0.288424\n",
      "[12]\tvalid_0's l2: 3.32268e-06\tvalid_0's rmspe: 0.280684\n",
      "[13]\tvalid_0's l2: 3.13753e-06\tvalid_0's rmspe: 0.274254\n",
      "[14]\tvalid_0's l2: 2.97949e-06\tvalid_0's rmspe: 0.268814\n",
      "[15]\tvalid_0's l2: 2.8484e-06\tvalid_0's rmspe: 0.26438\n",
      "[16]\tvalid_0's l2: 2.73184e-06\tvalid_0's rmspe: 0.260618\n",
      "[17]\tvalid_0's l2: 2.63308e-06\tvalid_0's rmspe: 0.257575\n",
      "[18]\tvalid_0's l2: 2.54729e-06\tvalid_0's rmspe: 0.255033\n",
      "[19]\tvalid_0's l2: 2.47575e-06\tvalid_0's rmspe: 0.253001\n",
      "[20]\tvalid_0's l2: 2.41296e-06\tvalid_0's rmspe: 0.251215\n",
      "[21]\tvalid_0's l2: 2.35679e-06\tvalid_0's rmspe: 0.249727\n",
      "[22]\tvalid_0's l2: 2.30486e-06\tvalid_0's rmspe: 0.248419\n",
      "[23]\tvalid_0's l2: 2.26396e-06\tvalid_0's rmspe: 0.247327\n",
      "[24]\tvalid_0's l2: 2.22641e-06\tvalid_0's rmspe: 0.246462\n",
      "[25]\tvalid_0's l2: 2.19117e-06\tvalid_0's rmspe: 0.245789\n",
      "[26]\tvalid_0's l2: 2.16201e-06\tvalid_0's rmspe: 0.245116\n",
      "[27]\tvalid_0's l2: 2.13755e-06\tvalid_0's rmspe: 0.244591\n",
      "[28]\tvalid_0's l2: 2.11188e-06\tvalid_0's rmspe: 0.244166\n",
      "[29]\tvalid_0's l2: 2.09225e-06\tvalid_0's rmspe: 0.243821\n",
      "[30]\tvalid_0's l2: 2.07389e-06\tvalid_0's rmspe: 0.243542\n",
      "[31]\tvalid_0's l2: 2.05616e-06\tvalid_0's rmspe: 0.243193\n",
      "[32]\tvalid_0's l2: 2.04099e-06\tvalid_0's rmspe: 0.242912\n",
      "[33]\tvalid_0's l2: 2.02682e-06\tvalid_0's rmspe: 0.242622\n",
      "[34]\tvalid_0's l2: 2.01427e-06\tvalid_0's rmspe: 0.242403\n",
      "[35]\tvalid_0's l2: 2.00172e-06\tvalid_0's rmspe: 0.242163\n",
      "[36]\tvalid_0's l2: 1.99127e-06\tvalid_0's rmspe: 0.241922\n",
      "[37]\tvalid_0's l2: 1.9823e-06\tvalid_0's rmspe: 0.241669\n",
      "[38]\tvalid_0's l2: 1.97505e-06\tvalid_0's rmspe: 0.241463\n",
      "[39]\tvalid_0's l2: 1.96531e-06\tvalid_0's rmspe: 0.24126\n",
      "[40]\tvalid_0's l2: 1.95774e-06\tvalid_0's rmspe: 0.241146\n",
      "[41]\tvalid_0's l2: 1.95053e-06\tvalid_0's rmspe: 0.241031\n",
      "[42]\tvalid_0's l2: 1.94524e-06\tvalid_0's rmspe: 0.24088\n",
      "[43]\tvalid_0's l2: 1.94099e-06\tvalid_0's rmspe: 0.240831\n",
      "[44]\tvalid_0's l2: 1.93553e-06\tvalid_0's rmspe: 0.240704\n",
      "[45]\tvalid_0's l2: 1.93055e-06\tvalid_0's rmspe: 0.24056\n",
      "[46]\tvalid_0's l2: 1.92496e-06\tvalid_0's rmspe: 0.240484\n",
      "[47]\tvalid_0's l2: 1.91996e-06\tvalid_0's rmspe: 0.240371\n",
      "[48]\tvalid_0's l2: 1.91518e-06\tvalid_0's rmspe: 0.240259\n",
      "[49]\tvalid_0's l2: 1.91134e-06\tvalid_0's rmspe: 0.240193\n",
      "[50]\tvalid_0's l2: 1.90708e-06\tvalid_0's rmspe: 0.240184\n",
      "[51]\tvalid_0's l2: 1.90295e-06\tvalid_0's rmspe: 0.2401\n",
      "[52]\tvalid_0's l2: 1.90142e-06\tvalid_0's rmspe: 0.240014\n",
      "[53]\tvalid_0's l2: 1.89935e-06\tvalid_0's rmspe: 0.240092\n",
      "[54]\tvalid_0's l2: 1.89668e-06\tvalid_0's rmspe: 0.240034\n",
      "[55]\tvalid_0's l2: 1.89338e-06\tvalid_0's rmspe: 0.23997\n",
      "[56]\tvalid_0's l2: 1.8892e-06\tvalid_0's rmspe: 0.239975\n",
      "[57]\tvalid_0's l2: 1.8868e-06\tvalid_0's rmspe: 0.239981\n",
      "[58]\tvalid_0's l2: 1.88343e-06\tvalid_0's rmspe: 0.239915\n",
      "[59]\tvalid_0's l2: 1.88145e-06\tvalid_0's rmspe: 0.239786\n",
      "[60]\tvalid_0's l2: 1.87851e-06\tvalid_0's rmspe: 0.239713\n",
      "[61]\tvalid_0's l2: 1.8765e-06\tvalid_0's rmspe: 0.239675\n",
      "[62]\tvalid_0's l2: 1.87377e-06\tvalid_0's rmspe: 0.239638\n",
      "[63]\tvalid_0's l2: 1.87209e-06\tvalid_0's rmspe: 0.239574\n",
      "[64]\tvalid_0's l2: 1.8694e-06\tvalid_0's rmspe: 0.23951\n",
      "[65]\tvalid_0's l2: 1.86653e-06\tvalid_0's rmspe: 0.23944\n",
      "[66]\tvalid_0's l2: 1.86434e-06\tvalid_0's rmspe: 0.239432\n",
      "[67]\tvalid_0's l2: 1.86226e-06\tvalid_0's rmspe: 0.23937\n",
      "[68]\tvalid_0's l2: 1.86019e-06\tvalid_0's rmspe: 0.239272\n",
      "[69]\tvalid_0's l2: 1.85869e-06\tvalid_0's rmspe: 0.239149\n",
      "[70]\tvalid_0's l2: 1.85469e-06\tvalid_0's rmspe: 0.239129\n",
      "[71]\tvalid_0's l2: 1.85274e-06\tvalid_0's rmspe: 0.239106\n",
      "[72]\tvalid_0's l2: 1.85066e-06\tvalid_0's rmspe: 0.239034\n",
      "[73]\tvalid_0's l2: 1.84954e-06\tvalid_0's rmspe: 0.238956\n",
      "[74]\tvalid_0's l2: 1.84791e-06\tvalid_0's rmspe: 0.238932\n",
      "[75]\tvalid_0's l2: 1.84701e-06\tvalid_0's rmspe: 0.238906\n",
      "[76]\tvalid_0's l2: 1.84546e-06\tvalid_0's rmspe: 0.238812\n",
      "[77]\tvalid_0's l2: 1.8448e-06\tvalid_0's rmspe: 0.23875\n",
      "[78]\tvalid_0's l2: 1.84382e-06\tvalid_0's rmspe: 0.238715\n",
      "[79]\tvalid_0's l2: 1.84262e-06\tvalid_0's rmspe: 0.238735\n",
      "[80]\tvalid_0's l2: 1.83886e-06\tvalid_0's rmspe: 0.238664\n",
      "[81]\tvalid_0's l2: 1.83821e-06\tvalid_0's rmspe: 0.238613\n",
      "[82]\tvalid_0's l2: 1.83722e-06\tvalid_0's rmspe: 0.238684\n",
      "[83]\tvalid_0's l2: 1.83571e-06\tvalid_0's rmspe: 0.238653\n",
      "[84]\tvalid_0's l2: 1.83468e-06\tvalid_0's rmspe: 0.238672\n",
      "[85]\tvalid_0's l2: 1.83303e-06\tvalid_0's rmspe: 0.238651\n",
      "[86]\tvalid_0's l2: 1.83241e-06\tvalid_0's rmspe: 0.238768\n",
      "[87]\tvalid_0's l2: 1.83121e-06\tvalid_0's rmspe: 0.238701\n",
      "[88]\tvalid_0's l2: 1.83023e-06\tvalid_0's rmspe: 0.238656\n",
      "[89]\tvalid_0's l2: 1.82966e-06\tvalid_0's rmspe: 0.238595\n",
      "[90]\tvalid_0's l2: 1.82875e-06\tvalid_0's rmspe: 0.238534\n",
      "[91]\tvalid_0's l2: 1.82832e-06\tvalid_0's rmspe: 0.238465\n",
      "[92]\tvalid_0's l2: 1.8266e-06\tvalid_0's rmspe: 0.238425\n",
      "[93]\tvalid_0's l2: 1.82576e-06\tvalid_0's rmspe: 0.238376\n",
      "[94]\tvalid_0's l2: 1.82362e-06\tvalid_0's rmspe: 0.238338\n",
      "[95]\tvalid_0's l2: 1.82326e-06\tvalid_0's rmspe: 0.23846\n",
      "[96]\tvalid_0's l2: 1.82229e-06\tvalid_0's rmspe: 0.238416\n",
      "[97]\tvalid_0's l2: 1.81951e-06\tvalid_0's rmspe: 0.238366\n",
      "[98]\tvalid_0's l2: 1.81943e-06\tvalid_0's rmspe: 0.238667\n",
      "[99]\tvalid_0's l2: 1.81885e-06\tvalid_0's rmspe: 0.23865\n",
      "[100]\tvalid_0's l2: 1.81845e-06\tvalid_0's rmspe: 0.238683\n",
      "[101]\tvalid_0's l2: 1.81752e-06\tvalid_0's rmspe: 0.238652\n",
      "[102]\tvalid_0's l2: 1.81705e-06\tvalid_0's rmspe: 0.238638\n",
      "[103]\tvalid_0's l2: 1.81592e-06\tvalid_0's rmspe: 0.238679\n",
      "[104]\tvalid_0's l2: 1.81511e-06\tvalid_0's rmspe: 0.238633\n",
      "[105]\tvalid_0's l2: 1.81366e-06\tvalid_0's rmspe: 0.238594\n",
      "[106]\tvalid_0's l2: 1.81249e-06\tvalid_0's rmspe: 0.238556\n",
      "[107]\tvalid_0's l2: 1.81058e-06\tvalid_0's rmspe: 0.238476\n",
      "[108]\tvalid_0's l2: 1.81066e-06\tvalid_0's rmspe: 0.238636\n",
      "[109]\tvalid_0's l2: 1.80942e-06\tvalid_0's rmspe: 0.238616\n",
      "[110]\tvalid_0's l2: 1.80825e-06\tvalid_0's rmspe: 0.238578\n",
      "[111]\tvalid_0's l2: 1.80832e-06\tvalid_0's rmspe: 0.238571\n",
      "[112]\tvalid_0's l2: 1.80764e-06\tvalid_0's rmspe: 0.238548\n",
      "[113]\tvalid_0's l2: 1.80598e-06\tvalid_0's rmspe: 0.238517\n",
      "[114]\tvalid_0's l2: 1.80499e-06\tvalid_0's rmspe: 0.238485\n",
      "[115]\tvalid_0's l2: 1.80394e-06\tvalid_0's rmspe: 0.238395\n",
      "[116]\tvalid_0's l2: 1.80322e-06\tvalid_0's rmspe: 0.23872\n",
      "[117]\tvalid_0's l2: 1.80268e-06\tvalid_0's rmspe: 0.238691\n",
      "[118]\tvalid_0's l2: 1.80299e-06\tvalid_0's rmspe: 0.238672\n",
      "[119]\tvalid_0's l2: 1.80228e-06\tvalid_0's rmspe: 0.238633\n",
      "[120]\tvalid_0's l2: 1.80083e-06\tvalid_0's rmspe: 0.238638\n",
      "[121]\tvalid_0's l2: 1.80092e-06\tvalid_0's rmspe: 0.238642\n",
      "[122]\tvalid_0's l2: 1.79955e-06\tvalid_0's rmspe: 0.238594\n",
      "[123]\tvalid_0's l2: 1.79955e-06\tvalid_0's rmspe: 0.238581\n",
      "[124]\tvalid_0's l2: 1.79874e-06\tvalid_0's rmspe: 0.238546\n",
      "[125]\tvalid_0's l2: 1.79835e-06\tvalid_0's rmspe: 0.238521\n",
      "[126]\tvalid_0's l2: 1.79775e-06\tvalid_0's rmspe: 0.238502\n",
      "[127]\tvalid_0's l2: 1.79707e-06\tvalid_0's rmspe: 0.238474\n",
      "[128]\tvalid_0's l2: 1.79537e-06\tvalid_0's rmspe: 0.238446\n",
      "[129]\tvalid_0's l2: 1.79504e-06\tvalid_0's rmspe: 0.238433\n",
      "[130]\tvalid_0's l2: 1.79435e-06\tvalid_0's rmspe: 0.238407\n",
      "[131]\tvalid_0's l2: 1.79434e-06\tvalid_0's rmspe: 0.238451\n",
      "[132]\tvalid_0's l2: 1.79373e-06\tvalid_0's rmspe: 0.238417\n",
      "[133]\tvalid_0's l2: 1.79328e-06\tvalid_0's rmspe: 0.238394\n",
      "[134]\tvalid_0's l2: 1.79329e-06\tvalid_0's rmspe: 0.238553\n",
      "[135]\tvalid_0's l2: 1.7915e-06\tvalid_0's rmspe: 0.238544\n",
      "[136]\tvalid_0's l2: 1.79142e-06\tvalid_0's rmspe: 0.238557\n",
      "[137]\tvalid_0's l2: 1.79075e-06\tvalid_0's rmspe: 0.238547\n",
      "[138]\tvalid_0's l2: 1.79019e-06\tvalid_0's rmspe: 0.238551\n",
      "[139]\tvalid_0's l2: 1.78942e-06\tvalid_0's rmspe: 0.238482\n",
      "[140]\tvalid_0's l2: 1.78899e-06\tvalid_0's rmspe: 0.23844\n",
      "[141]\tvalid_0's l2: 1.78838e-06\tvalid_0's rmspe: 0.238406\n",
      "[142]\tvalid_0's l2: 1.78738e-06\tvalid_0's rmspe: 0.238367\n",
      "[143]\tvalid_0's l2: 1.78693e-06\tvalid_0's rmspe: 0.238384\n",
      "[144]\tvalid_0's l2: 1.78618e-06\tvalid_0's rmspe: 0.238371\n",
      "[145]\tvalid_0's l2: 1.7859e-06\tvalid_0's rmspe: 0.238352\n",
      "[146]\tvalid_0's l2: 1.78493e-06\tvalid_0's rmspe: 0.23833\n"
     ]
    },
    {
     "name": "stdout",
     "output_type": "stream",
     "text": [
      "[147]\tvalid_0's l2: 1.78507e-06\tvalid_0's rmspe: 0.238537\n",
      "[148]\tvalid_0's l2: 1.7839e-06\tvalid_0's rmspe: 0.238506\n",
      "[149]\tvalid_0's l2: 1.78319e-06\tvalid_0's rmspe: 0.238494\n",
      "[150]\tvalid_0's l2: 1.7834e-06\tvalid_0's rmspe: 0.238476\n",
      "[151]\tvalid_0's l2: 1.7824e-06\tvalid_0's rmspe: 0.238468\n",
      "[152]\tvalid_0's l2: 1.78132e-06\tvalid_0's rmspe: 0.238412\n",
      "[153]\tvalid_0's l2: 1.78104e-06\tvalid_0's rmspe: 0.238384\n",
      "[154]\tvalid_0's l2: 1.78101e-06\tvalid_0's rmspe: 0.238512\n",
      "[155]\tvalid_0's l2: 1.78025e-06\tvalid_0's rmspe: 0.238491\n",
      "[156]\tvalid_0's l2: 1.77944e-06\tvalid_0's rmspe: 0.238481\n",
      "[157]\tvalid_0's l2: 1.77874e-06\tvalid_0's rmspe: 0.23846\n",
      "[158]\tvalid_0's l2: 1.77792e-06\tvalid_0's rmspe: 0.238461\n",
      "[159]\tvalid_0's l2: 1.77763e-06\tvalid_0's rmspe: 0.238426\n",
      "[160]\tvalid_0's l2: 1.77734e-06\tvalid_0's rmspe: 0.238419\n",
      "[161]\tvalid_0's l2: 1.77645e-06\tvalid_0's rmspe: 0.238592\n",
      "[162]\tvalid_0's l2: 1.77603e-06\tvalid_0's rmspe: 0.238588\n",
      "[163]\tvalid_0's l2: 1.7756e-06\tvalid_0's rmspe: 0.238557\n",
      "[164]\tvalid_0's l2: 1.7753e-06\tvalid_0's rmspe: 0.238608\n",
      "[165]\tvalid_0's l2: 1.77525e-06\tvalid_0's rmspe: 0.238572\n",
      "[166]\tvalid_0's l2: 1.77497e-06\tvalid_0's rmspe: 0.238561\n",
      "[167]\tvalid_0's l2: 1.77437e-06\tvalid_0's rmspe: 0.238692\n",
      "[168]\tvalid_0's l2: 1.77434e-06\tvalid_0's rmspe: 0.238696\n",
      "[169]\tvalid_0's l2: 1.77467e-06\tvalid_0's rmspe: 0.238697\n",
      "[170]\tvalid_0's l2: 1.77476e-06\tvalid_0's rmspe: 0.238688\n",
      "[171]\tvalid_0's l2: 1.77425e-06\tvalid_0's rmspe: 0.238705\n",
      "[172]\tvalid_0's l2: 1.77409e-06\tvalid_0's rmspe: 0.238723\n",
      "[173]\tvalid_0's l2: 1.77387e-06\tvalid_0's rmspe: 0.238752\n",
      "[174]\tvalid_0's l2: 1.7733e-06\tvalid_0's rmspe: 0.238733\n",
      "[175]\tvalid_0's l2: 1.77271e-06\tvalid_0's rmspe: 0.238735\n",
      "[176]\tvalid_0's l2: 1.77301e-06\tvalid_0's rmspe: 0.238707\n",
      "[177]\tvalid_0's l2: 1.77287e-06\tvalid_0's rmspe: 0.23869\n",
      "[178]\tvalid_0's l2: 1.77201e-06\tvalid_0's rmspe: 0.238686\n",
      "[179]\tvalid_0's l2: 1.771e-06\tvalid_0's rmspe: 0.238677\n",
      "[180]\tvalid_0's l2: 1.7703e-06\tvalid_0's rmspe: 0.238658\n",
      "[181]\tvalid_0's l2: 1.76977e-06\tvalid_0's rmspe: 0.238644\n",
      "[182]\tvalid_0's l2: 1.76921e-06\tvalid_0's rmspe: 0.238629\n",
      "[183]\tvalid_0's l2: 1.76885e-06\tvalid_0's rmspe: 0.238619\n",
      "[184]\tvalid_0's l2: 1.76803e-06\tvalid_0's rmspe: 0.238605\n",
      "[185]\tvalid_0's l2: 1.76766e-06\tvalid_0's rmspe: 0.238632\n",
      "[186]\tvalid_0's l2: 1.76756e-06\tvalid_0's rmspe: 0.238628\n",
      "[187]\tvalid_0's l2: 1.76695e-06\tvalid_0's rmspe: 0.238626\n",
      "[188]\tvalid_0's l2: 1.76631e-06\tvalid_0's rmspe: 0.238606\n",
      "[189]\tvalid_0's l2: 1.76578e-06\tvalid_0's rmspe: 0.238581\n",
      "[190]\tvalid_0's l2: 1.76492e-06\tvalid_0's rmspe: 0.238544\n",
      "[191]\tvalid_0's l2: 1.76507e-06\tvalid_0's rmspe: 0.238541\n",
      "[192]\tvalid_0's l2: 1.76437e-06\tvalid_0's rmspe: 0.238527\n",
      "[193]\tvalid_0's l2: 1.76431e-06\tvalid_0's rmspe: 0.238507\n",
      "[194]\tvalid_0's l2: 1.76428e-06\tvalid_0's rmspe: 0.238495\n",
      "[195]\tvalid_0's l2: 1.76411e-06\tvalid_0's rmspe: 0.238481\n",
      "[196]\tvalid_0's l2: 1.76444e-06\tvalid_0's rmspe: 0.238475\n",
      "[197]\tvalid_0's l2: 1.76415e-06\tvalid_0's rmspe: 0.238551\n",
      "[198]\tvalid_0's l2: 1.76355e-06\tvalid_0's rmspe: 0.238529\n",
      "[199]\tvalid_0's l2: 1.76332e-06\tvalid_0's rmspe: 0.238529\n",
      "[200]\tvalid_0's l2: 1.76239e-06\tvalid_0's rmspe: 0.238519\n",
      "[201]\tvalid_0's l2: 1.76165e-06\tvalid_0's rmspe: 0.238524\n",
      "[202]\tvalid_0's l2: 1.76144e-06\tvalid_0's rmspe: 0.238521\n",
      "[203]\tvalid_0's l2: 1.76128e-06\tvalid_0's rmspe: 0.238504\n",
      "[204]\tvalid_0's l2: 1.7607e-06\tvalid_0's rmspe: 0.238485\n",
      "[205]\tvalid_0's l2: 1.76039e-06\tvalid_0's rmspe: 0.238467\n",
      "[206]\tvalid_0's l2: 1.76008e-06\tvalid_0's rmspe: 0.238458\n",
      "[207]\tvalid_0's l2: 1.75984e-06\tvalid_0's rmspe: 0.23844\n",
      "[208]\tvalid_0's l2: 1.76e-06\tvalid_0's rmspe: 0.238435\n",
      "[209]\tvalid_0's l2: 1.75973e-06\tvalid_0's rmspe: 0.238416\n",
      "[210]\tvalid_0's l2: 1.75965e-06\tvalid_0's rmspe: 0.238391\n",
      "[211]\tvalid_0's l2: 1.75953e-06\tvalid_0's rmspe: 0.23838\n",
      "[212]\tvalid_0's l2: 1.75956e-06\tvalid_0's rmspe: 0.238381\n",
      "[213]\tvalid_0's l2: 1.75875e-06\tvalid_0's rmspe: 0.238381\n",
      "[214]\tvalid_0's l2: 1.75702e-06\tvalid_0's rmspe: 0.238337\n",
      "[215]\tvalid_0's l2: 1.75699e-06\tvalid_0's rmspe: 0.238619\n",
      "[216]\tvalid_0's l2: 1.75681e-06\tvalid_0's rmspe: 0.23861\n",
      "[217]\tvalid_0's l2: 1.75609e-06\tvalid_0's rmspe: 0.238601\n",
      "[218]\tvalid_0's l2: 1.75624e-06\tvalid_0's rmspe: 0.238599\n",
      "[219]\tvalid_0's l2: 1.75614e-06\tvalid_0's rmspe: 0.238573\n",
      "[220]\tvalid_0's l2: 1.756e-06\tvalid_0's rmspe: 0.238586\n",
      "[221]\tvalid_0's l2: 1.75592e-06\tvalid_0's rmspe: 0.238564\n",
      "[222]\tvalid_0's l2: 1.75592e-06\tvalid_0's rmspe: 0.238672\n",
      "[223]\tvalid_0's l2: 1.75416e-06\tvalid_0's rmspe: 0.238667\n",
      "[224]\tvalid_0's l2: 1.75372e-06\tvalid_0's rmspe: 0.238708\n",
      "[225]\tvalid_0's l2: 1.75332e-06\tvalid_0's rmspe: 0.238695\n",
      "[226]\tvalid_0's l2: 1.75324e-06\tvalid_0's rmspe: 0.23871\n",
      "[227]\tvalid_0's l2: 1.75316e-06\tvalid_0's rmspe: 0.2387\n",
      "[228]\tvalid_0's l2: 1.75265e-06\tvalid_0's rmspe: 0.238674\n",
      "[229]\tvalid_0's l2: 1.75184e-06\tvalid_0's rmspe: 0.238661\n",
      "[230]\tvalid_0's l2: 1.75131e-06\tvalid_0's rmspe: 0.238656\n",
      "[231]\tvalid_0's l2: 1.75094e-06\tvalid_0's rmspe: 0.238644\n",
      "[232]\tvalid_0's l2: 1.75029e-06\tvalid_0's rmspe: 0.238634\n",
      "[233]\tvalid_0's l2: 1.74967e-06\tvalid_0's rmspe: 0.23863\n",
      "[234]\tvalid_0's l2: 1.74959e-06\tvalid_0's rmspe: 0.238635\n",
      "[235]\tvalid_0's l2: 1.74959e-06\tvalid_0's rmspe: 0.238607\n",
      "[236]\tvalid_0's l2: 1.74884e-06\tvalid_0's rmspe: 0.238598\n",
      "[237]\tvalid_0's l2: 1.74864e-06\tvalid_0's rmspe: 0.238599\n",
      "[238]\tvalid_0's l2: 1.74744e-06\tvalid_0's rmspe: 0.238579\n",
      "[239]\tvalid_0's l2: 1.74729e-06\tvalid_0's rmspe: 0.238564\n",
      "[240]\tvalid_0's l2: 1.74655e-06\tvalid_0's rmspe: 0.238564\n",
      "[241]\tvalid_0's l2: 1.74601e-06\tvalid_0's rmspe: 0.238552\n",
      "[242]\tvalid_0's l2: 1.7461e-06\tvalid_0's rmspe: 0.238543\n",
      "[243]\tvalid_0's l2: 1.74567e-06\tvalid_0's rmspe: 0.238542\n",
      "[244]\tvalid_0's l2: 1.74428e-06\tvalid_0's rmspe: 0.238564\n",
      "[245]\tvalid_0's l2: 1.74396e-06\tvalid_0's rmspe: 0.238573\n",
      "[246]\tvalid_0's l2: 1.74395e-06\tvalid_0's rmspe: 0.238588\n",
      "[247]\tvalid_0's l2: 1.74369e-06\tvalid_0's rmspe: 0.238582\n",
      "[248]\tvalid_0's l2: 1.74368e-06\tvalid_0's rmspe: 0.23858\n",
      "[249]\tvalid_0's l2: 1.74219e-06\tvalid_0's rmspe: 0.238569\n",
      "[250]\tvalid_0's l2: 1.74164e-06\tvalid_0's rmspe: 0.238566\n",
      "[251]\tvalid_0's l2: 1.74149e-06\tvalid_0's rmspe: 0.238557\n",
      "[252]\tvalid_0's l2: 1.74158e-06\tvalid_0's rmspe: 0.23856\n",
      "[253]\tvalid_0's l2: 1.74166e-06\tvalid_0's rmspe: 0.238566\n",
      "[254]\tvalid_0's l2: 1.74141e-06\tvalid_0's rmspe: 0.238558\n",
      "[255]\tvalid_0's l2: 1.74131e-06\tvalid_0's rmspe: 0.238565\n",
      "[256]\tvalid_0's l2: 1.74128e-06\tvalid_0's rmspe: 0.238567\n",
      "[257]\tvalid_0's l2: 1.7412e-06\tvalid_0's rmspe: 0.238792\n",
      "[258]\tvalid_0's l2: 1.74072e-06\tvalid_0's rmspe: 0.238788\n",
      "[259]\tvalid_0's l2: 1.7398e-06\tvalid_0's rmspe: 0.238768\n",
      "[260]\tvalid_0's l2: 1.73939e-06\tvalid_0's rmspe: 0.238781\n",
      "[261]\tvalid_0's l2: 1.73942e-06\tvalid_0's rmspe: 0.238783\n",
      "[262]\tvalid_0's l2: 1.73904e-06\tvalid_0's rmspe: 0.238789\n",
      "[263]\tvalid_0's l2: 1.73879e-06\tvalid_0's rmspe: 0.238785\n",
      "[264]\tvalid_0's l2: 1.73883e-06\tvalid_0's rmspe: 0.238869\n",
      "[265]\tvalid_0's l2: 1.73834e-06\tvalid_0's rmspe: 0.238866\n",
      "[266]\tvalid_0's l2: 1.73833e-06\tvalid_0's rmspe: 0.238908\n",
      "[267]\tvalid_0's l2: 1.73754e-06\tvalid_0's rmspe: 0.238884\n",
      "[268]\tvalid_0's l2: 1.73737e-06\tvalid_0's rmspe: 0.239113\n",
      "[269]\tvalid_0's l2: 1.73751e-06\tvalid_0's rmspe: 0.239113\n",
      "[270]\tvalid_0's l2: 1.73732e-06\tvalid_0's rmspe: 0.239109\n",
      "[271]\tvalid_0's l2: 1.73703e-06\tvalid_0's rmspe: 0.2391\n",
      "[272]\tvalid_0's l2: 1.73664e-06\tvalid_0's rmspe: 0.239097\n",
      "[273]\tvalid_0's l2: 1.73659e-06\tvalid_0's rmspe: 0.239085\n",
      "[274]\tvalid_0's l2: 1.73661e-06\tvalid_0's rmspe: 0.239072\n",
      "[275]\tvalid_0's l2: 1.73556e-06\tvalid_0's rmspe: 0.2391\n",
      "[276]\tvalid_0's l2: 1.73554e-06\tvalid_0's rmspe: 0.239089\n",
      "[277]\tvalid_0's l2: 1.73546e-06\tvalid_0's rmspe: 0.23909\n",
      "[278]\tvalid_0's l2: 1.73539e-06\tvalid_0's rmspe: 0.23945\n",
      "[279]\tvalid_0's l2: 1.73532e-06\tvalid_0's rmspe: 0.23964\n",
      "[280]\tvalid_0's l2: 1.73492e-06\tvalid_0's rmspe: 0.23965\n",
      "[281]\tvalid_0's l2: 1.73504e-06\tvalid_0's rmspe: 0.239648\n",
      "[282]\tvalid_0's l2: 1.73466e-06\tvalid_0's rmspe: 0.239645\n",
      "[283]\tvalid_0's l2: 1.73399e-06\tvalid_0's rmspe: 0.239634\n",
      "[284]\tvalid_0's l2: 1.73367e-06\tvalid_0's rmspe: 0.239627\n",
      "[285]\tvalid_0's l2: 1.7336e-06\tvalid_0's rmspe: 0.239622\n",
      "[286]\tvalid_0's l2: 1.7333e-06\tvalid_0's rmspe: 0.239613\n",
      "[287]\tvalid_0's l2: 1.73289e-06\tvalid_0's rmspe: 0.239585\n",
      "[288]\tvalid_0's l2: 1.73306e-06\tvalid_0's rmspe: 0.239586\n",
      "[289]\tvalid_0's l2: 1.7327e-06\tvalid_0's rmspe: 0.239578\n"
     ]
    },
    {
     "name": "stdout",
     "output_type": "stream",
     "text": [
      "[290]\tvalid_0's l2: 1.73255e-06\tvalid_0's rmspe: 0.239564\n",
      "[291]\tvalid_0's l2: 1.73226e-06\tvalid_0's rmspe: 0.239551\n",
      "[292]\tvalid_0's l2: 1.73223e-06\tvalid_0's rmspe: 0.239526\n",
      "[293]\tvalid_0's l2: 1.7315e-06\tvalid_0's rmspe: 0.239499\n",
      "[294]\tvalid_0's l2: 1.73223e-06\tvalid_0's rmspe: 0.239498\n",
      "[295]\tvalid_0's l2: 1.73218e-06\tvalid_0's rmspe: 0.23951\n",
      "[296]\tvalid_0's l2: 1.7321e-06\tvalid_0's rmspe: 0.239493\n",
      "[297]\tvalid_0's l2: 1.73193e-06\tvalid_0's rmspe: 0.239481\n",
      "[298]\tvalid_0's l2: 1.73183e-06\tvalid_0's rmspe: 0.23949\n",
      "[299]\tvalid_0's l2: 1.73109e-06\tvalid_0's rmspe: 0.239494\n",
      "[300]\tvalid_0's l2: 1.73087e-06\tvalid_0's rmspe: 0.2395\n"
     ]
    },
    {
     "data": {
      "text/plain": [
       "LGBMRegressor(boosting_type='gbdt', class_weight=None, colsample_bytree=1.0,\n",
       "              importance_type='split', learning_rate=0.1, max_depth=-1,\n",
       "              min_child_samples=20, min_child_weight=0.001, min_split_gain=0.0,\n",
       "              n_estimators=300, n_jobs=-1, num_leaves=31, objective=None,\n",
       "              random_state=None, reg_alpha=0.0, reg_lambda=0.0, silent=True,\n",
       "              subsample=1.0, subsample_for_bin=200000, subsample_freq=0)"
      ]
     },
     "execution_count": 452,
     "metadata": {},
     "output_type": "execute_result"
    }
   ],
   "source": [
    "reg.fit(X_train, y_train, sample_weight=1 / np.square(y_train), \n",
    "       eval_set=(X_test, y_test), \n",
    "                        eval_metric=lgb_scorer)"
   ]
  },
  {
   "cell_type": "code",
   "execution_count": 453,
   "metadata": {},
   "outputs": [
    {
     "data": {
      "text/plain": [
       "0.2394998120724511"
      ]
     },
     "execution_count": 453,
     "metadata": {},
     "output_type": "execute_result"
    }
   ],
   "source": [
    "rmspe(y_test, reg.predict(X_test))"
   ]
  },
  {
   "cell_type": "code",
   "execution_count": 454,
   "metadata": {},
   "outputs": [
    {
     "data": {
      "text/plain": [
       "0.2181799505668542"
      ]
     },
     "execution_count": 454,
     "metadata": {},
     "output_type": "execute_result"
    }
   ],
   "source": [
    "rmspe(y_train, reg.predict(X_train))"
   ]
  },
  {
   "cell_type": "code",
   "execution_count": 431,
   "metadata": {},
   "outputs": [
    {
     "data": {
      "text/plain": [
       "(386037, 118)"
      ]
     },
     "execution_count": 431,
     "metadata": {},
     "output_type": "execute_result"
    }
   ],
   "source": [
    "X_train.shape"
   ]
  },
  {
   "cell_type": "code",
   "execution_count": 430,
   "metadata": {},
   "outputs": [
    {
     "data": {
      "text/plain": [
       "array([464,  26,  64,  35,  75,  34,  47,  45,  42,  62,  39,  60,  52,\n",
       "        76,  52,  61,  44,  74, 104, 119, 150,  66, 165, 112,  59, 277,\n",
       "       159, 307, 276,  29,  42,  23,  60,  37,  37,  27,  58,  49,  55,\n",
       "        52,  35,  44,  35,  44,  42,  38,  29,  36, 172,  38,  51, 112,\n",
       "        68, 194,  95, 103,  72,  27,  84,  34,  79,  25,  55,  26,  49,\n",
       "        48,  41,  41,  39,  46,  42,  35,  55,  48,  37,  48, 200,  42,\n",
       "        57, 104,  73, 204, 115, 144,  60,  49,  62,  36,  52,  26,  59,\n",
       "        38,  55,  53,  36,  47,  41,  48,  53,  48,  51,  51,  42,  37,\n",
       "       218,  54,  48,  97,  73, 195, 138, 185,  99,  49,  47,  65,  48,\n",
       "       119], dtype=int32)"
      ]
     },
     "execution_count": 430,
     "metadata": {},
     "output_type": "execute_result"
    }
   ],
   "source": [
    "reg.feature_importances_"
   ]
  }
 ],
 "metadata": {
  "kernelspec": {
   "display_name": "Python 3",
   "language": "python",
   "name": "python3"
  },
  "language_info": {
   "codemirror_mode": {
    "name": "ipython",
    "version": 3
   },
   "file_extension": ".py",
   "mimetype": "text/x-python",
   "name": "python",
   "nbconvert_exporter": "python",
   "pygments_lexer": "ipython3",
   "version": "3.7.6"
  }
 },
 "nbformat": 4,
 "nbformat_minor": 4
}
